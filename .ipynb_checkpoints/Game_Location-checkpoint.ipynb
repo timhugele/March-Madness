{
 "cells": [
  {
   "cell_type": "code",
   "execution_count": 2,
   "metadata": {},
   "outputs": [],
   "source": [
    "import numpy as np\n",
    "import pandas as pd"
   ]
  },
  {
   "cell_type": "code",
   "execution_count": 312,
   "metadata": {},
   "outputs": [],
   "source": [
    "game_cities = pd.read_csv('Data/Stage2DataFiles/GameCities.csv')"
   ]
  },
  {
   "cell_type": "code",
   "execution_count": 30,
   "metadata": {},
   "outputs": [],
   "source": [
    "cities = pd.read_csv('Data/Stage2DataFiles/cities.csv')"
   ]
  },
  {
   "cell_type": "code",
   "execution_count": 31,
   "metadata": {},
   "outputs": [
    {
     "data": {
      "text/html": [
       "<div>\n",
       "<style scoped>\n",
       "    .dataframe tbody tr th:only-of-type {\n",
       "        vertical-align: middle;\n",
       "    }\n",
       "\n",
       "    .dataframe tbody tr th {\n",
       "        vertical-align: top;\n",
       "    }\n",
       "\n",
       "    .dataframe thead th {\n",
       "        text-align: right;\n",
       "    }\n",
       "</style>\n",
       "<table border=\"1\" class=\"dataframe\">\n",
       "  <thead>\n",
       "    <tr style=\"text-align: right;\">\n",
       "      <th></th>\n",
       "      <th>CityID</th>\n",
       "      <th>City</th>\n",
       "      <th>State</th>\n",
       "    </tr>\n",
       "  </thead>\n",
       "  <tbody>\n",
       "    <tr>\n",
       "      <td>0</td>\n",
       "      <td>4001</td>\n",
       "      <td>Abilene</td>\n",
       "      <td>TX</td>\n",
       "    </tr>\n",
       "    <tr>\n",
       "      <td>1</td>\n",
       "      <td>4002</td>\n",
       "      <td>Akron</td>\n",
       "      <td>OH</td>\n",
       "    </tr>\n",
       "    <tr>\n",
       "      <td>2</td>\n",
       "      <td>4003</td>\n",
       "      <td>Albany</td>\n",
       "      <td>NY</td>\n",
       "    </tr>\n",
       "    <tr>\n",
       "      <td>3</td>\n",
       "      <td>4004</td>\n",
       "      <td>Albuquerque</td>\n",
       "      <td>NM</td>\n",
       "    </tr>\n",
       "    <tr>\n",
       "      <td>4</td>\n",
       "      <td>4005</td>\n",
       "      <td>Allentown</td>\n",
       "      <td>PA</td>\n",
       "    </tr>\n",
       "  </tbody>\n",
       "</table>\n",
       "</div>"
      ],
      "text/plain": [
       "   CityID         City State\n",
       "0    4001      Abilene    TX\n",
       "1    4002        Akron    OH\n",
       "2    4003       Albany    NY\n",
       "3    4004  Albuquerque    NM\n",
       "4    4005    Allentown    PA"
      ]
     },
     "execution_count": 31,
     "metadata": {},
     "output_type": "execute_result"
    }
   ],
   "source": [
    "cities.head()"
   ]
  },
  {
   "cell_type": "code",
   "execution_count": 32,
   "metadata": {},
   "outputs": [],
   "source": [
    "CitiesEnriched = pd.read_csv('Data/CitiesEnriched.csv')"
   ]
  },
  {
   "cell_type": "code",
   "execution_count": 33,
   "metadata": {},
   "outputs": [
    {
     "data": {
      "text/html": [
       "<div>\n",
       "<style scoped>\n",
       "    .dataframe tbody tr th:only-of-type {\n",
       "        vertical-align: middle;\n",
       "    }\n",
       "\n",
       "    .dataframe tbody tr th {\n",
       "        vertical-align: top;\n",
       "    }\n",
       "\n",
       "    .dataframe thead th {\n",
       "        text-align: right;\n",
       "    }\n",
       "</style>\n",
       "<table border=\"1\" class=\"dataframe\">\n",
       "  <thead>\n",
       "    <tr style=\"text-align: right;\">\n",
       "      <th></th>\n",
       "      <th>CityID</th>\n",
       "      <th>City</th>\n",
       "      <th>State</th>\n",
       "      <th>Lat</th>\n",
       "      <th>Lng</th>\n",
       "      <th>ElevationMeters</th>\n",
       "      <th>TimezoneName</th>\n",
       "      <th>UTCOffsetHours</th>\n",
       "    </tr>\n",
       "  </thead>\n",
       "  <tbody>\n",
       "    <tr>\n",
       "      <td>0</td>\n",
       "      <td>4001</td>\n",
       "      <td>Abilene</td>\n",
       "      <td>TX</td>\n",
       "      <td>32.448736</td>\n",
       "      <td>-99.733144</td>\n",
       "      <td>520.911560</td>\n",
       "      <td>Central Daylight Time</td>\n",
       "      <td>-5.0</td>\n",
       "    </tr>\n",
       "    <tr>\n",
       "      <td>1</td>\n",
       "      <td>4002</td>\n",
       "      <td>Akron</td>\n",
       "      <td>OH</td>\n",
       "      <td>41.081445</td>\n",
       "      <td>-81.519005</td>\n",
       "      <td>292.694763</td>\n",
       "      <td>Eastern Daylight Time</td>\n",
       "      <td>-4.0</td>\n",
       "    </tr>\n",
       "    <tr>\n",
       "      <td>2</td>\n",
       "      <td>4003</td>\n",
       "      <td>Albany</td>\n",
       "      <td>NY</td>\n",
       "      <td>42.652579</td>\n",
       "      <td>-73.756232</td>\n",
       "      <td>42.680080</td>\n",
       "      <td>Eastern Daylight Time</td>\n",
       "      <td>-4.0</td>\n",
       "    </tr>\n",
       "    <tr>\n",
       "      <td>3</td>\n",
       "      <td>4004</td>\n",
       "      <td>Albuquerque</td>\n",
       "      <td>NM</td>\n",
       "      <td>35.085334</td>\n",
       "      <td>-106.605553</td>\n",
       "      <td>1583.187500</td>\n",
       "      <td>Mountain Daylight Time</td>\n",
       "      <td>-6.0</td>\n",
       "    </tr>\n",
       "    <tr>\n",
       "      <td>4</td>\n",
       "      <td>4005</td>\n",
       "      <td>Allentown</td>\n",
       "      <td>PA</td>\n",
       "      <td>40.608430</td>\n",
       "      <td>-75.490183</td>\n",
       "      <td>104.915565</td>\n",
       "      <td>Eastern Daylight Time</td>\n",
       "      <td>-4.0</td>\n",
       "    </tr>\n",
       "  </tbody>\n",
       "</table>\n",
       "</div>"
      ],
      "text/plain": [
       "   CityID         City State        Lat         Lng  ElevationMeters  \\\n",
       "0    4001      Abilene    TX  32.448736  -99.733144       520.911560   \n",
       "1    4002        Akron    OH  41.081445  -81.519005       292.694763   \n",
       "2    4003       Albany    NY  42.652579  -73.756232        42.680080   \n",
       "3    4004  Albuquerque    NM  35.085334 -106.605553      1583.187500   \n",
       "4    4005    Allentown    PA  40.608430  -75.490183       104.915565   \n",
       "\n",
       "             TimezoneName  UTCOffsetHours  \n",
       "0   Central Daylight Time            -5.0  \n",
       "1   Eastern Daylight Time            -4.0  \n",
       "2   Eastern Daylight Time            -4.0  \n",
       "3  Mountain Daylight Time            -6.0  \n",
       "4   Eastern Daylight Time            -4.0  "
      ]
     },
     "execution_count": 33,
     "metadata": {},
     "output_type": "execute_result"
    }
   ],
   "source": [
    "CitiesEnriched.head()"
   ]
  },
  {
   "cell_type": "code",
   "execution_count": 34,
   "metadata": {},
   "outputs": [
    {
     "data": {
      "text/html": [
       "<div>\n",
       "<style scoped>\n",
       "    .dataframe tbody tr th:only-of-type {\n",
       "        vertical-align: middle;\n",
       "    }\n",
       "\n",
       "    .dataframe tbody tr th {\n",
       "        vertical-align: top;\n",
       "    }\n",
       "\n",
       "    .dataframe thead th {\n",
       "        text-align: right;\n",
       "    }\n",
       "</style>\n",
       "<table border=\"1\" class=\"dataframe\">\n",
       "  <thead>\n",
       "    <tr style=\"text-align: right;\">\n",
       "      <th></th>\n",
       "      <th>Season</th>\n",
       "      <th>DayNum</th>\n",
       "      <th>WTeamID</th>\n",
       "      <th>LTeamID</th>\n",
       "      <th>CRType</th>\n",
       "      <th>CityID</th>\n",
       "    </tr>\n",
       "  </thead>\n",
       "  <tbody>\n",
       "    <tr>\n",
       "      <td>0</td>\n",
       "      <td>2010</td>\n",
       "      <td>7</td>\n",
       "      <td>1143</td>\n",
       "      <td>1293</td>\n",
       "      <td>Regular</td>\n",
       "      <td>4027</td>\n",
       "    </tr>\n",
       "    <tr>\n",
       "      <td>1</td>\n",
       "      <td>2010</td>\n",
       "      <td>7</td>\n",
       "      <td>1314</td>\n",
       "      <td>1198</td>\n",
       "      <td>Regular</td>\n",
       "      <td>4061</td>\n",
       "    </tr>\n",
       "    <tr>\n",
       "      <td>2</td>\n",
       "      <td>2010</td>\n",
       "      <td>7</td>\n",
       "      <td>1326</td>\n",
       "      <td>1108</td>\n",
       "      <td>Regular</td>\n",
       "      <td>4080</td>\n",
       "    </tr>\n",
       "    <tr>\n",
       "      <td>3</td>\n",
       "      <td>2010</td>\n",
       "      <td>7</td>\n",
       "      <td>1393</td>\n",
       "      <td>1107</td>\n",
       "      <td>Regular</td>\n",
       "      <td>4340</td>\n",
       "    </tr>\n",
       "    <tr>\n",
       "      <td>4</td>\n",
       "      <td>2010</td>\n",
       "      <td>9</td>\n",
       "      <td>1143</td>\n",
       "      <td>1178</td>\n",
       "      <td>Regular</td>\n",
       "      <td>4027</td>\n",
       "    </tr>\n",
       "  </tbody>\n",
       "</table>\n",
       "</div>"
      ],
      "text/plain": [
       "   Season  DayNum  WTeamID  LTeamID   CRType  CityID\n",
       "0    2010       7     1143     1293  Regular    4027\n",
       "1    2010       7     1314     1198  Regular    4061\n",
       "2    2010       7     1326     1108  Regular    4080\n",
       "3    2010       7     1393     1107  Regular    4340\n",
       "4    2010       9     1143     1178  Regular    4027"
      ]
     },
     "execution_count": 34,
     "metadata": {},
     "output_type": "execute_result"
    }
   ],
   "source": [
    "game_cities.head()"
   ]
  },
  {
   "cell_type": "code",
   "execution_count": 35,
   "metadata": {},
   "outputs": [
    {
     "data": {
      "text/plain": [
       "Regular      53430\n",
       "Secondary      668\n",
       "NCAA           600\n",
       "Name: CRType, dtype: int64"
      ]
     },
     "execution_count": 35,
     "metadata": {},
     "output_type": "execute_result"
    }
   ],
   "source": [
    "game_cities['CRType'].value_counts()"
   ]
  },
  {
   "cell_type": "code",
   "execution_count": 36,
   "metadata": {},
   "outputs": [],
   "source": [
    "NCAA_t_games = game_cities[game_cities['CRType'] == 'NCAA']"
   ]
  },
  {
   "cell_type": "code",
   "execution_count": 37,
   "metadata": {},
   "outputs": [
    {
     "data": {
      "text/html": [
       "<div>\n",
       "<style scoped>\n",
       "    .dataframe tbody tr th:only-of-type {\n",
       "        vertical-align: middle;\n",
       "    }\n",
       "\n",
       "    .dataframe tbody tr th {\n",
       "        vertical-align: top;\n",
       "    }\n",
       "\n",
       "    .dataframe thead th {\n",
       "        text-align: right;\n",
       "    }\n",
       "</style>\n",
       "<table border=\"1\" class=\"dataframe\">\n",
       "  <thead>\n",
       "    <tr style=\"text-align: right;\">\n",
       "      <th></th>\n",
       "      <th>Season</th>\n",
       "      <th>DayNum</th>\n",
       "      <th>WTeamID</th>\n",
       "      <th>LTeamID</th>\n",
       "      <th>CRType</th>\n",
       "      <th>CityID</th>\n",
       "    </tr>\n",
       "  </thead>\n",
       "  <tbody>\n",
       "    <tr>\n",
       "      <td>5263</td>\n",
       "      <td>2010</td>\n",
       "      <td>134</td>\n",
       "      <td>1115</td>\n",
       "      <td>1457</td>\n",
       "      <td>NCAA</td>\n",
       "      <td>4091</td>\n",
       "    </tr>\n",
       "    <tr>\n",
       "      <td>5295</td>\n",
       "      <td>2010</td>\n",
       "      <td>136</td>\n",
       "      <td>1124</td>\n",
       "      <td>1358</td>\n",
       "      <td>NCAA</td>\n",
       "      <td>4237</td>\n",
       "    </tr>\n",
       "    <tr>\n",
       "      <td>5296</td>\n",
       "      <td>2010</td>\n",
       "      <td>136</td>\n",
       "      <td>1139</td>\n",
       "      <td>1431</td>\n",
       "      <td>NCAA</td>\n",
       "      <td>4305</td>\n",
       "    </tr>\n",
       "    <tr>\n",
       "      <td>5297</td>\n",
       "      <td>2010</td>\n",
       "      <td>136</td>\n",
       "      <td>1140</td>\n",
       "      <td>1196</td>\n",
       "      <td>NCAA</td>\n",
       "      <td>4254</td>\n",
       "    </tr>\n",
       "    <tr>\n",
       "      <td>5298</td>\n",
       "      <td>2010</td>\n",
       "      <td>136</td>\n",
       "      <td>1242</td>\n",
       "      <td>1250</td>\n",
       "      <td>NCAA</td>\n",
       "      <td>4254</td>\n",
       "    </tr>\n",
       "  </tbody>\n",
       "</table>\n",
       "</div>"
      ],
      "text/plain": [
       "      Season  DayNum  WTeamID  LTeamID CRType  CityID\n",
       "5263    2010     134     1115     1457   NCAA    4091\n",
       "5295    2010     136     1124     1358   NCAA    4237\n",
       "5296    2010     136     1139     1431   NCAA    4305\n",
       "5297    2010     136     1140     1196   NCAA    4254\n",
       "5298    2010     136     1242     1250   NCAA    4254"
      ]
     },
     "execution_count": 37,
     "metadata": {},
     "output_type": "execute_result"
    }
   ],
   "source": [
    "NCAA_t_games.head()"
   ]
  },
  {
   "cell_type": "code",
   "execution_count": 38,
   "metadata": {},
   "outputs": [],
   "source": [
    "NCAA_2010 = NCAA_t_games[NCAA_t_games['Season'] == 2010]"
   ]
  },
  {
   "cell_type": "code",
   "execution_count": 39,
   "metadata": {},
   "outputs": [
    {
     "data": {
      "text/plain": [
       "4281    6\n",
       "4215    6\n",
       "4324    6\n",
       "4254    6\n",
       "4305    6\n",
       "4237    6\n",
       "4168    6\n",
       "4049    6\n",
       "4301    3\n",
       "4157    3\n",
       "4340    3\n",
       "4329    3\n",
       "4161    3\n",
       "4091    1\n",
       "Name: CityID, dtype: int64"
      ]
     },
     "execution_count": 39,
     "metadata": {},
     "output_type": "execute_result"
    }
   ],
   "source": [
    "NCAA_2010['CityID'].value_counts()"
   ]
  },
  {
   "cell_type": "code",
   "execution_count": 40,
   "metadata": {},
   "outputs": [
    {
     "data": {
      "text/plain": [
       "54698"
      ]
     },
     "execution_count": 40,
     "metadata": {},
     "output_type": "execute_result"
    }
   ],
   "source": [
    "len(game_cities)"
   ]
  },
  {
   "cell_type": "code",
   "execution_count": 41,
   "metadata": {},
   "outputs": [
    {
     "data": {
      "text/plain": [
       "427"
      ]
     },
     "execution_count": 41,
     "metadata": {},
     "output_type": "execute_result"
    }
   ],
   "source": [
    "len(cities)"
   ]
  },
  {
   "cell_type": "code",
   "execution_count": 42,
   "metadata": {},
   "outputs": [],
   "source": [
    "game_cities = pd.merge(game_cities, CitiesEnriched, on = ['CityID'], how = 'left')"
   ]
  },
  {
   "cell_type": "code",
   "execution_count": 43,
   "metadata": {},
   "outputs": [
    {
     "data": {
      "text/html": [
       "<div>\n",
       "<style scoped>\n",
       "    .dataframe tbody tr th:only-of-type {\n",
       "        vertical-align: middle;\n",
       "    }\n",
       "\n",
       "    .dataframe tbody tr th {\n",
       "        vertical-align: top;\n",
       "    }\n",
       "\n",
       "    .dataframe thead th {\n",
       "        text-align: right;\n",
       "    }\n",
       "</style>\n",
       "<table border=\"1\" class=\"dataframe\">\n",
       "  <thead>\n",
       "    <tr style=\"text-align: right;\">\n",
       "      <th></th>\n",
       "      <th>Season</th>\n",
       "      <th>DayNum</th>\n",
       "      <th>WTeamID</th>\n",
       "      <th>LTeamID</th>\n",
       "      <th>CRType</th>\n",
       "      <th>CityID</th>\n",
       "      <th>City</th>\n",
       "      <th>State</th>\n",
       "      <th>Lat</th>\n",
       "      <th>Lng</th>\n",
       "      <th>ElevationMeters</th>\n",
       "      <th>TimezoneName</th>\n",
       "      <th>UTCOffsetHours</th>\n",
       "    </tr>\n",
       "  </thead>\n",
       "  <tbody>\n",
       "    <tr>\n",
       "      <td>54693</td>\n",
       "      <td>2019</td>\n",
       "      <td>132</td>\n",
       "      <td>1153</td>\n",
       "      <td>1222</td>\n",
       "      <td>Regular</td>\n",
       "      <td>4213</td>\n",
       "      <td>Memphis</td>\n",
       "      <td>TN</td>\n",
       "      <td>35.149534</td>\n",
       "      <td>-90.048980</td>\n",
       "      <td>79.196014</td>\n",
       "      <td>Central Daylight Time</td>\n",
       "      <td>-5.0</td>\n",
       "    </tr>\n",
       "    <tr>\n",
       "      <td>54694</td>\n",
       "      <td>2019</td>\n",
       "      <td>132</td>\n",
       "      <td>1209</td>\n",
       "      <td>1426</td>\n",
       "      <td>Regular</td>\n",
       "      <td>4237</td>\n",
       "      <td>New Orleans</td>\n",
       "      <td>LA</td>\n",
       "      <td>29.951066</td>\n",
       "      <td>-90.071532</td>\n",
       "      <td>0.521789</td>\n",
       "      <td>Central Daylight Time</td>\n",
       "      <td>-5.0</td>\n",
       "    </tr>\n",
       "    <tr>\n",
       "      <td>54695</td>\n",
       "      <td>2019</td>\n",
       "      <td>132</td>\n",
       "      <td>1277</td>\n",
       "      <td>1276</td>\n",
       "      <td>Regular</td>\n",
       "      <td>4071</td>\n",
       "      <td>Chicago</td>\n",
       "      <td>IL</td>\n",
       "      <td>41.878114</td>\n",
       "      <td>-87.629798</td>\n",
       "      <td>181.514374</td>\n",
       "      <td>Central Daylight Time</td>\n",
       "      <td>-5.0</td>\n",
       "    </tr>\n",
       "    <tr>\n",
       "      <td>54696</td>\n",
       "      <td>2019</td>\n",
       "      <td>132</td>\n",
       "      <td>1387</td>\n",
       "      <td>1382</td>\n",
       "      <td>Regular</td>\n",
       "      <td>4047</td>\n",
       "      <td>Brooklyn</td>\n",
       "      <td>NY</td>\n",
       "      <td>40.678178</td>\n",
       "      <td>-73.944158</td>\n",
       "      <td>18.053314</td>\n",
       "      <td>Eastern Daylight Time</td>\n",
       "      <td>-4.0</td>\n",
       "    </tr>\n",
       "    <tr>\n",
       "      <td>54697</td>\n",
       "      <td>2019</td>\n",
       "      <td>132</td>\n",
       "      <td>1463</td>\n",
       "      <td>1217</td>\n",
       "      <td>Regular</td>\n",
       "      <td>4236</td>\n",
       "      <td>New Haven</td>\n",
       "      <td>CT</td>\n",
       "      <td>41.308274</td>\n",
       "      <td>-72.927883</td>\n",
       "      <td>12.357306</td>\n",
       "      <td>Eastern Daylight Time</td>\n",
       "      <td>-4.0</td>\n",
       "    </tr>\n",
       "  </tbody>\n",
       "</table>\n",
       "</div>"
      ],
      "text/plain": [
       "       Season  DayNum  WTeamID  LTeamID   CRType  CityID         City State  \\\n",
       "54693    2019     132     1153     1222  Regular    4213      Memphis    TN   \n",
       "54694    2019     132     1209     1426  Regular    4237  New Orleans    LA   \n",
       "54695    2019     132     1277     1276  Regular    4071      Chicago    IL   \n",
       "54696    2019     132     1387     1382  Regular    4047     Brooklyn    NY   \n",
       "54697    2019     132     1463     1217  Regular    4236    New Haven    CT   \n",
       "\n",
       "             Lat        Lng  ElevationMeters           TimezoneName  \\\n",
       "54693  35.149534 -90.048980        79.196014  Central Daylight Time   \n",
       "54694  29.951066 -90.071532         0.521789  Central Daylight Time   \n",
       "54695  41.878114 -87.629798       181.514374  Central Daylight Time   \n",
       "54696  40.678178 -73.944158        18.053314  Eastern Daylight Time   \n",
       "54697  41.308274 -72.927883        12.357306  Eastern Daylight Time   \n",
       "\n",
       "       UTCOffsetHours  \n",
       "54693            -5.0  \n",
       "54694            -5.0  \n",
       "54695            -5.0  \n",
       "54696            -4.0  \n",
       "54697            -4.0  "
      ]
     },
     "execution_count": 43,
     "metadata": {},
     "output_type": "execute_result"
    }
   ],
   "source": [
    "game_cities.tail()"
   ]
  },
  {
   "cell_type": "code",
   "execution_count": 44,
   "metadata": {},
   "outputs": [
    {
     "data": {
      "text/html": [
       "<div>\n",
       "<style scoped>\n",
       "    .dataframe tbody tr th:only-of-type {\n",
       "        vertical-align: middle;\n",
       "    }\n",
       "\n",
       "    .dataframe tbody tr th {\n",
       "        vertical-align: top;\n",
       "    }\n",
       "\n",
       "    .dataframe thead th {\n",
       "        text-align: right;\n",
       "    }\n",
       "</style>\n",
       "<table border=\"1\" class=\"dataframe\">\n",
       "  <thead>\n",
       "    <tr style=\"text-align: right;\">\n",
       "      <th></th>\n",
       "      <th>CityID</th>\n",
       "      <th>City</th>\n",
       "      <th>State</th>\n",
       "    </tr>\n",
       "  </thead>\n",
       "  <tbody>\n",
       "    <tr>\n",
       "      <td>38</td>\n",
       "      <td>4039</td>\n",
       "      <td>Boston</td>\n",
       "      <td>MA</td>\n",
       "    </tr>\n",
       "  </tbody>\n",
       "</table>\n",
       "</div>"
      ],
      "text/plain": [
       "    CityID    City State\n",
       "38    4039  Boston    MA"
      ]
     },
     "execution_count": 44,
     "metadata": {},
     "output_type": "execute_result"
    }
   ],
   "source": [
    "cities[cities['CityID'] == 4039]"
   ]
  },
  {
   "cell_type": "code",
   "execution_count": 45,
   "metadata": {},
   "outputs": [
    {
     "name": "stdout",
     "output_type": "stream",
     "text": [
      "<class 'pandas.core.frame.DataFrame'>\n",
      "Int64Index: 54698 entries, 0 to 54697\n",
      "Data columns (total 13 columns):\n",
      "Season             54698 non-null int64\n",
      "DayNum             54698 non-null int64\n",
      "WTeamID            54698 non-null int64\n",
      "LTeamID            54698 non-null int64\n",
      "CRType             54698 non-null object\n",
      "CityID             54698 non-null int64\n",
      "City               54533 non-null object\n",
      "State              54533 non-null object\n",
      "Lat                54533 non-null float64\n",
      "Lng                54533 non-null float64\n",
      "ElevationMeters    54533 non-null float64\n",
      "TimezoneName       54533 non-null object\n",
      "UTCOffsetHours     54533 non-null float64\n",
      "dtypes: float64(4), int64(5), object(4)\n",
      "memory usage: 5.8+ MB\n"
     ]
    }
   ],
   "source": [
    "game_cities.info()"
   ]
  },
  {
   "cell_type": "code",
   "execution_count": 46,
   "metadata": {},
   "outputs": [],
   "source": [
    "nulls = game_cities[game_cities['City'].isnull() == True]"
   ]
  },
  {
   "cell_type": "code",
   "execution_count": 47,
   "metadata": {},
   "outputs": [
    {
     "data": {
      "text/html": [
       "<div>\n",
       "<style scoped>\n",
       "    .dataframe tbody tr th:only-of-type {\n",
       "        vertical-align: middle;\n",
       "    }\n",
       "\n",
       "    .dataframe tbody tr th {\n",
       "        vertical-align: top;\n",
       "    }\n",
       "\n",
       "    .dataframe thead th {\n",
       "        text-align: right;\n",
       "    }\n",
       "</style>\n",
       "<table border=\"1\" class=\"dataframe\">\n",
       "  <thead>\n",
       "    <tr style=\"text-align: right;\">\n",
       "      <th></th>\n",
       "      <th>CityID</th>\n",
       "      <th>City</th>\n",
       "      <th>State</th>\n",
       "      <th>Lat</th>\n",
       "      <th>Lng</th>\n",
       "      <th>ElevationMeters</th>\n",
       "      <th>TimezoneName</th>\n",
       "      <th>UTCOffsetHours</th>\n",
       "    </tr>\n",
       "  </thead>\n",
       "  <tbody>\n",
       "    <tr>\n",
       "      <td>0</td>\n",
       "      <td>4001</td>\n",
       "      <td>Abilene</td>\n",
       "      <td>TX</td>\n",
       "      <td>32.448736</td>\n",
       "      <td>-99.733144</td>\n",
       "      <td>520.911560</td>\n",
       "      <td>Central Daylight Time</td>\n",
       "      <td>-5.0</td>\n",
       "    </tr>\n",
       "    <tr>\n",
       "      <td>1</td>\n",
       "      <td>4002</td>\n",
       "      <td>Akron</td>\n",
       "      <td>OH</td>\n",
       "      <td>41.081445</td>\n",
       "      <td>-81.519005</td>\n",
       "      <td>292.694763</td>\n",
       "      <td>Eastern Daylight Time</td>\n",
       "      <td>-4.0</td>\n",
       "    </tr>\n",
       "    <tr>\n",
       "      <td>2</td>\n",
       "      <td>4003</td>\n",
       "      <td>Albany</td>\n",
       "      <td>NY</td>\n",
       "      <td>42.652579</td>\n",
       "      <td>-73.756232</td>\n",
       "      <td>42.680080</td>\n",
       "      <td>Eastern Daylight Time</td>\n",
       "      <td>-4.0</td>\n",
       "    </tr>\n",
       "    <tr>\n",
       "      <td>3</td>\n",
       "      <td>4004</td>\n",
       "      <td>Albuquerque</td>\n",
       "      <td>NM</td>\n",
       "      <td>35.085334</td>\n",
       "      <td>-106.605553</td>\n",
       "      <td>1583.187500</td>\n",
       "      <td>Mountain Daylight Time</td>\n",
       "      <td>-6.0</td>\n",
       "    </tr>\n",
       "    <tr>\n",
       "      <td>4</td>\n",
       "      <td>4005</td>\n",
       "      <td>Allentown</td>\n",
       "      <td>PA</td>\n",
       "      <td>40.608430</td>\n",
       "      <td>-75.490183</td>\n",
       "      <td>104.915565</td>\n",
       "      <td>Eastern Daylight Time</td>\n",
       "      <td>-4.0</td>\n",
       "    </tr>\n",
       "    <tr>\n",
       "      <td>5</td>\n",
       "      <td>4006</td>\n",
       "      <td>Ames</td>\n",
       "      <td>IA</td>\n",
       "      <td>42.030781</td>\n",
       "      <td>-93.631913</td>\n",
       "      <td>274.255066</td>\n",
       "      <td>Central Daylight Time</td>\n",
       "      <td>-5.0</td>\n",
       "    </tr>\n",
       "    <tr>\n",
       "      <td>6</td>\n",
       "      <td>4007</td>\n",
       "      <td>Amherst</td>\n",
       "      <td>MA</td>\n",
       "      <td>42.373222</td>\n",
       "      <td>-72.519854</td>\n",
       "      <td>95.784149</td>\n",
       "      <td>Eastern Daylight Time</td>\n",
       "      <td>-4.0</td>\n",
       "    </tr>\n",
       "    <tr>\n",
       "      <td>7</td>\n",
       "      <td>4008</td>\n",
       "      <td>Anaheim</td>\n",
       "      <td>CA</td>\n",
       "      <td>33.836593</td>\n",
       "      <td>-117.914301</td>\n",
       "      <td>47.608597</td>\n",
       "      <td>Pacific Daylight Time</td>\n",
       "      <td>-7.0</td>\n",
       "    </tr>\n",
       "    <tr>\n",
       "      <td>8</td>\n",
       "      <td>4009</td>\n",
       "      <td>Anchorage</td>\n",
       "      <td>AK</td>\n",
       "      <td>61.218056</td>\n",
       "      <td>-149.900278</td>\n",
       "      <td>33.196411</td>\n",
       "      <td>Alaska Daylight Time</td>\n",
       "      <td>-8.0</td>\n",
       "    </tr>\n",
       "    <tr>\n",
       "      <td>9</td>\n",
       "      <td>4010</td>\n",
       "      <td>Ann Arbor</td>\n",
       "      <td>MI</td>\n",
       "      <td>42.280826</td>\n",
       "      <td>-83.743038</td>\n",
       "      <td>263.492828</td>\n",
       "      <td>Eastern Daylight Time</td>\n",
       "      <td>-4.0</td>\n",
       "    </tr>\n",
       "  </tbody>\n",
       "</table>\n",
       "</div>"
      ],
      "text/plain": [
       "   CityID         City State        Lat         Lng  ElevationMeters  \\\n",
       "0    4001      Abilene    TX  32.448736  -99.733144       520.911560   \n",
       "1    4002        Akron    OH  41.081445  -81.519005       292.694763   \n",
       "2    4003       Albany    NY  42.652579  -73.756232        42.680080   \n",
       "3    4004  Albuquerque    NM  35.085334 -106.605553      1583.187500   \n",
       "4    4005    Allentown    PA  40.608430  -75.490183       104.915565   \n",
       "5    4006         Ames    IA  42.030781  -93.631913       274.255066   \n",
       "6    4007      Amherst    MA  42.373222  -72.519854        95.784149   \n",
       "7    4008      Anaheim    CA  33.836593 -117.914301        47.608597   \n",
       "8    4009    Anchorage    AK  61.218056 -149.900278        33.196411   \n",
       "9    4010    Ann Arbor    MI  42.280826  -83.743038       263.492828   \n",
       "\n",
       "             TimezoneName  UTCOffsetHours  \n",
       "0   Central Daylight Time            -5.0  \n",
       "1   Eastern Daylight Time            -4.0  \n",
       "2   Eastern Daylight Time            -4.0  \n",
       "3  Mountain Daylight Time            -6.0  \n",
       "4   Eastern Daylight Time            -4.0  \n",
       "5   Central Daylight Time            -5.0  \n",
       "6   Eastern Daylight Time            -4.0  \n",
       "7   Pacific Daylight Time            -7.0  \n",
       "8    Alaska Daylight Time            -8.0  \n",
       "9   Eastern Daylight Time            -4.0  "
      ]
     },
     "execution_count": 47,
     "metadata": {},
     "output_type": "execute_result"
    }
   ],
   "source": [
    "CitiesEnriched.head(10)"
   ]
  },
  {
   "cell_type": "code",
   "execution_count": 48,
   "metadata": {},
   "outputs": [
    {
     "data": {
      "text/plain": [
       "array([4409, 4407, 4413, 4412, 4415, 4408, 4410, 4416, 4406, 4417, 4414,\n",
       "       4422, 4446, 4447, 4441, 4448, 4444, 4435, 4449, 4445])"
      ]
     },
     "execution_count": 48,
     "metadata": {},
     "output_type": "execute_result"
    }
   ],
   "source": [
    "nulls['CityID'].unique()"
   ]
  },
  {
   "cell_type": "code",
   "execution_count": 49,
   "metadata": {},
   "outputs": [
    {
     "data": {
      "text/html": [
       "<div>\n",
       "<style scoped>\n",
       "    .dataframe tbody tr th:only-of-type {\n",
       "        vertical-align: middle;\n",
       "    }\n",
       "\n",
       "    .dataframe tbody tr th {\n",
       "        vertical-align: top;\n",
       "    }\n",
       "\n",
       "    .dataframe thead th {\n",
       "        text-align: right;\n",
       "    }\n",
       "</style>\n",
       "<table border=\"1\" class=\"dataframe\">\n",
       "  <thead>\n",
       "    <tr style=\"text-align: right;\">\n",
       "      <th></th>\n",
       "      <th>CityID</th>\n",
       "      <th>City</th>\n",
       "      <th>State</th>\n",
       "    </tr>\n",
       "  </thead>\n",
       "  <tbody>\n",
       "    <tr>\n",
       "      <td>422</td>\n",
       "      <td>4445</td>\n",
       "      <td>Georgetown</td>\n",
       "      <td>KY</td>\n",
       "    </tr>\n",
       "  </tbody>\n",
       "</table>\n",
       "</div>"
      ],
      "text/plain": [
       "     CityID        City State\n",
       "422    4445  Georgetown    KY"
      ]
     },
     "execution_count": 49,
     "metadata": {},
     "output_type": "execute_result"
    }
   ],
   "source": [
    "cities[cities['CityID'] == 4445]"
   ]
  },
  {
   "cell_type": "code",
   "execution_count": 50,
   "metadata": {},
   "outputs": [],
   "source": [
    "new_city_list = []\n",
    "new_city = {'CityID' : 4409, 'City' : 'Uniondale', 'State' : 'NY', 'Lat' : 40.7004, 'Lng' : -73.5929, \n",
    "            'ElevationMeters' : 16, 'TimezoneName' : 'Eastern Daylight Time', 'UTCOffsetHours' : -4.0}\n",
    "new_city_list.append(new_city)"
   ]
  },
  {
   "cell_type": "code",
   "execution_count": 51,
   "metadata": {},
   "outputs": [],
   "source": [
    "new_city = {'CityID' : 4407, 'City' : 'Great Falls', 'State' : 'MT', 'Lat' : 47.5053, 'Lng' : -111.3008, \n",
    "            'ElevationMeters' : 1010, 'TimezoneName' : 'Mountain Daylight Time', 'UTCOffsetHours' : -5.0}\n",
    "new_city_list.append(new_city)"
   ]
  },
  {
   "cell_type": "code",
   "execution_count": 52,
   "metadata": {},
   "outputs": [],
   "source": [
    "new_city = {'CityID' : 4413, 'City' : 'Nassau', 'State' : 'BA', 'Lat' : 25.0479835, 'Lng' : -77.355413, \n",
    "            'ElevationMeters' : 6, 'TimezoneName' : 'Eastern Daylight Time', 'UTCOffsetHours' : -4.0}\n",
    "new_city_list.append(new_city)"
   ]
  },
  {
   "cell_type": "code",
   "execution_count": 53,
   "metadata": {},
   "outputs": [],
   "source": [
    "new_city = {'CityID' : 4412, 'City' : 'Montego Bay', 'State' : 'JA', 'Lat' : 18.4762, 'Lng' : -77.8939, \n",
    "            'ElevationMeters' : 12, 'TimezoneName' : 'Eastern Daylight Time', 'UTCOffsetHours' : -4.0}\n",
    "new_city_list.append(new_city)"
   ]
  },
  {
   "cell_type": "code",
   "execution_count": 54,
   "metadata": {},
   "outputs": [],
   "source": [
    "new_city = {'CityID' : 4415, 'City' : 'Grand Cayman', 'State' : 'CI', 'Lat' : 19.3222, 'Lng' : -81.2409, \n",
    "            'ElevationMeters' : 18, 'TimezoneName' : 'Eastern Daylight Time', 'UTCOffsetHours' : -4.0}\n",
    "new_city_list.append(new_city)"
   ]
  },
  {
   "cell_type": "code",
   "execution_count": 55,
   "metadata": {},
   "outputs": [],
   "source": [
    "new_city = {'CityID' : 4408, 'City' : 'Reading', 'State' : 'PA', 'Lat' : 40.3356, 'Lng' : -75.9269, \n",
    "            'ElevationMeters' : 93, 'TimezoneName' : 'Eastern Daylight Time', 'UTCOffsetHours' : -4.0}\n",
    "new_city_list.append(new_city)"
   ]
  },
  {
   "cell_type": "code",
   "execution_count": 56,
   "metadata": {},
   "outputs": [],
   "source": [
    "new_city = {'CityID' : 4410, 'City' : 'Belfast', 'State' : 'IR', 'Lat' : 54.5973, 'Lng' : -5.9301, \n",
    "            'ElevationMeters' : 80, 'TimezoneName' : 'British Summer Time', 'UTCOffsetHours' : 1.0}\n",
    "new_city_list.append(new_city)"
   ]
  },
  {
   "cell_type": "code",
   "execution_count": 57,
   "metadata": {},
   "outputs": [],
   "source": [
    "new_city = {'CityID' : 4416, 'City' : 'Miami Shores', 'State' : 'FL', 'Lat' : 25.8632, 'Lng' : -80.1928, \n",
    "            'ElevationMeters' : 2, 'TimezoneName' : 'Eastern Daylight Time', 'UTCOffsetHours' : -4.0}\n",
    "new_city_list.append(new_city)"
   ]
  },
  {
   "cell_type": "code",
   "execution_count": 58,
   "metadata": {},
   "outputs": [],
   "source": [
    "new_city = {'CityID' : 4406, 'City' : 'Garden City', 'State' : 'NY', 'Lat' : 40.7268, 'Lng' : -73.6343, \n",
    "            'ElevationMeters' : 27, 'TimezoneName' : 'Eastern Daylight Time', 'UTCOffsetHours' : -4.0}\n",
    "new_city_list.append(new_city)"
   ]
  },
  {
   "cell_type": "code",
   "execution_count": 59,
   "metadata": {},
   "outputs": [],
   "source": [
    "new_city = {'CityID' : 4417, 'City' : 'Midland', 'State' : 'MI', 'Lat' : 43.6156, 'Lng' : -84.2472, \n",
    "            'ElevationMeters' : 194, 'TimezoneName' : 'Eastern Daylight Time', 'UTCOffsetHours' : -4.0}\n",
    "new_city_list.append(new_city)"
   ]
  },
  {
   "cell_type": "code",
   "execution_count": 60,
   "metadata": {},
   "outputs": [],
   "source": [
    "new_city = {'CityID' : 4414, 'City' : 'Frisco', 'State' : 'TX', 'Lat' : 33.1507, 'Lng' : -96.8236, \n",
    "            'ElevationMeters' : 236, 'TimezoneName' : 'Central Daylight Time', 'UTCOffsetHours' : -5.0}\n",
    "new_city_list.append(new_city)"
   ]
  },
  {
   "cell_type": "code",
   "execution_count": 61,
   "metadata": {},
   "outputs": [],
   "source": [
    "new_city = {'CityID' : 4422, 'City' : 'Bimini', 'State' : 'BA', 'Lat' : 25.7333, 'Lng' : -79.2500, \n",
    "            'ElevationMeters' : 8, 'TimezoneName' : 'Eastern Daylight Time', 'UTCOffsetHours' : -4.0}\n",
    "new_city_list.append(new_city)"
   ]
  },
  {
   "cell_type": "code",
   "execution_count": 62,
   "metadata": {},
   "outputs": [],
   "source": [
    "new_city = {'CityID' : 4446, 'City' : 'Seaside', 'State' : 'CA', 'Lat' : 36.6149, 'Lng' : -121.8221, \n",
    "            'ElevationMeters' : 10, 'TimezoneName' : 'Pacific Daylight Time', 'UTCOffsetHours' : -7.0}\n",
    "new_city_list.append(new_city)"
   ]
  },
  {
   "cell_type": "code",
   "execution_count": 63,
   "metadata": {},
   "outputs": [],
   "source": [
    "new_city = {'CityID' : 4447, 'City' : 'Kissimmee', 'State' : 'FL', 'Lat' : 28.2920, 'Lng' : -81.4076, \n",
    "            'ElevationMeters' : 15, 'TimezoneName' : 'Eastern Daylight Time', 'UTCOffsetHours' : -4.0}\n",
    "new_city_list.append(new_city)"
   ]
  },
  {
   "cell_type": "code",
   "execution_count": 64,
   "metadata": {},
   "outputs": [],
   "source": [
    "new_city = {'CityID' : 4441, 'City' : 'Niagara University', 'State' : 'NY', 'Lat' : 43.1726, 'Lng' : -79.0359, \n",
    "            'ElevationMeters' : 116, 'TimezoneName' : 'Eastern Daylight Time', 'UTCOffsetHours' : -4.0}\n",
    "new_city_list.append(new_city)"
   ]
  },
  {
   "cell_type": "code",
   "execution_count": 65,
   "metadata": {},
   "outputs": [],
   "source": [
    "new_city = {'CityID' : 4448, 'City' : 'Oakland', 'State' : 'MI', 'Lat' : 42.5922, 'Lng' : -83.3362, \n",
    "            'ElevationMeters' : 286, 'TimezoneName' : 'Eastern Daylight Time', 'UTCOffsetHours' : -4.0}\n",
    "new_city_list.append(new_city)"
   ]
  },
  {
   "cell_type": "code",
   "execution_count": 66,
   "metadata": {},
   "outputs": [],
   "source": [
    "new_city = {'CityID' : 4444, 'City' : 'Florence', 'State' : 'AL', 'Lat' : 34.7998, 'Lng' : -87.6773, \n",
    "            'ElevationMeters' : 167, 'TimezoneName' : 'Central Daylight Time', 'UTCOffsetHours' : -5.0}\n",
    "new_city_list.append(new_city)"
   ]
  },
  {
   "cell_type": "code",
   "execution_count": 67,
   "metadata": {},
   "outputs": [],
   "source": [
    "new_city = {'CityID' : 4435, 'City' : 'Kennewick', 'State' : 'WA', 'Lat' : 46.2087, 'Lng' : -119.1199, \n",
    "            'ElevationMeters' : 124, 'TimezoneName' : 'Pacific Daylight Time', 'UTCOffsetHours' : -7.0}\n",
    "new_city_list.append(new_city)"
   ]
  },
  {
   "cell_type": "code",
   "execution_count": 68,
   "metadata": {},
   "outputs": [],
   "source": [
    "new_city = {'CityID' : 4449, 'City' : 'St. Petersburg', 'State' : 'FL', 'Lat' : 27.7676, 'Lng' : -82.6403, \n",
    "            'ElevationMeters' : 13, 'TimezoneName' : 'Eastern Daylight Time', 'UTCOffsetHours' : -4.0}\n",
    "new_city_list.append(new_city)"
   ]
  },
  {
   "cell_type": "code",
   "execution_count": 69,
   "metadata": {},
   "outputs": [],
   "source": [
    "new_city = {'CityID' : 4445, 'City' : 'Georgetown', 'State' : 'KY', 'Lat' : 38.2098, 'Lng' : -84.5588, \n",
    "            'ElevationMeters' : 258, 'TimezoneName' : 'Eastern Daylight Time', 'UTCOffsetHours' : -4.0}\n",
    "new_city_list.append(new_city)"
   ]
  },
  {
   "cell_type": "code",
   "execution_count": 70,
   "metadata": {},
   "outputs": [],
   "source": [
    "new_city_list = pd.DataFrame(new_city_list)"
   ]
  },
  {
   "cell_type": "code",
   "execution_count": 71,
   "metadata": {},
   "outputs": [],
   "source": [
    "CitiesEnriched = pd.concat([CitiesEnriched, new_city_list])"
   ]
  },
  {
   "cell_type": "code",
   "execution_count": 72,
   "metadata": {},
   "outputs": [],
   "source": [
    "CitiesEnriched = CitiesEnriched.reset_index(drop = True)"
   ]
  },
  {
   "cell_type": "code",
   "execution_count": 773,
   "metadata": {
    "scrolled": true
   },
   "outputs": [],
   "source": [
    "CitiesEnriched_Updated = CitiesEnriched"
   ]
  },
  {
   "cell_type": "code",
   "execution_count": 4,
   "metadata": {},
   "outputs": [],
   "source": [
    "# CitiesEnriched_Updated.to_csv('Data/CitiesEnriched_Updated.csv')"
   ]
  },
  {
   "cell_type": "code",
   "execution_count": 74,
   "metadata": {},
   "outputs": [],
   "source": [
    "game_cities = pd.read_csv('Data/Stage2DataFiles/GameCities.csv')"
   ]
  },
  {
   "cell_type": "code",
   "execution_count": 75,
   "metadata": {},
   "outputs": [],
   "source": [
    "game_cities = pd.merge(game_cities, CitiesEnriched, on = ['CityID'], how = 'left')"
   ]
  },
  {
   "cell_type": "code",
   "execution_count": 76,
   "metadata": {},
   "outputs": [
    {
     "name": "stdout",
     "output_type": "stream",
     "text": [
      "<class 'pandas.core.frame.DataFrame'>\n",
      "Int64Index: 54698 entries, 0 to 54697\n",
      "Data columns (total 13 columns):\n",
      "Season             54698 non-null int64\n",
      "DayNum             54698 non-null int64\n",
      "WTeamID            54698 non-null int64\n",
      "LTeamID            54698 non-null int64\n",
      "CRType             54698 non-null object\n",
      "CityID             54698 non-null int64\n",
      "City               54698 non-null object\n",
      "State              54698 non-null object\n",
      "Lat                54698 non-null float64\n",
      "Lng                54698 non-null float64\n",
      "ElevationMeters    54698 non-null float64\n",
      "TimezoneName       54698 non-null object\n",
      "UTCOffsetHours     54698 non-null float64\n",
      "dtypes: float64(4), int64(5), object(4)\n",
      "memory usage: 5.8+ MB\n"
     ]
    }
   ],
   "source": [
    "game_cities.info()"
   ]
  },
  {
   "cell_type": "code",
   "execution_count": 59,
   "metadata": {},
   "outputs": [],
   "source": [
    "spellings = pd.read_csv('Data/Stage2DataFiles/TeamSpellings.csv', sep='\\t', engine='python')\n",
    "# spellings = pd.read_csv('Data/Stage2DataFiles/TeamSpellings.csv')"
   ]
  },
  {
   "cell_type": "code",
   "execution_count": 121,
   "metadata": {},
   "outputs": [],
   "source": [
    "TeamGeog = pd.read_csv('Data/TeamGeog.csv')"
   ]
  },
  {
   "cell_type": "code",
   "execution_count": 122,
   "metadata": {},
   "outputs": [
    {
     "data": {
      "text/html": [
       "<div>\n",
       "<style scoped>\n",
       "    .dataframe tbody tr th:only-of-type {\n",
       "        vertical-align: middle;\n",
       "    }\n",
       "\n",
       "    .dataframe tbody tr th {\n",
       "        vertical-align: top;\n",
       "    }\n",
       "\n",
       "    .dataframe thead th {\n",
       "        text-align: right;\n",
       "    }\n",
       "</style>\n",
       "<table border=\"1\" class=\"dataframe\">\n",
       "  <thead>\n",
       "    <tr style=\"text-align: right;\">\n",
       "      <th></th>\n",
       "      <th>team_id</th>\n",
       "      <th>lat</th>\n",
       "      <th>lng</th>\n",
       "    </tr>\n",
       "  </thead>\n",
       "  <tbody>\n",
       "    <tr>\n",
       "      <td>0</td>\n",
       "      <td>1101</td>\n",
       "      <td>32.471081</td>\n",
       "      <td>-99.707941</td>\n",
       "    </tr>\n",
       "    <tr>\n",
       "      <td>1</td>\n",
       "      <td>1102</td>\n",
       "      <td>38.833882</td>\n",
       "      <td>-104.821363</td>\n",
       "    </tr>\n",
       "    <tr>\n",
       "      <td>2</td>\n",
       "      <td>1103</td>\n",
       "      <td>41.081445</td>\n",
       "      <td>-81.519005</td>\n",
       "    </tr>\n",
       "    <tr>\n",
       "      <td>3</td>\n",
       "      <td>1104</td>\n",
       "      <td>33.209841</td>\n",
       "      <td>-87.569174</td>\n",
       "    </tr>\n",
       "    <tr>\n",
       "      <td>4</td>\n",
       "      <td>1105</td>\n",
       "      <td>34.788979</td>\n",
       "      <td>-86.571937</td>\n",
       "    </tr>\n",
       "    <tr>\n",
       "      <td>...</td>\n",
       "      <td>...</td>\n",
       "      <td>...</td>\n",
       "      <td>...</td>\n",
       "    </tr>\n",
       "    <tr>\n",
       "      <td>359</td>\n",
       "      <td>1460</td>\n",
       "      <td>39.820893</td>\n",
       "      <td>-84.019379</td>\n",
       "    </tr>\n",
       "    <tr>\n",
       "      <td>360</td>\n",
       "      <td>1461</td>\n",
       "      <td>41.311367</td>\n",
       "      <td>-105.591101</td>\n",
       "    </tr>\n",
       "    <tr>\n",
       "      <td>361</td>\n",
       "      <td>1462</td>\n",
       "      <td>39.149648</td>\n",
       "      <td>-84.473702</td>\n",
       "    </tr>\n",
       "    <tr>\n",
       "      <td>362</td>\n",
       "      <td>1463</td>\n",
       "      <td>41.308153</td>\n",
       "      <td>-72.928158</td>\n",
       "    </tr>\n",
       "    <tr>\n",
       "      <td>363</td>\n",
       "      <td>1464</td>\n",
       "      <td>41.099780</td>\n",
       "      <td>-80.649519</td>\n",
       "    </tr>\n",
       "  </tbody>\n",
       "</table>\n",
       "<p>364 rows × 3 columns</p>\n",
       "</div>"
      ],
      "text/plain": [
       "     team_id        lat         lng\n",
       "0       1101  32.471081  -99.707941\n",
       "1       1102  38.833882 -104.821363\n",
       "2       1103  41.081445  -81.519005\n",
       "3       1104  33.209841  -87.569174\n",
       "4       1105  34.788979  -86.571937\n",
       "..       ...        ...         ...\n",
       "359     1460  39.820893  -84.019379\n",
       "360     1461  41.311367 -105.591101\n",
       "361     1462  39.149648  -84.473702\n",
       "362     1463  41.308153  -72.928158\n",
       "363     1464  41.099780  -80.649519\n",
       "\n",
       "[364 rows x 3 columns]"
      ]
     },
     "execution_count": 122,
     "metadata": {},
     "output_type": "execute_result"
    }
   ],
   "source": [
    "TeamGeog"
   ]
  },
  {
   "cell_type": "code",
   "execution_count": 397,
   "metadata": {},
   "outputs": [],
   "source": [
    "teams = pd.read_csv('Data/Stage2DataFiles/Teams.csv')"
   ]
  },
  {
   "cell_type": "code",
   "execution_count": 81,
   "metadata": {},
   "outputs": [
    {
     "data": {
      "text/html": [
       "<div>\n",
       "<style scoped>\n",
       "    .dataframe tbody tr th:only-of-type {\n",
       "        vertical-align: middle;\n",
       "    }\n",
       "\n",
       "    .dataframe tbody tr th {\n",
       "        vertical-align: top;\n",
       "    }\n",
       "\n",
       "    .dataframe thead th {\n",
       "        text-align: right;\n",
       "    }\n",
       "</style>\n",
       "<table border=\"1\" class=\"dataframe\">\n",
       "  <thead>\n",
       "    <tr style=\"text-align: right;\">\n",
       "      <th></th>\n",
       "      <th>TeamID</th>\n",
       "      <th>TeamName</th>\n",
       "      <th>FirstD1Season</th>\n",
       "      <th>LastD1Season</th>\n",
       "    </tr>\n",
       "  </thead>\n",
       "  <tbody>\n",
       "    <tr>\n",
       "      <td>182</td>\n",
       "      <td>1283</td>\n",
       "      <td>Missouri St</td>\n",
       "      <td>1985</td>\n",
       "      <td>2019</td>\n",
       "    </tr>\n",
       "    <tr>\n",
       "      <td>230</td>\n",
       "      <td>1331</td>\n",
       "      <td>Oral Roberts</td>\n",
       "      <td>1985</td>\n",
       "      <td>2019</td>\n",
       "    </tr>\n",
       "    <tr>\n",
       "      <td>229</td>\n",
       "      <td>1330</td>\n",
       "      <td>Old Dominion</td>\n",
       "      <td>1985</td>\n",
       "      <td>2019</td>\n",
       "    </tr>\n",
       "    <tr>\n",
       "      <td>228</td>\n",
       "      <td>1329</td>\n",
       "      <td>Oklahoma St</td>\n",
       "      <td>1985</td>\n",
       "      <td>2019</td>\n",
       "    </tr>\n",
       "    <tr>\n",
       "      <td>227</td>\n",
       "      <td>1328</td>\n",
       "      <td>Oklahoma</td>\n",
       "      <td>1985</td>\n",
       "      <td>2019</td>\n",
       "    </tr>\n",
       "    <tr>\n",
       "      <td>...</td>\n",
       "      <td>...</td>\n",
       "      <td>...</td>\n",
       "      <td>...</td>\n",
       "      <td>...</td>\n",
       "    </tr>\n",
       "    <tr>\n",
       "      <td>161</td>\n",
       "      <td>1262</td>\n",
       "      <td>MA Lowell</td>\n",
       "      <td>2014</td>\n",
       "      <td>2019</td>\n",
       "    </tr>\n",
       "    <tr>\n",
       "      <td>129</td>\n",
       "      <td>1230</td>\n",
       "      <td>Incarnate Word</td>\n",
       "      <td>2014</td>\n",
       "      <td>2019</td>\n",
       "    </tr>\n",
       "    <tr>\n",
       "      <td>112</td>\n",
       "      <td>1213</td>\n",
       "      <td>Grand Canyon</td>\n",
       "      <td>2014</td>\n",
       "      <td>2019</td>\n",
       "    </tr>\n",
       "    <tr>\n",
       "      <td>364</td>\n",
       "      <td>1465</td>\n",
       "      <td>Cal Baptist</td>\n",
       "      <td>2019</td>\n",
       "      <td>2019</td>\n",
       "    </tr>\n",
       "    <tr>\n",
       "      <td>365</td>\n",
       "      <td>1466</td>\n",
       "      <td>North Alabama</td>\n",
       "      <td>2019</td>\n",
       "      <td>2019</td>\n",
       "    </tr>\n",
       "  </tbody>\n",
       "</table>\n",
       "<p>366 rows × 4 columns</p>\n",
       "</div>"
      ],
      "text/plain": [
       "     TeamID        TeamName  FirstD1Season  LastD1Season\n",
       "182    1283     Missouri St           1985          2019\n",
       "230    1331    Oral Roberts           1985          2019\n",
       "229    1330    Old Dominion           1985          2019\n",
       "228    1329     Oklahoma St           1985          2019\n",
       "227    1328        Oklahoma           1985          2019\n",
       "..      ...             ...            ...           ...\n",
       "161    1262       MA Lowell           2014          2019\n",
       "129    1230  Incarnate Word           2014          2019\n",
       "112    1213    Grand Canyon           2014          2019\n",
       "364    1465     Cal Baptist           2019          2019\n",
       "365    1466   North Alabama           2019          2019\n",
       "\n",
       "[366 rows x 4 columns]"
      ]
     },
     "execution_count": 81,
     "metadata": {},
     "output_type": "execute_result"
    }
   ],
   "source": [
    "teams.sort_values(by = 'FirstD1Season')"
   ]
  },
  {
   "cell_type": "code",
   "execution_count": 83,
   "metadata": {},
   "outputs": [],
   "source": [
    "Team1 = teams.copy()\n",
    "Team2 = teams.copy()\n",
    "Team1.columns = ['WTeamID', 'T1_TeamName', 'T1_FirstD1Season', 'T1_LastD1Season']\n",
    "Team2.columns = ['LTeamID', 'T2_TeamName', 'T2_FirstD1Season', 'T2_LastD1Season']"
   ]
  },
  {
   "cell_type": "code",
   "execution_count": 84,
   "metadata": {},
   "outputs": [
    {
     "data": {
      "text/html": [
       "<div>\n",
       "<style scoped>\n",
       "    .dataframe tbody tr th:only-of-type {\n",
       "        vertical-align: middle;\n",
       "    }\n",
       "\n",
       "    .dataframe tbody tr th {\n",
       "        vertical-align: top;\n",
       "    }\n",
       "\n",
       "    .dataframe thead th {\n",
       "        text-align: right;\n",
       "    }\n",
       "</style>\n",
       "<table border=\"1\" class=\"dataframe\">\n",
       "  <thead>\n",
       "    <tr style=\"text-align: right;\">\n",
       "      <th></th>\n",
       "      <th>Season</th>\n",
       "      <th>DayNum</th>\n",
       "      <th>WTeamID</th>\n",
       "      <th>LTeamID</th>\n",
       "      <th>CRType</th>\n",
       "      <th>CityID</th>\n",
       "    </tr>\n",
       "  </thead>\n",
       "  <tbody>\n",
       "    <tr>\n",
       "      <td>5263</td>\n",
       "      <td>2010</td>\n",
       "      <td>134</td>\n",
       "      <td>1115</td>\n",
       "      <td>1457</td>\n",
       "      <td>NCAA</td>\n",
       "      <td>4091</td>\n",
       "    </tr>\n",
       "    <tr>\n",
       "      <td>5295</td>\n",
       "      <td>2010</td>\n",
       "      <td>136</td>\n",
       "      <td>1124</td>\n",
       "      <td>1358</td>\n",
       "      <td>NCAA</td>\n",
       "      <td>4237</td>\n",
       "    </tr>\n",
       "    <tr>\n",
       "      <td>5296</td>\n",
       "      <td>2010</td>\n",
       "      <td>136</td>\n",
       "      <td>1139</td>\n",
       "      <td>1431</td>\n",
       "      <td>NCAA</td>\n",
       "      <td>4305</td>\n",
       "    </tr>\n",
       "    <tr>\n",
       "      <td>5297</td>\n",
       "      <td>2010</td>\n",
       "      <td>136</td>\n",
       "      <td>1140</td>\n",
       "      <td>1196</td>\n",
       "      <td>NCAA</td>\n",
       "      <td>4254</td>\n",
       "    </tr>\n",
       "    <tr>\n",
       "      <td>5298</td>\n",
       "      <td>2010</td>\n",
       "      <td>136</td>\n",
       "      <td>1242</td>\n",
       "      <td>1250</td>\n",
       "      <td>NCAA</td>\n",
       "      <td>4254</td>\n",
       "    </tr>\n",
       "  </tbody>\n",
       "</table>\n",
       "</div>"
      ],
      "text/plain": [
       "      Season  DayNum  WTeamID  LTeamID CRType  CityID\n",
       "5263    2010     134     1115     1457   NCAA    4091\n",
       "5295    2010     136     1124     1358   NCAA    4237\n",
       "5296    2010     136     1139     1431   NCAA    4305\n",
       "5297    2010     136     1140     1196   NCAA    4254\n",
       "5298    2010     136     1242     1250   NCAA    4254"
      ]
     },
     "execution_count": 84,
     "metadata": {},
     "output_type": "execute_result"
    }
   ],
   "source": [
    "NCAA_t_games.head()"
   ]
  },
  {
   "cell_type": "code",
   "execution_count": 85,
   "metadata": {},
   "outputs": [],
   "source": [
    "NCAA_t_games = pd.merge(NCAA_t_games, Team1, on = ['WTeamID'], how = 'left')\n",
    "NCAA_t_games = pd.merge(NCAA_t_games, Team2, on = ['LTeamID'], how = 'left')"
   ]
  },
  {
   "cell_type": "code",
   "execution_count": 90,
   "metadata": {},
   "outputs": [],
   "source": [
    "NCAA_t_games = NCAA_t_games[['Season', 'DayNum', 'WTeamID', 'T1_TeamName','LTeamID', 'T2_TeamName', \n",
    "                             'CityID']]"
   ]
  },
  {
   "cell_type": "code",
   "execution_count": 91,
   "metadata": {},
   "outputs": [
    {
     "data": {
      "text/html": [
       "<div>\n",
       "<style scoped>\n",
       "    .dataframe tbody tr th:only-of-type {\n",
       "        vertical-align: middle;\n",
       "    }\n",
       "\n",
       "    .dataframe tbody tr th {\n",
       "        vertical-align: top;\n",
       "    }\n",
       "\n",
       "    .dataframe thead th {\n",
       "        text-align: right;\n",
       "    }\n",
       "</style>\n",
       "<table border=\"1\" class=\"dataframe\">\n",
       "  <thead>\n",
       "    <tr style=\"text-align: right;\">\n",
       "      <th></th>\n",
       "      <th>Season</th>\n",
       "      <th>DayNum</th>\n",
       "      <th>WTeamID</th>\n",
       "      <th>T1_TeamName</th>\n",
       "      <th>LTeamID</th>\n",
       "      <th>T2_TeamName</th>\n",
       "      <th>CityID</th>\n",
       "    </tr>\n",
       "  </thead>\n",
       "  <tbody>\n",
       "    <tr>\n",
       "      <td>0</td>\n",
       "      <td>2010</td>\n",
       "      <td>134</td>\n",
       "      <td>1115</td>\n",
       "      <td>Ark Pine Bluff</td>\n",
       "      <td>1457</td>\n",
       "      <td>Winthrop</td>\n",
       "      <td>4091</td>\n",
       "    </tr>\n",
       "    <tr>\n",
       "      <td>1</td>\n",
       "      <td>2010</td>\n",
       "      <td>136</td>\n",
       "      <td>1124</td>\n",
       "      <td>Baylor</td>\n",
       "      <td>1358</td>\n",
       "      <td>Sam Houston St</td>\n",
       "      <td>4237</td>\n",
       "    </tr>\n",
       "    <tr>\n",
       "      <td>2</td>\n",
       "      <td>2010</td>\n",
       "      <td>136</td>\n",
       "      <td>1139</td>\n",
       "      <td>Butler</td>\n",
       "      <td>1431</td>\n",
       "      <td>UTEP</td>\n",
       "      <td>4305</td>\n",
       "    </tr>\n",
       "    <tr>\n",
       "      <td>3</td>\n",
       "      <td>2010</td>\n",
       "      <td>136</td>\n",
       "      <td>1140</td>\n",
       "      <td>BYU</td>\n",
       "      <td>1196</td>\n",
       "      <td>Florida</td>\n",
       "      <td>4254</td>\n",
       "    </tr>\n",
       "    <tr>\n",
       "      <td>4</td>\n",
       "      <td>2010</td>\n",
       "      <td>136</td>\n",
       "      <td>1242</td>\n",
       "      <td>Kansas</td>\n",
       "      <td>1250</td>\n",
       "      <td>Lehigh</td>\n",
       "      <td>4254</td>\n",
       "    </tr>\n",
       "  </tbody>\n",
       "</table>\n",
       "</div>"
      ],
      "text/plain": [
       "   Season  DayNum  WTeamID     T1_TeamName  LTeamID     T2_TeamName  CityID\n",
       "0    2010     134     1115  Ark Pine Bluff     1457        Winthrop    4091\n",
       "1    2010     136     1124          Baylor     1358  Sam Houston St    4237\n",
       "2    2010     136     1139          Butler     1431            UTEP    4305\n",
       "3    2010     136     1140             BYU     1196         Florida    4254\n",
       "4    2010     136     1242          Kansas     1250          Lehigh    4254"
      ]
     },
     "execution_count": 91,
     "metadata": {},
     "output_type": "execute_result"
    }
   ],
   "source": [
    "NCAA_t_games.head()"
   ]
  },
  {
   "cell_type": "code",
   "execution_count": 123,
   "metadata": {},
   "outputs": [],
   "source": [
    "new_teams = [{'team_id': 1465, 'lat': 33.9284, 'lng': -117.4256}, {'team_id': 1466, 'lat': 34.8075, 'lng': -87.6812}]"
   ]
  },
  {
   "cell_type": "code",
   "execution_count": 124,
   "metadata": {},
   "outputs": [],
   "source": [
    "new_teams = pd.DataFrame(new_teams)"
   ]
  },
  {
   "cell_type": "code",
   "execution_count": 125,
   "metadata": {},
   "outputs": [],
   "source": [
    "update = pd.concat([TeamGeog, new_teams])"
   ]
  },
  {
   "cell_type": "code",
   "execution_count": 126,
   "metadata": {},
   "outputs": [],
   "source": [
    "update = update.reset_index(drop = True)"
   ]
  },
  {
   "cell_type": "code",
   "execution_count": 127,
   "metadata": {},
   "outputs": [
    {
     "data": {
      "text/html": [
       "<div>\n",
       "<style scoped>\n",
       "    .dataframe tbody tr th:only-of-type {\n",
       "        vertical-align: middle;\n",
       "    }\n",
       "\n",
       "    .dataframe tbody tr th {\n",
       "        vertical-align: top;\n",
       "    }\n",
       "\n",
       "    .dataframe thead th {\n",
       "        text-align: right;\n",
       "    }\n",
       "</style>\n",
       "<table border=\"1\" class=\"dataframe\">\n",
       "  <thead>\n",
       "    <tr style=\"text-align: right;\">\n",
       "      <th></th>\n",
       "      <th>team_id</th>\n",
       "      <th>lat</th>\n",
       "      <th>lng</th>\n",
       "    </tr>\n",
       "  </thead>\n",
       "  <tbody>\n",
       "    <tr>\n",
       "      <td>361</td>\n",
       "      <td>1462</td>\n",
       "      <td>39.149648</td>\n",
       "      <td>-84.473702</td>\n",
       "    </tr>\n",
       "    <tr>\n",
       "      <td>362</td>\n",
       "      <td>1463</td>\n",
       "      <td>41.308153</td>\n",
       "      <td>-72.928158</td>\n",
       "    </tr>\n",
       "    <tr>\n",
       "      <td>363</td>\n",
       "      <td>1464</td>\n",
       "      <td>41.099780</td>\n",
       "      <td>-80.649519</td>\n",
       "    </tr>\n",
       "    <tr>\n",
       "      <td>364</td>\n",
       "      <td>1465</td>\n",
       "      <td>33.928400</td>\n",
       "      <td>-117.425600</td>\n",
       "    </tr>\n",
       "    <tr>\n",
       "      <td>365</td>\n",
       "      <td>1466</td>\n",
       "      <td>34.807500</td>\n",
       "      <td>-87.681200</td>\n",
       "    </tr>\n",
       "  </tbody>\n",
       "</table>\n",
       "</div>"
      ],
      "text/plain": [
       "     team_id        lat         lng\n",
       "361     1462  39.149648  -84.473702\n",
       "362     1463  41.308153  -72.928158\n",
       "363     1464  41.099780  -80.649519\n",
       "364     1465  33.928400 -117.425600\n",
       "365     1466  34.807500  -87.681200"
      ]
     },
     "execution_count": 127,
     "metadata": {},
     "output_type": "execute_result"
    }
   ],
   "source": [
    "update.tail()"
   ]
  },
  {
   "cell_type": "code",
   "execution_count": 55,
   "metadata": {},
   "outputs": [
    {
     "data": {
      "text/html": [
       "<div>\n",
       "<style scoped>\n",
       "    .dataframe tbody tr th:only-of-type {\n",
       "        vertical-align: middle;\n",
       "    }\n",
       "\n",
       "    .dataframe tbody tr th {\n",
       "        vertical-align: top;\n",
       "    }\n",
       "\n",
       "    .dataframe thead th {\n",
       "        text-align: right;\n",
       "    }\n",
       "</style>\n",
       "<table border=\"1\" class=\"dataframe\">\n",
       "  <thead>\n",
       "    <tr style=\"text-align: right;\">\n",
       "      <th></th>\n",
       "      <th>Season</th>\n",
       "      <th>DayNum</th>\n",
       "      <th>WTeamID</th>\n",
       "      <th>LTeamID</th>\n",
       "      <th>CRType</th>\n",
       "      <th>CityID</th>\n",
       "      <th>City</th>\n",
       "      <th>State</th>\n",
       "      <th>Lat</th>\n",
       "      <th>Lng</th>\n",
       "      <th>ElevationMeters</th>\n",
       "      <th>TimezoneName</th>\n",
       "      <th>UTCOffsetHours</th>\n",
       "    </tr>\n",
       "  </thead>\n",
       "  <tbody>\n",
       "    <tr>\n",
       "      <td>0</td>\n",
       "      <td>2010</td>\n",
       "      <td>7</td>\n",
       "      <td>1143</td>\n",
       "      <td>1293</td>\n",
       "      <td>Regular</td>\n",
       "      <td>4027</td>\n",
       "      <td>Berkeley</td>\n",
       "      <td>CA</td>\n",
       "      <td>37.871593</td>\n",
       "      <td>-122.272747</td>\n",
       "      <td>51.614422</td>\n",
       "      <td>Pacific Daylight Time</td>\n",
       "      <td>-7.0</td>\n",
       "    </tr>\n",
       "    <tr>\n",
       "      <td>1</td>\n",
       "      <td>2010</td>\n",
       "      <td>7</td>\n",
       "      <td>1314</td>\n",
       "      <td>1198</td>\n",
       "      <td>Regular</td>\n",
       "      <td>4061</td>\n",
       "      <td>Chapel Hill</td>\n",
       "      <td>NC</td>\n",
       "      <td>35.913200</td>\n",
       "      <td>-79.055844</td>\n",
       "      <td>148.552246</td>\n",
       "      <td>Eastern Daylight Time</td>\n",
       "      <td>-4.0</td>\n",
       "    </tr>\n",
       "    <tr>\n",
       "      <td>2</td>\n",
       "      <td>2010</td>\n",
       "      <td>7</td>\n",
       "      <td>1326</td>\n",
       "      <td>1108</td>\n",
       "      <td>Regular</td>\n",
       "      <td>4080</td>\n",
       "      <td>Columbus</td>\n",
       "      <td>OH</td>\n",
       "      <td>39.961176</td>\n",
       "      <td>-82.998794</td>\n",
       "      <td>237.629166</td>\n",
       "      <td>Eastern Daylight Time</td>\n",
       "      <td>-4.0</td>\n",
       "    </tr>\n",
       "    <tr>\n",
       "      <td>3</td>\n",
       "      <td>2010</td>\n",
       "      <td>7</td>\n",
       "      <td>1393</td>\n",
       "      <td>1107</td>\n",
       "      <td>Regular</td>\n",
       "      <td>4340</td>\n",
       "      <td>Syracuse</td>\n",
       "      <td>NY</td>\n",
       "      <td>43.048122</td>\n",
       "      <td>-76.147424</td>\n",
       "      <td>121.362137</td>\n",
       "      <td>Eastern Daylight Time</td>\n",
       "      <td>-4.0</td>\n",
       "    </tr>\n",
       "    <tr>\n",
       "      <td>4</td>\n",
       "      <td>2010</td>\n",
       "      <td>9</td>\n",
       "      <td>1143</td>\n",
       "      <td>1178</td>\n",
       "      <td>Regular</td>\n",
       "      <td>4027</td>\n",
       "      <td>Berkeley</td>\n",
       "      <td>CA</td>\n",
       "      <td>37.871593</td>\n",
       "      <td>-122.272747</td>\n",
       "      <td>51.614422</td>\n",
       "      <td>Pacific Daylight Time</td>\n",
       "      <td>-7.0</td>\n",
       "    </tr>\n",
       "  </tbody>\n",
       "</table>\n",
       "</div>"
      ],
      "text/plain": [
       "   Season  DayNum  WTeamID  LTeamID   CRType  CityID         City State  \\\n",
       "0    2010       7     1143     1293  Regular    4027     Berkeley    CA   \n",
       "1    2010       7     1314     1198  Regular    4061  Chapel Hill    NC   \n",
       "2    2010       7     1326     1108  Regular    4080     Columbus    OH   \n",
       "3    2010       7     1393     1107  Regular    4340     Syracuse    NY   \n",
       "4    2010       9     1143     1178  Regular    4027     Berkeley    CA   \n",
       "\n",
       "         Lat         Lng  ElevationMeters           TimezoneName  \\\n",
       "0  37.871593 -122.272747        51.614422  Pacific Daylight Time   \n",
       "1  35.913200  -79.055844       148.552246  Eastern Daylight Time   \n",
       "2  39.961176  -82.998794       237.629166  Eastern Daylight Time   \n",
       "3  43.048122  -76.147424       121.362137  Eastern Daylight Time   \n",
       "4  37.871593 -122.272747        51.614422  Pacific Daylight Time   \n",
       "\n",
       "   UTCOffsetHours  \n",
       "0            -7.0  \n",
       "1            -4.0  \n",
       "2            -4.0  \n",
       "3            -4.0  \n",
       "4            -7.0  "
      ]
     },
     "execution_count": 55,
     "metadata": {},
     "output_type": "execute_result"
    }
   ],
   "source": [
    "game_cities.head()"
   ]
  },
  {
   "cell_type": "code",
   "execution_count": 56,
   "metadata": {},
   "outputs": [
    {
     "data": {
      "text/plain": [
       "(54698, 13)"
      ]
     },
     "execution_count": 56,
     "metadata": {},
     "output_type": "execute_result"
    }
   ],
   "source": [
    "game_cities.shape"
   ]
  },
  {
   "cell_type": "code",
   "execution_count": 92,
   "metadata": {},
   "outputs": [],
   "source": [
    "tourney_comp = pd.read_csv('Data/Stage2DataFiles/NCAATourneyCompactResults.csv')"
   ]
  },
  {
   "cell_type": "code",
   "execution_count": 95,
   "metadata": {},
   "outputs": [],
   "source": [
    "tourney_comp = tourney_comp[tourney_comp['Season'] >= 2003]"
   ]
  },
  {
   "cell_type": "code",
   "execution_count": 96,
   "metadata": {},
   "outputs": [
    {
     "data": {
      "text/html": [
       "<div>\n",
       "<style scoped>\n",
       "    .dataframe tbody tr th:only-of-type {\n",
       "        vertical-align: middle;\n",
       "    }\n",
       "\n",
       "    .dataframe tbody tr th {\n",
       "        vertical-align: top;\n",
       "    }\n",
       "\n",
       "    .dataframe thead th {\n",
       "        text-align: right;\n",
       "    }\n",
       "</style>\n",
       "<table border=\"1\" class=\"dataframe\">\n",
       "  <thead>\n",
       "    <tr style=\"text-align: right;\">\n",
       "      <th></th>\n",
       "      <th>Season</th>\n",
       "      <th>DayNum</th>\n",
       "      <th>WTeamID</th>\n",
       "      <th>WScore</th>\n",
       "      <th>LTeamID</th>\n",
       "      <th>LScore</th>\n",
       "      <th>WLoc</th>\n",
       "      <th>NumOT</th>\n",
       "    </tr>\n",
       "  </thead>\n",
       "  <tbody>\n",
       "    <tr>\n",
       "      <td>1136</td>\n",
       "      <td>2003</td>\n",
       "      <td>134</td>\n",
       "      <td>1421</td>\n",
       "      <td>92</td>\n",
       "      <td>1411</td>\n",
       "      <td>84</td>\n",
       "      <td>N</td>\n",
       "      <td>1</td>\n",
       "    </tr>\n",
       "    <tr>\n",
       "      <td>1137</td>\n",
       "      <td>2003</td>\n",
       "      <td>136</td>\n",
       "      <td>1112</td>\n",
       "      <td>80</td>\n",
       "      <td>1436</td>\n",
       "      <td>51</td>\n",
       "      <td>N</td>\n",
       "      <td>0</td>\n",
       "    </tr>\n",
       "    <tr>\n",
       "      <td>1138</td>\n",
       "      <td>2003</td>\n",
       "      <td>136</td>\n",
       "      <td>1113</td>\n",
       "      <td>84</td>\n",
       "      <td>1272</td>\n",
       "      <td>71</td>\n",
       "      <td>N</td>\n",
       "      <td>0</td>\n",
       "    </tr>\n",
       "    <tr>\n",
       "      <td>1139</td>\n",
       "      <td>2003</td>\n",
       "      <td>136</td>\n",
       "      <td>1141</td>\n",
       "      <td>79</td>\n",
       "      <td>1166</td>\n",
       "      <td>73</td>\n",
       "      <td>N</td>\n",
       "      <td>0</td>\n",
       "    </tr>\n",
       "    <tr>\n",
       "      <td>1140</td>\n",
       "      <td>2003</td>\n",
       "      <td>136</td>\n",
       "      <td>1143</td>\n",
       "      <td>76</td>\n",
       "      <td>1301</td>\n",
       "      <td>74</td>\n",
       "      <td>N</td>\n",
       "      <td>1</td>\n",
       "    </tr>\n",
       "  </tbody>\n",
       "</table>\n",
       "</div>"
      ],
      "text/plain": [
       "      Season  DayNum  WTeamID  WScore  LTeamID  LScore WLoc  NumOT\n",
       "1136    2003     134     1421      92     1411      84    N      1\n",
       "1137    2003     136     1112      80     1436      51    N      0\n",
       "1138    2003     136     1113      84     1272      71    N      0\n",
       "1139    2003     136     1141      79     1166      73    N      0\n",
       "1140    2003     136     1143      76     1301      74    N      1"
      ]
     },
     "execution_count": 96,
     "metadata": {},
     "output_type": "execute_result"
    }
   ],
   "source": [
    "tourney_comp.head()"
   ]
  },
  {
   "cell_type": "code",
   "execution_count": 62,
   "metadata": {},
   "outputs": [
    {
     "name": "stdout",
     "output_type": "stream",
     "text": [
      "<class 'pandas.core.frame.DataFrame'>\n",
      "RangeIndex: 2184 entries, 0 to 2183\n",
      "Data columns (total 8 columns):\n",
      "Season     2184 non-null int64\n",
      "DayNum     2184 non-null int64\n",
      "WTeamID    2184 non-null int64\n",
      "WScore     2184 non-null int64\n",
      "LTeamID    2184 non-null int64\n",
      "LScore     2184 non-null int64\n",
      "WLoc       2184 non-null object\n",
      "NumOT      2184 non-null int64\n",
      "dtypes: int64(7), object(1)\n",
      "memory usage: 136.6+ KB\n"
     ]
    }
   ],
   "source": [
    "tourney_comp.info()"
   ]
  },
  {
   "cell_type": "code",
   "execution_count": 63,
   "metadata": {},
   "outputs": [],
   "source": [
    "tourney_comp = pd.merge(tourney_comp, game_cities, on = ['Season', 'DayNum', 'WTeamID', 'LTeamID'], how = 'left')"
   ]
  },
  {
   "cell_type": "code",
   "execution_count": 64,
   "metadata": {},
   "outputs": [
    {
     "name": "stdout",
     "output_type": "stream",
     "text": [
      "<class 'pandas.core.frame.DataFrame'>\n",
      "Int64Index: 2184 entries, 0 to 2183\n",
      "Data columns (total 17 columns):\n",
      "Season             2184 non-null int64\n",
      "DayNum             2184 non-null int64\n",
      "WTeamID            2184 non-null int64\n",
      "WScore             2184 non-null int64\n",
      "LTeamID            2184 non-null int64\n",
      "LScore             2184 non-null int64\n",
      "WLoc               2184 non-null object\n",
      "NumOT              2184 non-null int64\n",
      "CRType             600 non-null object\n",
      "CityID             600 non-null float64\n",
      "City               600 non-null object\n",
      "State              600 non-null object\n",
      "Lat                600 non-null float64\n",
      "Lng                600 non-null float64\n",
      "ElevationMeters    600 non-null float64\n",
      "TimezoneName       600 non-null object\n",
      "UTCOffsetHours     600 non-null float64\n",
      "dtypes: float64(5), int64(7), object(5)\n",
      "memory usage: 307.1+ KB\n"
     ]
    }
   ],
   "source": [
    "tourney_comp.info()"
   ]
  },
  {
   "cell_type": "code",
   "execution_count": 74,
   "metadata": {},
   "outputs": [
    {
     "data": {
      "text/html": [
       "<div>\n",
       "<style scoped>\n",
       "    .dataframe tbody tr th:only-of-type {\n",
       "        vertical-align: middle;\n",
       "    }\n",
       "\n",
       "    .dataframe tbody tr th {\n",
       "        vertical-align: top;\n",
       "    }\n",
       "\n",
       "    .dataframe thead th {\n",
       "        text-align: right;\n",
       "    }\n",
       "</style>\n",
       "<table border=\"1\" class=\"dataframe\">\n",
       "  <thead>\n",
       "    <tr style=\"text-align: right;\">\n",
       "      <th></th>\n",
       "      <th>Season</th>\n",
       "      <th>DayNum</th>\n",
       "      <th>WTeamID</th>\n",
       "      <th>WScore</th>\n",
       "      <th>LTeamID</th>\n",
       "      <th>LScore</th>\n",
       "      <th>WLoc</th>\n",
       "      <th>NumOT</th>\n",
       "      <th>CRType</th>\n",
       "      <th>CityID</th>\n",
       "      <th>City</th>\n",
       "      <th>State</th>\n",
       "      <th>Lat</th>\n",
       "      <th>Lng</th>\n",
       "      <th>ElevationMeters</th>\n",
       "      <th>TimezoneName</th>\n",
       "      <th>UTCOffsetHours</th>\n",
       "    </tr>\n",
       "  </thead>\n",
       "  <tbody>\n",
       "    <tr>\n",
       "      <td>1584</td>\n",
       "      <td>2010</td>\n",
       "      <td>134</td>\n",
       "      <td>1115</td>\n",
       "      <td>61</td>\n",
       "      <td>1457</td>\n",
       "      <td>44</td>\n",
       "      <td>N</td>\n",
       "      <td>0</td>\n",
       "      <td>NCAA</td>\n",
       "      <td>4091.0</td>\n",
       "      <td>Dayton</td>\n",
       "      <td>OH</td>\n",
       "      <td>39.758948</td>\n",
       "      <td>-84.191607</td>\n",
       "      <td>225.558853</td>\n",
       "      <td>Eastern Daylight Time</td>\n",
       "      <td>-4.0</td>\n",
       "    </tr>\n",
       "    <tr>\n",
       "      <td>1585</td>\n",
       "      <td>2010</td>\n",
       "      <td>136</td>\n",
       "      <td>1124</td>\n",
       "      <td>68</td>\n",
       "      <td>1358</td>\n",
       "      <td>59</td>\n",
       "      <td>N</td>\n",
       "      <td>0</td>\n",
       "      <td>NCAA</td>\n",
       "      <td>4237.0</td>\n",
       "      <td>New Orleans</td>\n",
       "      <td>LA</td>\n",
       "      <td>29.951066</td>\n",
       "      <td>-90.071532</td>\n",
       "      <td>0.521789</td>\n",
       "      <td>Central Daylight Time</td>\n",
       "      <td>-5.0</td>\n",
       "    </tr>\n",
       "    <tr>\n",
       "      <td>1586</td>\n",
       "      <td>2010</td>\n",
       "      <td>136</td>\n",
       "      <td>1139</td>\n",
       "      <td>77</td>\n",
       "      <td>1431</td>\n",
       "      <td>59</td>\n",
       "      <td>N</td>\n",
       "      <td>0</td>\n",
       "      <td>NCAA</td>\n",
       "      <td>4305.0</td>\n",
       "      <td>San Jose</td>\n",
       "      <td>CA</td>\n",
       "      <td>37.338208</td>\n",
       "      <td>-121.886329</td>\n",
       "      <td>24.555334</td>\n",
       "      <td>Pacific Daylight Time</td>\n",
       "      <td>-7.0</td>\n",
       "    </tr>\n",
       "    <tr>\n",
       "      <td>1587</td>\n",
       "      <td>2010</td>\n",
       "      <td>136</td>\n",
       "      <td>1140</td>\n",
       "      <td>99</td>\n",
       "      <td>1196</td>\n",
       "      <td>92</td>\n",
       "      <td>N</td>\n",
       "      <td>2</td>\n",
       "      <td>NCAA</td>\n",
       "      <td>4254.0</td>\n",
       "      <td>Oklahoma City</td>\n",
       "      <td>OK</td>\n",
       "      <td>35.467560</td>\n",
       "      <td>-97.516428</td>\n",
       "      <td>366.043427</td>\n",
       "      <td>Central Daylight Time</td>\n",
       "      <td>-5.0</td>\n",
       "    </tr>\n",
       "    <tr>\n",
       "      <td>1588</td>\n",
       "      <td>2010</td>\n",
       "      <td>136</td>\n",
       "      <td>1242</td>\n",
       "      <td>90</td>\n",
       "      <td>1250</td>\n",
       "      <td>74</td>\n",
       "      <td>N</td>\n",
       "      <td>0</td>\n",
       "      <td>NCAA</td>\n",
       "      <td>4254.0</td>\n",
       "      <td>Oklahoma City</td>\n",
       "      <td>OK</td>\n",
       "      <td>35.467560</td>\n",
       "      <td>-97.516428</td>\n",
       "      <td>366.043427</td>\n",
       "      <td>Central Daylight Time</td>\n",
       "      <td>-5.0</td>\n",
       "    </tr>\n",
       "  </tbody>\n",
       "</table>\n",
       "</div>"
      ],
      "text/plain": [
       "      Season  DayNum  WTeamID  WScore  LTeamID  LScore WLoc  NumOT CRType  \\\n",
       "1584    2010     134     1115      61     1457      44    N      0   NCAA   \n",
       "1585    2010     136     1124      68     1358      59    N      0   NCAA   \n",
       "1586    2010     136     1139      77     1431      59    N      0   NCAA   \n",
       "1587    2010     136     1140      99     1196      92    N      2   NCAA   \n",
       "1588    2010     136     1242      90     1250      74    N      0   NCAA   \n",
       "\n",
       "      CityID           City State        Lat         Lng  ElevationMeters  \\\n",
       "1584  4091.0         Dayton    OH  39.758948  -84.191607       225.558853   \n",
       "1585  4237.0    New Orleans    LA  29.951066  -90.071532         0.521789   \n",
       "1586  4305.0       San Jose    CA  37.338208 -121.886329        24.555334   \n",
       "1587  4254.0  Oklahoma City    OK  35.467560  -97.516428       366.043427   \n",
       "1588  4254.0  Oklahoma City    OK  35.467560  -97.516428       366.043427   \n",
       "\n",
       "               TimezoneName  UTCOffsetHours  \n",
       "1584  Eastern Daylight Time            -4.0  \n",
       "1585  Central Daylight Time            -5.0  \n",
       "1586  Pacific Daylight Time            -7.0  \n",
       "1587  Central Daylight Time            -5.0  \n",
       "1588  Central Daylight Time            -5.0  "
      ]
     },
     "execution_count": 74,
     "metadata": {},
     "output_type": "execute_result"
    }
   ],
   "source": [
    "# tourney_comp[tourney_comp.isna().any(axis=1)]\n",
    "tourney_comp = tourney_comp.dropna()\n",
    "tourney_comp = tourney_comp.reset_index(drop = True)\n",
    "tourney_comp.head()"
   ]
  },
  {
   "cell_type": "code",
   "execution_count": 75,
   "metadata": {
    "scrolled": true
   },
   "outputs": [
    {
     "name": "stdout",
     "output_type": "stream",
     "text": [
      "<class 'pandas.core.frame.DataFrame'>\n",
      "Int64Index: 600 entries, 1584 to 2183\n",
      "Data columns (total 17 columns):\n",
      "Season             600 non-null int64\n",
      "DayNum             600 non-null int64\n",
      "WTeamID            600 non-null int64\n",
      "WScore             600 non-null int64\n",
      "LTeamID            600 non-null int64\n",
      "LScore             600 non-null int64\n",
      "WLoc               600 non-null object\n",
      "NumOT              600 non-null int64\n",
      "CRType             600 non-null object\n",
      "CityID             600 non-null float64\n",
      "City               600 non-null object\n",
      "State              600 non-null object\n",
      "Lat                600 non-null float64\n",
      "Lng                600 non-null float64\n",
      "ElevationMeters    600 non-null float64\n",
      "TimezoneName       600 non-null object\n",
      "UTCOffsetHours     600 non-null float64\n",
      "dtypes: float64(5), int64(7), object(5)\n",
      "memory usage: 84.4+ KB\n"
     ]
    }
   ],
   "source": [
    "tourney_comp.info()"
   ]
  },
  {
   "cell_type": "code",
   "execution_count": 78,
   "metadata": {},
   "outputs": [
    {
     "data": {
      "text/plain": [
       "N    600\n",
       "Name: WLoc, dtype: int64"
      ]
     },
     "execution_count": 78,
     "metadata": {},
     "output_type": "execute_result"
    }
   ],
   "source": [
    "tourney_comp['WLoc'].value_counts()"
   ]
  },
  {
   "cell_type": "code",
   "execution_count": 187,
   "metadata": {},
   "outputs": [],
   "source": [
    "# !pip install LatLon"
   ]
  },
  {
   "cell_type": "code",
   "execution_count": 189,
   "metadata": {},
   "outputs": [],
   "source": [
    "# !pip install pyproj"
   ]
  },
  {
   "cell_type": "code",
   "execution_count": 193,
   "metadata": {},
   "outputs": [],
   "source": [
    "# !pip install geopy"
   ]
  },
  {
   "cell_type": "code",
   "execution_count": 194,
   "metadata": {},
   "outputs": [],
   "source": [
    "from geopy.geocoders import Nominatim\n",
    "from geopy.distance import geodesic"
   ]
  },
  {
   "cell_type": "code",
   "execution_count": 184,
   "metadata": {},
   "outputs": [
    {
     "data": {
      "text/html": [
       "<div>\n",
       "<style scoped>\n",
       "    .dataframe tbody tr th:only-of-type {\n",
       "        vertical-align: middle;\n",
       "    }\n",
       "\n",
       "    .dataframe tbody tr th {\n",
       "        vertical-align: top;\n",
       "    }\n",
       "\n",
       "    .dataframe thead th {\n",
       "        text-align: right;\n",
       "    }\n",
       "</style>\n",
       "<table border=\"1\" class=\"dataframe\">\n",
       "  <thead>\n",
       "    <tr style=\"text-align: right;\">\n",
       "      <th></th>\n",
       "      <th>CityID</th>\n",
       "      <th>City</th>\n",
       "      <th>State</th>\n",
       "      <th>Lat</th>\n",
       "      <th>Lng</th>\n",
       "      <th>ElevationMeters</th>\n",
       "      <th>TimezoneName</th>\n",
       "      <th>UTCOffsetHours</th>\n",
       "    </tr>\n",
       "  </thead>\n",
       "  <tbody>\n",
       "    <tr>\n",
       "      <td>0</td>\n",
       "      <td>4001</td>\n",
       "      <td>Abilene</td>\n",
       "      <td>TX</td>\n",
       "      <td>32.448736</td>\n",
       "      <td>-99.733144</td>\n",
       "      <td>520.911560</td>\n",
       "      <td>Central Daylight Time</td>\n",
       "      <td>-5.0</td>\n",
       "    </tr>\n",
       "    <tr>\n",
       "      <td>1</td>\n",
       "      <td>4002</td>\n",
       "      <td>Akron</td>\n",
       "      <td>OH</td>\n",
       "      <td>41.081445</td>\n",
       "      <td>-81.519005</td>\n",
       "      <td>292.694763</td>\n",
       "      <td>Eastern Daylight Time</td>\n",
       "      <td>-4.0</td>\n",
       "    </tr>\n",
       "    <tr>\n",
       "      <td>2</td>\n",
       "      <td>4003</td>\n",
       "      <td>Albany</td>\n",
       "      <td>NY</td>\n",
       "      <td>42.652579</td>\n",
       "      <td>-73.756232</td>\n",
       "      <td>42.680080</td>\n",
       "      <td>Eastern Daylight Time</td>\n",
       "      <td>-4.0</td>\n",
       "    </tr>\n",
       "    <tr>\n",
       "      <td>3</td>\n",
       "      <td>4004</td>\n",
       "      <td>Albuquerque</td>\n",
       "      <td>NM</td>\n",
       "      <td>35.085334</td>\n",
       "      <td>-106.605553</td>\n",
       "      <td>1583.187500</td>\n",
       "      <td>Mountain Daylight Time</td>\n",
       "      <td>-6.0</td>\n",
       "    </tr>\n",
       "    <tr>\n",
       "      <td>4</td>\n",
       "      <td>4005</td>\n",
       "      <td>Allentown</td>\n",
       "      <td>PA</td>\n",
       "      <td>40.608430</td>\n",
       "      <td>-75.490183</td>\n",
       "      <td>104.915565</td>\n",
       "      <td>Eastern Daylight Time</td>\n",
       "      <td>-4.0</td>\n",
       "    </tr>\n",
       "  </tbody>\n",
       "</table>\n",
       "</div>"
      ],
      "text/plain": [
       "   CityID         City State        Lat         Lng  ElevationMeters  \\\n",
       "0    4001      Abilene    TX  32.448736  -99.733144       520.911560   \n",
       "1    4002        Akron    OH  41.081445  -81.519005       292.694763   \n",
       "2    4003       Albany    NY  42.652579  -73.756232        42.680080   \n",
       "3    4004  Albuquerque    NM  35.085334 -106.605553      1583.187500   \n",
       "4    4005    Allentown    PA  40.608430  -75.490183       104.915565   \n",
       "\n",
       "             TimezoneName  UTCOffsetHours  \n",
       "0   Central Daylight Time            -5.0  \n",
       "1   Eastern Daylight Time            -4.0  \n",
       "2   Eastern Daylight Time            -4.0  \n",
       "3  Mountain Daylight Time            -6.0  \n",
       "4   Eastern Daylight Time            -4.0  "
      ]
     },
     "execution_count": 184,
     "metadata": {},
     "output_type": "execute_result"
    }
   ],
   "source": [
    "CitiesEnriched.head()"
   ]
  },
  {
   "cell_type": "code",
   "execution_count": 207,
   "metadata": {},
   "outputs": [
    {
     "data": {
      "text/plain": [
       "(29.7604267, -95.36980279999999)"
      ]
     },
     "execution_count": 207,
     "metadata": {},
     "output_type": "execute_result"
    }
   ],
   "source": [
    "Houston_df = CitiesEnriched[CitiesEnriched['City'] == 'Houston']\n",
    "Houston_lat = list(Houston_df['Lat'])[0]\n",
    "Houston_lng = list(Houston_df['Lng'])[0]\n",
    "Houston = (Houston_lat, Houston_lng)\n",
    "Houston"
   ]
  },
  {
   "cell_type": "code",
   "execution_count": 208,
   "metadata": {},
   "outputs": [
    {
     "data": {
      "text/plain": [
       "(29.95106579999999, -90.0715323)"
      ]
     },
     "execution_count": 208,
     "metadata": {},
     "output_type": "execute_result"
    }
   ],
   "source": [
    "NewOrleans_df = CitiesEnriched[CitiesEnriched['City'] == 'New Orleans']\n",
    "NewOrleans_lat = list(NewOrleans_df['Lat'])[0]\n",
    "NewOrleans_lng = list(NewOrleans_df['Lng'])[0]\n",
    "NewOrleans = (NewOrleans_lat, NewOrleans_lng)\n",
    "NewOrleans"
   ]
  },
  {
   "cell_type": "code",
   "execution_count": 209,
   "metadata": {},
   "outputs": [
    {
     "name": "stdout",
     "output_type": "stream",
     "text": [
      "318.35235525617964\n"
     ]
    }
   ],
   "source": [
    "print(geodesic(Houston, NewOrleans).miles)"
   ]
  },
  {
   "cell_type": "code",
   "execution_count": 210,
   "metadata": {},
   "outputs": [
    {
     "data": {
      "text/plain": [
       "(30.627977, -96.3344068)"
      ]
     },
     "execution_count": 210,
     "metadata": {},
     "output_type": "execute_result"
    }
   ],
   "source": [
    "CollegeStation_df = CitiesEnriched[CitiesEnriched['City'] == 'College Station']\n",
    "CollegeStation_lat = list(CollegeStation_df['Lat'])[0]\n",
    "CollegeStation_lng = list(CollegeStation_df['Lng'])[0]\n",
    "CollegeStation = (CollegeStation_lat, CollegeStation_lng)\n",
    "CollegeStation"
   ]
  },
  {
   "cell_type": "code",
   "execution_count": 211,
   "metadata": {},
   "outputs": [
    {
     "name": "stdout",
     "output_type": "stream",
     "text": [
      "83.08099966574014\n"
     ]
    }
   ],
   "source": [
    "print(geodesic(Houston, CollegeStation).miles)"
   ]
  },
  {
   "cell_type": "code",
   "execution_count": 212,
   "metadata": {},
   "outputs": [
    {
     "data": {
      "text/html": [
       "<div>\n",
       "<style scoped>\n",
       "    .dataframe tbody tr th:only-of-type {\n",
       "        vertical-align: middle;\n",
       "    }\n",
       "\n",
       "    .dataframe tbody tr th {\n",
       "        vertical-align: top;\n",
       "    }\n",
       "\n",
       "    .dataframe thead th {\n",
       "        text-align: right;\n",
       "    }\n",
       "</style>\n",
       "<table border=\"1\" class=\"dataframe\">\n",
       "  <thead>\n",
       "    <tr style=\"text-align: right;\">\n",
       "      <th></th>\n",
       "      <th>CityID</th>\n",
       "      <th>City</th>\n",
       "      <th>State</th>\n",
       "      <th>Lat</th>\n",
       "      <th>Lng</th>\n",
       "      <th>ElevationMeters</th>\n",
       "      <th>TimezoneName</th>\n",
       "      <th>UTCOffsetHours</th>\n",
       "    </tr>\n",
       "  </thead>\n",
       "  <tbody>\n",
       "    <tr>\n",
       "      <td>397</td>\n",
       "      <td>4398</td>\n",
       "      <td>Teaneck</td>\n",
       "      <td>NJ</td>\n",
       "      <td>40.893247</td>\n",
       "      <td>-74.011654</td>\n",
       "      <td>37.898514</td>\n",
       "      <td>Eastern Daylight Time</td>\n",
       "      <td>-4.0</td>\n",
       "    </tr>\n",
       "  </tbody>\n",
       "</table>\n",
       "</div>"
      ],
      "text/plain": [
       "     CityID     City State        Lat        Lng  ElevationMeters  \\\n",
       "397    4398  Teaneck    NJ  40.893247 -74.011654        37.898514   \n",
       "\n",
       "              TimezoneName  UTCOffsetHours  \n",
       "397  Eastern Daylight Time            -4.0  "
      ]
     },
     "execution_count": 212,
     "metadata": {},
     "output_type": "execute_result"
    }
   ],
   "source": [
    "CitiesEnriched[CitiesEnriched['City'] == 'Teaneck']"
   ]
  },
  {
   "cell_type": "code",
   "execution_count": 134,
   "metadata": {},
   "outputs": [],
   "source": [
    "seeds = pd.read_csv('Data/Stage2DataFiles/NCAATourneySeeds.csv')"
   ]
  },
  {
   "cell_type": "code",
   "execution_count": 135,
   "metadata": {},
   "outputs": [
    {
     "data": {
      "text/html": [
       "<div>\n",
       "<style scoped>\n",
       "    .dataframe tbody tr th:only-of-type {\n",
       "        vertical-align: middle;\n",
       "    }\n",
       "\n",
       "    .dataframe tbody tr th {\n",
       "        vertical-align: top;\n",
       "    }\n",
       "\n",
       "    .dataframe thead th {\n",
       "        text-align: right;\n",
       "    }\n",
       "</style>\n",
       "<table border=\"1\" class=\"dataframe\">\n",
       "  <thead>\n",
       "    <tr style=\"text-align: right;\">\n",
       "      <th></th>\n",
       "      <th>Season</th>\n",
       "      <th>Seed</th>\n",
       "      <th>TeamID</th>\n",
       "    </tr>\n",
       "  </thead>\n",
       "  <tbody>\n",
       "    <tr>\n",
       "      <td>2281</td>\n",
       "      <td>2019</td>\n",
       "      <td>Z12</td>\n",
       "      <td>1332</td>\n",
       "    </tr>\n",
       "    <tr>\n",
       "      <td>2282</td>\n",
       "      <td>2019</td>\n",
       "      <td>Z13</td>\n",
       "      <td>1414</td>\n",
       "    </tr>\n",
       "    <tr>\n",
       "      <td>2283</td>\n",
       "      <td>2019</td>\n",
       "      <td>Z14</td>\n",
       "      <td>1330</td>\n",
       "    </tr>\n",
       "    <tr>\n",
       "      <td>2284</td>\n",
       "      <td>2019</td>\n",
       "      <td>Z15</td>\n",
       "      <td>1159</td>\n",
       "    </tr>\n",
       "    <tr>\n",
       "      <td>2285</td>\n",
       "      <td>2019</td>\n",
       "      <td>Z16</td>\n",
       "      <td>1205</td>\n",
       "    </tr>\n",
       "  </tbody>\n",
       "</table>\n",
       "</div>"
      ],
      "text/plain": [
       "      Season Seed  TeamID\n",
       "2281    2019  Z12    1332\n",
       "2282    2019  Z13    1414\n",
       "2283    2019  Z14    1330\n",
       "2284    2019  Z15    1159\n",
       "2285    2019  Z16    1205"
      ]
     },
     "execution_count": 135,
     "metadata": {},
     "output_type": "execute_result"
    }
   ],
   "source": [
    "seeds.tail()"
   ]
  },
  {
   "cell_type": "code",
   "execution_count": 136,
   "metadata": {},
   "outputs": [],
   "source": [
    "slots = pd.read_csv('Data/Stage2DataFiles/NCAATourneySlots.csv')"
   ]
  },
  {
   "cell_type": "code",
   "execution_count": 137,
   "metadata": {},
   "outputs": [],
   "source": [
    "slots_1 = slots.copy()\n",
    "slots_2 = slots.copy()\n",
    "slots_1 = slots_1[['Season', 'Slot', 'StrongSeed']]\n",
    "slots_2 = slots_2[['Season', 'Slot', 'WeakSeed']]"
   ]
  },
  {
   "cell_type": "code",
   "execution_count": 138,
   "metadata": {},
   "outputs": [],
   "source": [
    "slots_1.columns = ['Season', 'Slot', 'Seed']\n",
    "slots_2.columns = ['Season', 'Slot', 'Seed']"
   ]
  },
  {
   "cell_type": "code",
   "execution_count": 139,
   "metadata": {},
   "outputs": [
    {
     "data": {
      "text/html": [
       "<div>\n",
       "<style scoped>\n",
       "    .dataframe tbody tr th:only-of-type {\n",
       "        vertical-align: middle;\n",
       "    }\n",
       "\n",
       "    .dataframe tbody tr th {\n",
       "        vertical-align: top;\n",
       "    }\n",
       "\n",
       "    .dataframe thead th {\n",
       "        text-align: right;\n",
       "    }\n",
       "</style>\n",
       "<table border=\"1\" class=\"dataframe\">\n",
       "  <thead>\n",
       "    <tr style=\"text-align: right;\">\n",
       "      <th></th>\n",
       "      <th>Season</th>\n",
       "      <th>Slot</th>\n",
       "      <th>Seed</th>\n",
       "    </tr>\n",
       "  </thead>\n",
       "  <tbody>\n",
       "    <tr>\n",
       "      <td>0</td>\n",
       "      <td>1985</td>\n",
       "      <td>R1W1</td>\n",
       "      <td>W01</td>\n",
       "    </tr>\n",
       "    <tr>\n",
       "      <td>1</td>\n",
       "      <td>1985</td>\n",
       "      <td>R1W2</td>\n",
       "      <td>W02</td>\n",
       "    </tr>\n",
       "    <tr>\n",
       "      <td>2</td>\n",
       "      <td>1985</td>\n",
       "      <td>R1W3</td>\n",
       "      <td>W03</td>\n",
       "    </tr>\n",
       "    <tr>\n",
       "      <td>3</td>\n",
       "      <td>1985</td>\n",
       "      <td>R1W4</td>\n",
       "      <td>W04</td>\n",
       "    </tr>\n",
       "    <tr>\n",
       "      <td>4</td>\n",
       "      <td>1985</td>\n",
       "      <td>R1W5</td>\n",
       "      <td>W05</td>\n",
       "    </tr>\n",
       "  </tbody>\n",
       "</table>\n",
       "</div>"
      ],
      "text/plain": [
       "   Season  Slot Seed\n",
       "0    1985  R1W1  W01\n",
       "1    1985  R1W2  W02\n",
       "2    1985  R1W3  W03\n",
       "3    1985  R1W4  W04\n",
       "4    1985  R1W5  W05"
      ]
     },
     "execution_count": 139,
     "metadata": {},
     "output_type": "execute_result"
    }
   ],
   "source": [
    "slots_1.head()"
   ]
  },
  {
   "cell_type": "code",
   "execution_count": 140,
   "metadata": {},
   "outputs": [
    {
     "data": {
      "text/html": [
       "<div>\n",
       "<style scoped>\n",
       "    .dataframe tbody tr th:only-of-type {\n",
       "        vertical-align: middle;\n",
       "    }\n",
       "\n",
       "    .dataframe tbody tr th {\n",
       "        vertical-align: top;\n",
       "    }\n",
       "\n",
       "    .dataframe thead th {\n",
       "        text-align: right;\n",
       "    }\n",
       "</style>\n",
       "<table border=\"1\" class=\"dataframe\">\n",
       "  <thead>\n",
       "    <tr style=\"text-align: right;\">\n",
       "      <th></th>\n",
       "      <th>Season</th>\n",
       "      <th>Slot</th>\n",
       "      <th>Seed</th>\n",
       "    </tr>\n",
       "  </thead>\n",
       "  <tbody>\n",
       "    <tr>\n",
       "      <td>0</td>\n",
       "      <td>1985</td>\n",
       "      <td>R1W1</td>\n",
       "      <td>W16</td>\n",
       "    </tr>\n",
       "    <tr>\n",
       "      <td>1</td>\n",
       "      <td>1985</td>\n",
       "      <td>R1W2</td>\n",
       "      <td>W15</td>\n",
       "    </tr>\n",
       "    <tr>\n",
       "      <td>2</td>\n",
       "      <td>1985</td>\n",
       "      <td>R1W3</td>\n",
       "      <td>W14</td>\n",
       "    </tr>\n",
       "    <tr>\n",
       "      <td>3</td>\n",
       "      <td>1985</td>\n",
       "      <td>R1W4</td>\n",
       "      <td>W13</td>\n",
       "    </tr>\n",
       "    <tr>\n",
       "      <td>4</td>\n",
       "      <td>1985</td>\n",
       "      <td>R1W5</td>\n",
       "      <td>W12</td>\n",
       "    </tr>\n",
       "  </tbody>\n",
       "</table>\n",
       "</div>"
      ],
      "text/plain": [
       "   Season  Slot Seed\n",
       "0    1985  R1W1  W16\n",
       "1    1985  R1W2  W15\n",
       "2    1985  R1W3  W14\n",
       "3    1985  R1W4  W13\n",
       "4    1985  R1W5  W12"
      ]
     },
     "execution_count": 140,
     "metadata": {},
     "output_type": "execute_result"
    }
   ],
   "source": [
    "slots_2.head()"
   ]
  },
  {
   "cell_type": "code",
   "execution_count": 141,
   "metadata": {},
   "outputs": [],
   "source": [
    "slots = pd.concat([slots_1, slots_2])"
   ]
  },
  {
   "cell_type": "code",
   "execution_count": 142,
   "metadata": {},
   "outputs": [],
   "source": [
    "slots = slots.reset_index(drop = True)"
   ]
  },
  {
   "cell_type": "code",
   "execution_count": 143,
   "metadata": {},
   "outputs": [],
   "source": [
    "slots = pd.merge(slots, seeds, on = ['Season', 'Seed'], how = 'left')"
   ]
  },
  {
   "cell_type": "code",
   "execution_count": 145,
   "metadata": {},
   "outputs": [],
   "source": [
    "slots = slots.dropna()"
   ]
  },
  {
   "cell_type": "code",
   "execution_count": 148,
   "metadata": {},
   "outputs": [],
   "source": [
    "slots = slots[slots['Season'] >= 2003]"
   ]
  },
  {
   "cell_type": "code",
   "execution_count": 155,
   "metadata": {},
   "outputs": [
    {
     "data": {
      "text/plain": [
       "(1132, 4)"
      ]
     },
     "execution_count": 155,
     "metadata": {},
     "output_type": "execute_result"
    }
   ],
   "source": [
    "slots.shape"
   ]
  },
  {
   "cell_type": "code",
   "execution_count": 159,
   "metadata": {},
   "outputs": [
    {
     "data": {
      "text/html": [
       "<div>\n",
       "<style scoped>\n",
       "    .dataframe tbody tr th:only-of-type {\n",
       "        vertical-align: middle;\n",
       "    }\n",
       "\n",
       "    .dataframe tbody tr th {\n",
       "        vertical-align: top;\n",
       "    }\n",
       "\n",
       "    .dataframe thead th {\n",
       "        text-align: right;\n",
       "    }\n",
       "</style>\n",
       "<table border=\"1\" class=\"dataframe\">\n",
       "  <thead>\n",
       "    <tr style=\"text-align: right;\">\n",
       "      <th></th>\n",
       "      <th>Season</th>\n",
       "      <th>Slot</th>\n",
       "      <th>Seed</th>\n",
       "      <th>TeamID</th>\n",
       "    </tr>\n",
       "  </thead>\n",
       "  <tbody>\n",
       "    <tr>\n",
       "      <td>1138</td>\n",
       "      <td>2003</td>\n",
       "      <td>R1W3</td>\n",
       "      <td>W03</td>\n",
       "      <td>1393.0</td>\n",
       "    </tr>\n",
       "    <tr>\n",
       "      <td>1202</td>\n",
       "      <td>2004</td>\n",
       "      <td>R1W3</td>\n",
       "      <td>W03</td>\n",
       "      <td>1400.0</td>\n",
       "    </tr>\n",
       "    <tr>\n",
       "      <td>1266</td>\n",
       "      <td>2005</td>\n",
       "      <td>R1W3</td>\n",
       "      <td>W03</td>\n",
       "      <td>1211.0</td>\n",
       "    </tr>\n",
       "    <tr>\n",
       "      <td>1330</td>\n",
       "      <td>2006</td>\n",
       "      <td>R1W3</td>\n",
       "      <td>W03</td>\n",
       "      <td>1234.0</td>\n",
       "    </tr>\n",
       "    <tr>\n",
       "      <td>1394</td>\n",
       "      <td>2007</td>\n",
       "      <td>R1W3</td>\n",
       "      <td>W03</td>\n",
       "      <td>1450.0</td>\n",
       "    </tr>\n",
       "    <tr>\n",
       "      <td>1458</td>\n",
       "      <td>2008</td>\n",
       "      <td>R1W3</td>\n",
       "      <td>W03</td>\n",
       "      <td>1257.0</td>\n",
       "    </tr>\n",
       "    <tr>\n",
       "      <td>1522</td>\n",
       "      <td>2009</td>\n",
       "      <td>R1W3</td>\n",
       "      <td>W03</td>\n",
       "      <td>1437.0</td>\n",
       "    </tr>\n",
       "    <tr>\n",
       "      <td>1586</td>\n",
       "      <td>2010</td>\n",
       "      <td>R1W3</td>\n",
       "      <td>W03</td>\n",
       "      <td>1307.0</td>\n",
       "    </tr>\n",
       "    <tr>\n",
       "      <td>1650</td>\n",
       "      <td>2011</td>\n",
       "      <td>R1W3</td>\n",
       "      <td>W03</td>\n",
       "      <td>1393.0</td>\n",
       "    </tr>\n",
       "    <tr>\n",
       "      <td>1717</td>\n",
       "      <td>2012</td>\n",
       "      <td>R1W3</td>\n",
       "      <td>W03</td>\n",
       "      <td>1199.0</td>\n",
       "    </tr>\n",
       "    <tr>\n",
       "      <td>1784</td>\n",
       "      <td>2013</td>\n",
       "      <td>R1W3</td>\n",
       "      <td>W03</td>\n",
       "      <td>1266.0</td>\n",
       "    </tr>\n",
       "    <tr>\n",
       "      <td>1851</td>\n",
       "      <td>2014</td>\n",
       "      <td>R1W3</td>\n",
       "      <td>W03</td>\n",
       "      <td>1235.0</td>\n",
       "    </tr>\n",
       "    <tr>\n",
       "      <td>1922</td>\n",
       "      <td>2015</td>\n",
       "      <td>R1W3</td>\n",
       "      <td>W03</td>\n",
       "      <td>1328.0</td>\n",
       "    </tr>\n",
       "    <tr>\n",
       "      <td>1989</td>\n",
       "      <td>2016</td>\n",
       "      <td>R1W3</td>\n",
       "      <td>W03</td>\n",
       "      <td>1452.0</td>\n",
       "    </tr>\n",
       "    <tr>\n",
       "      <td>2056</td>\n",
       "      <td>2017</td>\n",
       "      <td>R1W3</td>\n",
       "      <td>W03</td>\n",
       "      <td>1124.0</td>\n",
       "    </tr>\n",
       "    <tr>\n",
       "      <td>2123</td>\n",
       "      <td>2018</td>\n",
       "      <td>R1W3</td>\n",
       "      <td>W03</td>\n",
       "      <td>1403.0</td>\n",
       "    </tr>\n",
       "    <tr>\n",
       "      <td>2190</td>\n",
       "      <td>2019</td>\n",
       "      <td>R1W3</td>\n",
       "      <td>W03</td>\n",
       "      <td>1261.0</td>\n",
       "    </tr>\n",
       "    <tr>\n",
       "      <td>3389</td>\n",
       "      <td>2003</td>\n",
       "      <td>R1W3</td>\n",
       "      <td>W14</td>\n",
       "      <td>1264.0</td>\n",
       "    </tr>\n",
       "    <tr>\n",
       "      <td>3453</td>\n",
       "      <td>2004</td>\n",
       "      <td>R1W3</td>\n",
       "      <td>W14</td>\n",
       "      <td>1343.0</td>\n",
       "    </tr>\n",
       "    <tr>\n",
       "      <td>3517</td>\n",
       "      <td>2005</td>\n",
       "      <td>R1W3</td>\n",
       "      <td>W14</td>\n",
       "      <td>1457.0</td>\n",
       "    </tr>\n",
       "    <tr>\n",
       "      <td>3581</td>\n",
       "      <td>2006</td>\n",
       "      <td>R1W3</td>\n",
       "      <td>W14</td>\n",
       "      <td>1322.0</td>\n",
       "    </tr>\n",
       "    <tr>\n",
       "      <td>3645</td>\n",
       "      <td>2007</td>\n",
       "      <td>R1W3</td>\n",
       "      <td>W14</td>\n",
       "      <td>1331.0</td>\n",
       "    </tr>\n",
       "    <tr>\n",
       "      <td>3709</td>\n",
       "      <td>2008</td>\n",
       "      <td>R1W3</td>\n",
       "      <td>W14</td>\n",
       "      <td>1129.0</td>\n",
       "    </tr>\n",
       "    <tr>\n",
       "      <td>3773</td>\n",
       "      <td>2009</td>\n",
       "      <td>R1W3</td>\n",
       "      <td>W14</td>\n",
       "      <td>1110.0</td>\n",
       "    </tr>\n",
       "    <tr>\n",
       "      <td>3837</td>\n",
       "      <td>2010</td>\n",
       "      <td>R1W3</td>\n",
       "      <td>W14</td>\n",
       "      <td>1285.0</td>\n",
       "    </tr>\n",
       "    <tr>\n",
       "      <td>3901</td>\n",
       "      <td>2011</td>\n",
       "      <td>R1W3</td>\n",
       "      <td>W14</td>\n",
       "      <td>1232.0</td>\n",
       "    </tr>\n",
       "    <tr>\n",
       "      <td>3968</td>\n",
       "      <td>2012</td>\n",
       "      <td>R1W3</td>\n",
       "      <td>W14</td>\n",
       "      <td>1382.0</td>\n",
       "    </tr>\n",
       "    <tr>\n",
       "      <td>4035</td>\n",
       "      <td>2013</td>\n",
       "      <td>R1W3</td>\n",
       "      <td>W14</td>\n",
       "      <td>1172.0</td>\n",
       "    </tr>\n",
       "    <tr>\n",
       "      <td>4102</td>\n",
       "      <td>2014</td>\n",
       "      <td>R1W3</td>\n",
       "      <td>W14</td>\n",
       "      <td>1300.0</td>\n",
       "    </tr>\n",
       "    <tr>\n",
       "      <td>4173</td>\n",
       "      <td>2015</td>\n",
       "      <td>R1W3</td>\n",
       "      <td>W14</td>\n",
       "      <td>1107.0</td>\n",
       "    </tr>\n",
       "    <tr>\n",
       "      <td>4240</td>\n",
       "      <td>2016</td>\n",
       "      <td>R1W3</td>\n",
       "      <td>W14</td>\n",
       "      <td>1372.0</td>\n",
       "    </tr>\n",
       "    <tr>\n",
       "      <td>4307</td>\n",
       "      <td>2017</td>\n",
       "      <td>R1W3</td>\n",
       "      <td>W14</td>\n",
       "      <td>1308.0</td>\n",
       "    </tr>\n",
       "    <tr>\n",
       "      <td>4374</td>\n",
       "      <td>2018</td>\n",
       "      <td>R1W3</td>\n",
       "      <td>W14</td>\n",
       "      <td>1372.0</td>\n",
       "    </tr>\n",
       "    <tr>\n",
       "      <td>4441</td>\n",
       "      <td>2019</td>\n",
       "      <td>R1W3</td>\n",
       "      <td>W14</td>\n",
       "      <td>1463.0</td>\n",
       "    </tr>\n",
       "  </tbody>\n",
       "</table>\n",
       "</div>"
      ],
      "text/plain": [
       "      Season  Slot Seed  TeamID\n",
       "1138    2003  R1W3  W03  1393.0\n",
       "1202    2004  R1W3  W03  1400.0\n",
       "1266    2005  R1W3  W03  1211.0\n",
       "1330    2006  R1W3  W03  1234.0\n",
       "1394    2007  R1W3  W03  1450.0\n",
       "1458    2008  R1W3  W03  1257.0\n",
       "1522    2009  R1W3  W03  1437.0\n",
       "1586    2010  R1W3  W03  1307.0\n",
       "1650    2011  R1W3  W03  1393.0\n",
       "1717    2012  R1W3  W03  1199.0\n",
       "1784    2013  R1W3  W03  1266.0\n",
       "1851    2014  R1W3  W03  1235.0\n",
       "1922    2015  R1W3  W03  1328.0\n",
       "1989    2016  R1W3  W03  1452.0\n",
       "2056    2017  R1W3  W03  1124.0\n",
       "2123    2018  R1W3  W03  1403.0\n",
       "2190    2019  R1W3  W03  1261.0\n",
       "3389    2003  R1W3  W14  1264.0\n",
       "3453    2004  R1W3  W14  1343.0\n",
       "3517    2005  R1W3  W14  1457.0\n",
       "3581    2006  R1W3  W14  1322.0\n",
       "3645    2007  R1W3  W14  1331.0\n",
       "3709    2008  R1W3  W14  1129.0\n",
       "3773    2009  R1W3  W14  1110.0\n",
       "3837    2010  R1W3  W14  1285.0\n",
       "3901    2011  R1W3  W14  1232.0\n",
       "3968    2012  R1W3  W14  1382.0\n",
       "4035    2013  R1W3  W14  1172.0\n",
       "4102    2014  R1W3  W14  1300.0\n",
       "4173    2015  R1W3  W14  1107.0\n",
       "4240    2016  R1W3  W14  1372.0\n",
       "4307    2017  R1W3  W14  1308.0\n",
       "4374    2018  R1W3  W14  1372.0\n",
       "4441    2019  R1W3  W14  1463.0"
      ]
     },
     "execution_count": 159,
     "metadata": {},
     "output_type": "execute_result"
    }
   ],
   "source": [
    "slots[slots['Slot'] == 'R1W3']"
   ]
  },
  {
   "cell_type": "code",
   "execution_count": 161,
   "metadata": {},
   "outputs": [
    {
     "data": {
      "text/html": [
       "<div>\n",
       "<style scoped>\n",
       "    .dataframe tbody tr th:only-of-type {\n",
       "        vertical-align: middle;\n",
       "    }\n",
       "\n",
       "    .dataframe tbody tr th {\n",
       "        vertical-align: top;\n",
       "    }\n",
       "\n",
       "    .dataframe thead th {\n",
       "        text-align: right;\n",
       "    }\n",
       "</style>\n",
       "<table border=\"1\" class=\"dataframe\">\n",
       "  <thead>\n",
       "    <tr style=\"text-align: right;\">\n",
       "      <th></th>\n",
       "      <th>Season</th>\n",
       "      <th>DayNum</th>\n",
       "      <th>WTeamID</th>\n",
       "      <th>WScore</th>\n",
       "      <th>LTeamID</th>\n",
       "      <th>LScore</th>\n",
       "      <th>WLoc</th>\n",
       "      <th>NumOT</th>\n",
       "    </tr>\n",
       "  </thead>\n",
       "  <tbody>\n",
       "    <tr>\n",
       "      <td>1136</td>\n",
       "      <td>2003</td>\n",
       "      <td>134</td>\n",
       "      <td>1421</td>\n",
       "      <td>92</td>\n",
       "      <td>1411</td>\n",
       "      <td>84</td>\n",
       "      <td>N</td>\n",
       "      <td>1</td>\n",
       "    </tr>\n",
       "    <tr>\n",
       "      <td>1137</td>\n",
       "      <td>2003</td>\n",
       "      <td>136</td>\n",
       "      <td>1112</td>\n",
       "      <td>80</td>\n",
       "      <td>1436</td>\n",
       "      <td>51</td>\n",
       "      <td>N</td>\n",
       "      <td>0</td>\n",
       "    </tr>\n",
       "    <tr>\n",
       "      <td>1138</td>\n",
       "      <td>2003</td>\n",
       "      <td>136</td>\n",
       "      <td>1113</td>\n",
       "      <td>84</td>\n",
       "      <td>1272</td>\n",
       "      <td>71</td>\n",
       "      <td>N</td>\n",
       "      <td>0</td>\n",
       "    </tr>\n",
       "    <tr>\n",
       "      <td>1139</td>\n",
       "      <td>2003</td>\n",
       "      <td>136</td>\n",
       "      <td>1141</td>\n",
       "      <td>79</td>\n",
       "      <td>1166</td>\n",
       "      <td>73</td>\n",
       "      <td>N</td>\n",
       "      <td>0</td>\n",
       "    </tr>\n",
       "    <tr>\n",
       "      <td>1140</td>\n",
       "      <td>2003</td>\n",
       "      <td>136</td>\n",
       "      <td>1143</td>\n",
       "      <td>76</td>\n",
       "      <td>1301</td>\n",
       "      <td>74</td>\n",
       "      <td>N</td>\n",
       "      <td>1</td>\n",
       "    </tr>\n",
       "  </tbody>\n",
       "</table>\n",
       "</div>"
      ],
      "text/plain": [
       "      Season  DayNum  WTeamID  WScore  LTeamID  LScore WLoc  NumOT\n",
       "1136    2003     134     1421      92     1411      84    N      1\n",
       "1137    2003     136     1112      80     1436      51    N      0\n",
       "1138    2003     136     1113      84     1272      71    N      0\n",
       "1139    2003     136     1141      79     1166      73    N      0\n",
       "1140    2003     136     1143      76     1301      74    N      1"
      ]
     },
     "execution_count": 161,
     "metadata": {},
     "output_type": "execute_result"
    }
   ],
   "source": [
    "tourney_comp.head()"
   ]
  },
  {
   "cell_type": "code",
   "execution_count": 164,
   "metadata": {},
   "outputs": [],
   "source": [
    "num_games = list(range(len(tourney_comp)))"
   ]
  },
  {
   "cell_type": "code",
   "execution_count": null,
   "metadata": {},
   "outputs": [],
   "source": [
    "for game in num_games:\n",
    "    team_1 = (list(tourney_comp['WTeamID']))[0]\n",
    "    team_2 = (list(tourney_comp['LTeamID']))[0]\n",
    "    if "
   ]
  },
  {
   "cell_type": "code",
   "execution_count": 167,
   "metadata": {
    "scrolled": true
   },
   "outputs": [
    {
     "data": {
      "text/plain": [
       "1421"
      ]
     },
     "execution_count": 167,
     "metadata": {},
     "output_type": "execute_result"
    }
   ],
   "source": [
    "(list(tourney_comp['WTeamID']))[0]"
   ]
  },
  {
   "cell_type": "markdown",
   "metadata": {},
   "source": [
    "### Web Scraping"
   ]
  },
  {
   "cell_type": "code",
   "execution_count": 819,
   "metadata": {},
   "outputs": [],
   "source": [
    "# import re\n",
    "# import os\n",
    "# import time\n",
    "# import random\n",
    "# import requests\n",
    "# import numpy as np\n",
    "# import pandas as pd\n",
    "# from os import system\n",
    "# from math import floor\n",
    "# from copy import deepcopy\n",
    "# from bs4 import BeautifulSoup\n",
    "# from selenium import webdriver\n",
    "# from selenium.webdriver.common.by import By\n",
    "# from selenium.webdriver.common.keys import Keys\n",
    "# from selenium.common.exceptions import TimeoutException\n",
    "# from selenium.webdriver.support.ui import WebDriverWait\n",
    "# from selenium.webdriver.support import expected_conditions as EC\n",
    "\n",
    "# from selenium.webdriver.support.ui import Select\n",
    "\n",
    "# from selenium import webdriver"
   ]
  },
  {
   "cell_type": "code",
   "execution_count": 820,
   "metadata": {},
   "outputs": [],
   "source": [
    "# url = \"https://www.sports-reference.com/cbb/postseason/2019-ncaa.html\"\n",
    "# driver = webdriver.Chrome(executable_path=r'/Users/timothyphugele/Downloads/chromedriver')\n",
    "# driver.get(url)"
   ]
  },
  {
   "cell_type": "code",
   "execution_count": 821,
   "metadata": {},
   "outputs": [],
   "source": [
    "# games = []\n",
    "# time.sleep(1)\n",
    "# y = driver.find_element_by_xpath('/html/body/div[2]/div[2]/div[1]/div[2]/h1[1]/span[1]').text\n",
    "\n",
    "# x_index = list(range(1,7))\n",
    "\n",
    "# for x in x_index:\n",
    "#     index = list(range(1, 9))\n",
    "#     time.sleep(2)\n",
    "    \n",
    "#     y = driver.find_element_by_xpath('/html/body/div[2]/div[2]/div[1]/div[2]/h1[1]/span[1]').text\n",
    "    \n",
    "#     t1 = driver.find_element_by_xpath('/html/body/div[2]/div[5]/div[4]/div[1]/p[1]/a[1]').text\n",
    "#     # t2 = driver.find_element_by_xpath('/html/body/div[2]/div[5]/div[4]/div[1]/p[1]/strong[4]/a[1]').text\n",
    "#     t2 = driver.find_element_by_xpath('/html/body/div[2]/div[5]/div[4]/div[1]/p[1]/a[1]').text\n",
    "#     loc = driver.find_element_by_xpath('/html/body/div[2]/div[5]/div[4]/div[1]/p[1]/span[1]').text\n",
    "#     city = loc[0].strip('at ')\n",
    "#     state = loc[1]\n",
    "#     game = {'Season' : y, 'T1_TeamName' : t1, 'T2_TeamName' : t2, 'City' : city, 'State' : state}\n",
    "#     games.append(game)\n",
    "    \n",
    "#     for i in index:\n",
    "        \n",
    "#         t1 = driver.find_element_by_xpath('/html/body/div[2]/div[5]/div[4]/div[1]/div[1]/div[1]/div[{}]/div[1]/a[1]'.format(i)).text\n",
    "#         t2 = driver.find_element_by_xpath('/html/body/div[2]/div[5]/div[4]/div[1]/div[1]/div[1]/div[{}]/div[2]/a[1]'.format(i)).text\n",
    "#         loc = driver.find_element_by_xpath('/html/body/div[2]/div[5]/div[4]/div[1]/div[1]/div[1]/div[{}]/span[1]'.format(i)).text.split(',')\n",
    "#         city = loc[0].strip('at ')\n",
    "#         state = loc[1]\n",
    "#         game = {'Season' : y, 'T1_TeamName' : t1, 'T2_TeamName' : t2, 'City' : city, 'State' : state}\n",
    "#         games.append(game)\n",
    "    \n",
    "#     index_2 = list(range(1,5))\n",
    "#     for i2 in index_2:\n",
    "        \n",
    "#         t1 = driver.find_element_by_xpath('/html/body/div[2]/div[5]/div[4]/div[1]/div[1]/div[2]/div[{}]/div[1]/a[1]'.format(i2)).text\n",
    "#         t2 = driver.find_element_by_xpath('/html/body/div[2]/div[5]/div[4]/div[1]/div[1]/div[2]/div[{}]/div[2]/a[1]'.format(i2)).text\n",
    "#         loc = driver.find_element_by_xpath('/html/body/div[2]/div[5]/div[4]/div[1]/div[1]/div[2]/div[{}]/span[1]'.format(i2)).text.split(',')\n",
    "#         city = loc[0].strip('at ')\n",
    "#         state = loc[1]\n",
    "#         game = {'Season' : y, 'T1_TeamName' : t1, 'T2_TeamName' : t2, 'City' : city, 'State' : state}\n",
    "#         games.append(game)\n",
    "    \n",
    "#     index_3 = list(range(1,3))\n",
    "#     for i3 in index_3:\n",
    "\n",
    "#         t1 = driver.find_element_by_xpath('/html/body/div[2]/div[5]/div[4]/div[1]/div[1]/div[3]/div[{}]/div[1]/a[1]'.format(i3)).text\n",
    "#         t2 = driver.find_element_by_xpath('/html/body/div[2]/div[5]/div[4]/div[1]/div[1]/div[3]/div[{}]/div[2]/a[1]'.format(i3)).text\n",
    "#         loc = driver.find_element_by_xpath('/html/body/div[2]/div[5]/div[4]/div[1]/div[1]/div[3]/div[{}]/span[1]'.format(i3)).text.split(',')\n",
    "#         city = loc[0].strip('at ')\n",
    "#         state = loc[1]\n",
    "#         game = {'Season' : y, 'T1_TeamName' : t1, 'T2_TeamName' : t2, 'City' : city, 'State' : state}\n",
    "#         games.append(game)\n",
    "    \n",
    "#     t1 = driver.find_element_by_xpath('/html/body/div[2]/div[5]/div[4]/div[1]/div[1]/div[4]/div[1]/div[1]/a[1]').text\n",
    "#     t2 = driver.find_element_by_xpath('/html/body/div[2]/div[5]/div[4]/div[1]/div[1]/div[4]/div[1]/div[2]/a[1]').text\n",
    "#     loc = driver.find_element_by_xpath('/html/body/div[2]/div[5]/div[4]/div[1]/div[1]/div[4]/div[1]/span[1]').text.split(',')\n",
    "#     city = loc[0].strip('at ')\n",
    "#     state = loc[1]\n",
    "#     game = {'Season' : y, 'T1_TeamName' : t1, 'T2_TeamName' : t2, 'City' : city, 'State' : state}\n",
    "#     games.append(game)\n",
    "\n",
    "#     driver.find_element_by_xpath('/html/body/div[2]/div[5]/div[3]/div[2]/a').click()\n",
    "\n",
    "#     index = list(range(1, 9))\n",
    "#     for i in index:\n",
    "        \n",
    "#         t1 = driver.find_element_by_xpath('/html/body/div[2]/div[5]/div[4]/div[2]/div[1]/div[1]/div[{}]/div[1]/a[1]'.format(i)).text\n",
    "#         t2 = driver.find_element_by_xpath('/html/body/div[2]/div[5]/div[4]/div[2]/div[1]/div[1]/div[{}]/div[2]/a[1]'.format(i)).text\n",
    "#         loc = driver.find_element_by_xpath('/html/body/div[2]/div[5]/div[4]/div[2]/div[1]/div[1]/div[{}]/span[1]'.format(i)).text.split(',')\n",
    "#         city = loc[0].strip('at ')\n",
    "#         state = loc[1]\n",
    "#         game = {'Season' : y, 'T1_TeamName' : t1, 'T2_TeamName' : t2, 'City' : city, 'State' : state}\n",
    "#         games.append(game)\n",
    "    \n",
    "#     index_2 = list(range(1,5))\n",
    "#     for i2 in index_2:\n",
    "\n",
    "#         t1 = driver.find_element_by_xpath('/html/body/div[2]/div[5]/div[4]/div[2]/div[1]/div[2]/div[{}]/div[1]/a[1]'.format(i2)).text\n",
    "#         t2 = driver.find_element_by_xpath('/html/body/div[2]/div[5]/div[4]/div[2]/div[1]/div[2]/div[{}]/div[2]/a[1]'.format(i2)).text\n",
    "#         loc = driver.find_element_by_xpath('/html/body/div[2]/div[5]/div[4]/div[2]/div[1]/div[2]/div[{}]/span[1]'.format(i2)).text.split(',')\n",
    "#         city = loc[0].strip('at ')\n",
    "#         state = loc[1]\n",
    "#         game = {'Season' : y, 'T1_TeamName' : t1, 'T2_TeamName' : t2, 'City' : city, 'State' : state}\n",
    "#         games.append(game)\n",
    "    \n",
    "#     index_3 = list(range(1,3))\n",
    "#     for i3 in index_3:\n",
    "\n",
    "#         t1 = driver.find_element_by_xpath('/html/body/div[2]/div[5]/div[4]/div[2]/div[1]/div[3]/div[{}]/div[1]/a[1]'.format(i3)).text\n",
    "#         t2 = driver.find_element_by_xpath('/html/body/div[2]/div[5]/div[4]/div[2]/div[1]/div[3]/div[{}]/div[2]/a[1]'.format(i3)).text\n",
    "#         loc = driver.find_element_by_xpath('/html/body/div[2]/div[5]/div[4]/div[2]/div[1]/div[3]/div[{}]/span[1]'.format(i3)).text.split(',')\n",
    "#         city = loc[0].strip('at ')\n",
    "#         state = loc[1]\n",
    "#         game = {'Season' : y, 'T1_TeamName' : t1, 'T2_TeamName' : t2, 'City' : city, 'State' : state}\n",
    "#         games.append(game)\n",
    "\n",
    "#     t1 = driver.find_element_by_xpath('/html/body/div[2]/div[5]/div[4]/div[2]/div[1]/div[4]/div[1]/div[1]/a[1]').text\n",
    "#     t2 = driver.find_element_by_xpath('/html/body/div[2]/div[5]/div[4]/div[2]/div[1]/div[4]/div[1]/div[2]/a[1]').text\n",
    "#     loc = driver.find_element_by_xpath('/html/body/div[2]/div[5]/div[4]/div[2]/div[1]/div[4]/div[1]/span[1]').text.split(',')\n",
    "#     city = loc[0].strip('at ')\n",
    "#     state = loc[1]\n",
    "#     game = {'Season' : y, 'T1_TeamName' : t1, 'T2_TeamName' : t2, 'City' : city, 'State' : state}\n",
    "#     games.append(game)\n",
    "\n",
    "#     driver.find_element_by_xpath('/html/body/div[2]/div[5]/div[3]/div[3]/a').click()\n",
    "\n",
    "#     index = list(range(1, 9))\n",
    "#     for i in index:\n",
    "\n",
    "#         t1 = driver.find_element_by_xpath('/html/body/div[2]/div[5]/div[4]/div[3]/div[1]/div[1]/div[{}]/div[1]/a[1]'.format(i)).text\n",
    "#         t2 = driver.find_element_by_xpath('/html/body/div[2]/div[5]/div[4]/div[3]/div[1]/div[1]/div[{}]/div[2]/a[1]'.format(i)).text\n",
    "#         loc = driver.find_element_by_xpath('/html/body/div[2]/div[5]/div[4]/div[3]/div[1]/div[1]/div[{}]/span[1]'.format(i)).text.split(',')\n",
    "#         city = loc[0].strip('at ')\n",
    "#         state = loc[1]\n",
    "#         game = {'Season' : y, 'T1_TeamName' : t1, 'T2_TeamName' : t2, 'City' : city, 'State' : state}\n",
    "#         games.append(game)\n",
    "    \n",
    "#     index_2 = list(range(1,5))\n",
    "#     for i2 in index_2:\n",
    "\n",
    "#         t1 = driver.find_element_by_xpath('/html/body/div[2]/div[5]/div[4]/div[3]/div[1]/div[2]/div[{}]/div[1]/a[1]'.format(i2)).text\n",
    "#         t2 = driver.find_element_by_xpath('/html/body/div[2]/div[5]/div[4]/div[3]/div[1]/div[2]/div[{}]/div[2]/a[1]'.format(i2)).text\n",
    "#         loc = driver.find_element_by_xpath('/html/body/div[2]/div[5]/div[4]/div[3]/div[1]/div[2]/div[{}]/span[1]'.format(i2)).text.split(',')\n",
    "#         city = loc[0].strip('at ')\n",
    "#         state = loc[1]\n",
    "#         game = {'Season' : y, 'T1_TeamName' : t1, 'T2_TeamName' : t2, 'City' : city, 'State' : state}\n",
    "#         games.append(game)\n",
    "    \n",
    "#     index_3 = list(range(1,3))\n",
    "#     for i3 in index_3:\n",
    "\n",
    "#         t1 = driver.find_element_by_xpath('/html/body/div[2]/div[5]/div[4]/div[3]/div[1]/div[3]/div[{}]/div[1]/a[1]'.format(i3)).text\n",
    "#         t2 = driver.find_element_by_xpath('/html/body/div[2]/div[5]/div[4]/div[3]/div[1]/div[3]/div[{}]/div[2]/a[1]'.format(i3)).text\n",
    "#         loc = driver.find_element_by_xpath('/html/body/div[2]/div[5]/div[4]/div[3]/div[1]/div[3]/div[{}]/span[1]'.format(i3)).text.split(',')\n",
    "#         city = loc[0].strip('at ')\n",
    "#         state = loc[1]\n",
    "#         game = {'Season' : y, 'T1_TeamName' : t1, 'T2_TeamName' : t2, 'City' : city, 'State' : state}\n",
    "#         games.append(game)\n",
    "\n",
    "#     t1 = driver.find_element_by_xpath('/html/body/div[2]/div[5]/div[4]/div[3]/div[1]/div[4]/div[1]/div[1]/a[1]').text\n",
    "#     t2 = driver.find_element_by_xpath('/html/body/div[2]/div[5]/div[4]/div[3]/div[1]/div[4]/div[1]/div[2]/a[1]').text\n",
    "#     loc = driver.find_element_by_xpath('/html/body/div[2]/div[5]/div[4]/div[3]/div[1]/div[4]/div[1]/span[1]').text.split(',')\n",
    "#     city = loc[0].strip('at ')\n",
    "#     state = loc[1]\n",
    "#     game = {'Season' : y, 'T1_TeamName' : t1, 'T2_TeamName' : t2, 'City' : city, 'State' : state}\n",
    "#     games.append(game)\n",
    "\n",
    "#     driver.find_element_by_xpath('/html/body/div[2]/div[5]/div[3]/div[4]/a').click()\n",
    "\n",
    "#     index = list(range(1, 9))\n",
    "#     for i in index:\n",
    "\n",
    "#         t1 = driver.find_element_by_xpath('/html/body/div[2]/div[5]/div[4]/div[4]/div[1]/div[1]/div[{}]/div[1]/a[1]'.format(i)).text\n",
    "#         t2 = driver.find_element_by_xpath('/html/body/div[2]/div[5]/div[4]/div[4]/div[1]/div[1]/div[{}]/div[2]/a[1]'.format(i)).text\n",
    "#         loc = driver.find_element_by_xpath('/html/body/div[2]/div[5]/div[4]/div[4]/div[1]/div[1]/div[{}]/span[1]'.format(i)).text.split(',')\n",
    "#         city = loc[0].strip('at ')\n",
    "#         state = loc[1]\n",
    "#         game = {'Season' : y, 'T1_TeamName' : t1, 'T2_TeamName' : t2, 'City' : city, 'State' : state}\n",
    "#         games.append(game)\n",
    "    \n",
    "#     index_2 = list(range(1,5))\n",
    "#     for i2 in index_2:\n",
    "        \n",
    "#         t1 = driver.find_element_by_xpath('/html/body/div[2]/div[5]/div[4]/div[4]/div[1]/div[2]/div[{}]/div[1]/a[1]'.format(i2)).text\n",
    "#         t2 = driver.find_element_by_xpath('/html/body/div[2]/div[5]/div[4]/div[4]/div[1]/div[2]/div[{}]/div[2]/a[1]'.format(i2)).text\n",
    "#         loc = driver.find_element_by_xpath('/html/body/div[2]/div[5]/div[4]/div[4]/div[1]/div[2]/div[{}]/span[1]'.format(i2)).text.split(',')\n",
    "#         city = loc[0].strip('at ')\n",
    "#         state = loc[1]\n",
    "#         game = {'Season' : y, 'T1_TeamName' : t1, 'T2_TeamName' : t2, 'City' : city, 'State' : state}\n",
    "#         games.append(game)\n",
    "    \n",
    "#     index_3 = list(range(1,3))\n",
    "#     for i3 in index_3:\n",
    "\n",
    "#         t1 = driver.find_element_by_xpath('/html/body/div[2]/div[5]/div[4]/div[4]/div[1]/div[3]/div[{}]/div[1]/a[1]'.format(i3)).text\n",
    "#         t2 = driver.find_element_by_xpath('/html/body/div[2]/div[5]/div[4]/div[4]/div[1]/div[3]/div[{}]/div[2]/a[1]'.format(i3)).text\n",
    "#         loc = driver.find_element_by_xpath('/html/body/div[2]/div[5]/div[4]/div[4]/div[1]/div[3]/div[{}]/span[1]'.format(i3)).text.split(',')\n",
    "#         city = loc[0].strip('at ')\n",
    "#         state = loc[1]\n",
    "#         game = {'Season' : y, 'T1_TeamName' : t1, 'T2_TeamName' : t2, 'City' : city, 'State' : state}\n",
    "#         games.append(game)\n",
    "\n",
    "#     t1 = driver.find_element_by_xpath('/html/body/div[2]/div[5]/div[4]/div[4]/div[1]/div[4]/div[1]/div[1]/a[1]').text\n",
    "#     t2 = driver.find_element_by_xpath('/html/body/div[2]/div[5]/div[4]/div[4]/div[1]/div[4]/div[1]/div[2]/a[1]').text\n",
    "#     loc = driver.find_element_by_xpath('/html/body/div[2]/div[5]/div[4]/div[4]/div[1]/div[4]/div[1]/span[1]').text.split(',')\n",
    "#     city = loc[0].strip('at ')\n",
    "#     state = loc[1]\n",
    "#     game = {'Season' : y, 'T1_TeamName' : t1, 'T2_TeamName' : t2, 'City' : city, 'State' : state}\n",
    "#     games.append(game)\n",
    "\n",
    "#     driver.find_element_by_xpath('/html/body/div[2]/div[5]/div[3]/div[5]/a').click()\n",
    "\n",
    "#     index = list(range(1, 3))\n",
    "#     for i in index:\n",
    "\n",
    "#         t1 = driver.find_element_by_xpath('/html/body/div[2]/div[5]/div[4]/div[5]/div[1]/div[1]/div[{}]/div[1]/a[1]'.format(i)).text\n",
    "#         t2 = driver.find_element_by_xpath('/html/body/div[2]/div[5]/div[4]/div[5]/div[1]/div[1]/div[{}]/div[2]/a[1]'.format(i)).text\n",
    "#         loc = driver.find_element_by_xpath('/html/body/div[2]/div[5]/div[4]/div[5]/div[1]/div[1]/div[{}]/span[1]'.format(i)).text.split(',')\n",
    "#         city = loc[0].strip('at ')\n",
    "#         state = loc[1]\n",
    "#         game = {'Season' : y, 'T1_TeamName' : t1, 'T2_TeamName' : t2, 'City' : city, 'State' : state}\n",
    "#         games.append(game)\n",
    "\n",
    "#     t1 = driver.find_element_by_xpath('/html/body/div[2]/div[5]/div[4]/div[5]/div[1]/div[2]/div[1]/div[1]/a[1]').text\n",
    "#     t2 = driver.find_element_by_xpath('/html/body/div[2]/div[5]/div[4]/div[5]/div[1]/div[2]/div[1]/div[2]/a[1]').text\n",
    "#     loc = driver.find_element_by_xpath('/html/body/div[2]/div[5]/div[4]/div[5]/div[1]/div[2]/div[1]/span[1]').text.split(',')\n",
    "#     city = loc[0].strip('at ')\n",
    "#     state = loc[1]\n",
    "#     game = {'Season' : y, 'T1_TeamName' : t1, 'T2_TeamName' : t2, 'City' : city, 'State' : state}\n",
    "#     games.append(game)\n",
    "\n",
    "#     driver.find_element_by_xpath('/html/body/div[2]/div[2]/div[1]/div[2]/div[1]/a[3]').click()\n",
    "\n",
    "# driver.quit()"
   ]
  },
  {
   "cell_type": "code",
   "execution_count": 822,
   "metadata": {},
   "outputs": [],
   "source": [
    "# len(games)"
   ]
  },
  {
   "cell_type": "code",
   "execution_count": 823,
   "metadata": {},
   "outputs": [],
   "source": [
    "# games_part1 = games"
   ]
  },
  {
   "cell_type": "code",
   "execution_count": 824,
   "metadata": {},
   "outputs": [],
   "source": [
    "# games_part1.append(games) # 2003, 2004, 2005, 2006, 2007"
   ]
  },
  {
   "cell_type": "code",
   "execution_count": 825,
   "metadata": {},
   "outputs": [],
   "source": [
    "# len(games_part1)"
   ]
  },
  {
   "cell_type": "code",
   "execution_count": 826,
   "metadata": {},
   "outputs": [],
   "source": [
    "# games_df = pd.DataFrame(games_part1)"
   ]
  },
  {
   "cell_type": "code",
   "execution_count": 827,
   "metadata": {},
   "outputs": [],
   "source": [
    "# games_2003_2004 = games_df"
   ]
  },
  {
   "cell_type": "code",
   "execution_count": 828,
   "metadata": {},
   "outputs": [],
   "source": [
    "# games_2005_2006 = games_df"
   ]
  },
  {
   "cell_type": "code",
   "execution_count": 829,
   "metadata": {},
   "outputs": [],
   "source": [
    "# games_2007_2012 = games_df"
   ]
  },
  {
   "cell_type": "code",
   "execution_count": 830,
   "metadata": {},
   "outputs": [],
   "source": [
    "# games_2013 = games_df"
   ]
  },
  {
   "cell_type": "code",
   "execution_count": 831,
   "metadata": {},
   "outputs": [],
   "source": [
    "# games_2014 = games_df"
   ]
  },
  {
   "cell_type": "code",
   "execution_count": 832,
   "metadata": {},
   "outputs": [],
   "source": [
    "# games_2015 = games_df"
   ]
  },
  {
   "cell_type": "code",
   "execution_count": 833,
   "metadata": {},
   "outputs": [],
   "source": [
    "# games_2016_2017 = games_df"
   ]
  },
  {
   "cell_type": "code",
   "execution_count": 834,
   "metadata": {},
   "outputs": [],
   "source": [
    "# games_2018 = games_df"
   ]
  },
  {
   "cell_type": "code",
   "execution_count": 835,
   "metadata": {},
   "outputs": [],
   "source": [
    "# games_2019 = games_df"
   ]
  },
  {
   "cell_type": "code",
   "execution_count": 836,
   "metadata": {},
   "outputs": [],
   "source": [
    "# games_2003 = games_2003_2004[games_2003_2004['Season'] == '2003']"
   ]
  },
  {
   "cell_type": "code",
   "execution_count": 837,
   "metadata": {},
   "outputs": [],
   "source": [
    "# games_2004 = games_2003_2004[games_2003_2004['Season'] == '2004']"
   ]
  },
  {
   "cell_type": "code",
   "execution_count": 838,
   "metadata": {},
   "outputs": [],
   "source": [
    "# games_2005 = games_2005_2006[games_2005_2006['Season'] == '2005']"
   ]
  },
  {
   "cell_type": "code",
   "execution_count": 839,
   "metadata": {},
   "outputs": [],
   "source": [
    "# games_2006 = games_2005_2006[games_2005_2006['Season'] == '2006']"
   ]
  },
  {
   "cell_type": "code",
   "execution_count": 840,
   "metadata": {},
   "outputs": [],
   "source": [
    "# games_2007 = games_2007_2012[games_2007_2012['Season'] == '2007']"
   ]
  },
  {
   "cell_type": "code",
   "execution_count": 841,
   "metadata": {},
   "outputs": [],
   "source": [
    "# games_2008 = games_2007_2012[games_2007_2012['Season'] == '2008']"
   ]
  },
  {
   "cell_type": "code",
   "execution_count": 842,
   "metadata": {},
   "outputs": [],
   "source": [
    "# games_2009 = games_2007_2012[games_2007_2012['Season'] == '2009']"
   ]
  },
  {
   "cell_type": "code",
   "execution_count": 843,
   "metadata": {},
   "outputs": [],
   "source": [
    "# games_2010 = games_2007_2012[games_2007_2012['Season'] == '2010']"
   ]
  },
  {
   "cell_type": "code",
   "execution_count": 844,
   "metadata": {},
   "outputs": [],
   "source": [
    "# games_2011 = games_2007_2012[games_2007_2012['Season'] == '2011']"
   ]
  },
  {
   "cell_type": "code",
   "execution_count": 845,
   "metadata": {},
   "outputs": [],
   "source": [
    "# games_2012 = games_2007_2012[games_2007_2012['Season'] == '2012']"
   ]
  },
  {
   "cell_type": "code",
   "execution_count": 846,
   "metadata": {},
   "outputs": [],
   "source": [
    "# games_2013 = games_2013[games_2013['Season'] == '2013']"
   ]
  },
  {
   "cell_type": "code",
   "execution_count": 847,
   "metadata": {},
   "outputs": [],
   "source": [
    "# games_2014 = games_2014[games_2014['Season'] == '2014']"
   ]
  },
  {
   "cell_type": "code",
   "execution_count": 848,
   "metadata": {},
   "outputs": [],
   "source": [
    "# games_2015 = games_2015[games_2015['Season'] == '2015']"
   ]
  },
  {
   "cell_type": "code",
   "execution_count": 849,
   "metadata": {},
   "outputs": [],
   "source": [
    "# games_2016 = games_2016_2017[games_2016_2017['Season'] == '2016']"
   ]
  },
  {
   "cell_type": "code",
   "execution_count": 850,
   "metadata": {},
   "outputs": [],
   "source": [
    "# games_2017 = games_2016_2017[games_2016_2017['Season'] == '2017']"
   ]
  },
  {
   "cell_type": "code",
   "execution_count": 851,
   "metadata": {},
   "outputs": [],
   "source": [
    "# games_2018 = games_2018[games_2018['Season'] == '2018']"
   ]
  },
  {
   "cell_type": "code",
   "execution_count": 852,
   "metadata": {},
   "outputs": [],
   "source": [
    "# games_2019 = games_2019[games_2019['Season'] == '2019']"
   ]
  },
  {
   "cell_type": "code",
   "execution_count": 853,
   "metadata": {},
   "outputs": [],
   "source": [
    "# games_2003.iloc[0]['State'] = 'OH'"
   ]
  },
  {
   "cell_type": "code",
   "execution_count": 854,
   "metadata": {},
   "outputs": [],
   "source": [
    "# games_2003.iloc[0]['City'] = 'Dayton'"
   ]
  },
  {
   "cell_type": "code",
   "execution_count": 855,
   "metadata": {},
   "outputs": [],
   "source": [
    "# games_2004.iloc[0]['State'] = 'OH'\n",
    "# games_2004.iloc[0]['City'] = 'Dayton'"
   ]
  },
  {
   "cell_type": "code",
   "execution_count": 856,
   "metadata": {},
   "outputs": [],
   "source": [
    "# games_2005.iloc[0]['State'] = 'OH'\n",
    "# games_2005.iloc[0]['City'] = 'Dayton'\n",
    "# games_2005.iloc[0]['T2_TeamName'] = 'Oakland'"
   ]
  },
  {
   "cell_type": "code",
   "execution_count": 857,
   "metadata": {},
   "outputs": [],
   "source": [
    "# games_2006.iloc[0]['State'] = 'OH'\n",
    "# games_2006.iloc[0]['City'] = 'Dayton'\n",
    "# games_2006.iloc[0]['T2_TeamName'] = 'Monmouth'"
   ]
  },
  {
   "cell_type": "code",
   "execution_count": 858,
   "metadata": {},
   "outputs": [],
   "source": [
    "# games_2007.iloc[0]['State'] = 'OH'\n",
    "# games_2007.iloc[0]['City'] = 'Dayton'\n",
    "# games_2007.iloc[0]['T2_TeamName'] = 'Niagara'"
   ]
  },
  {
   "cell_type": "code",
   "execution_count": 859,
   "metadata": {},
   "outputs": [],
   "source": [
    "# games_2008.iloc[0]['State'] = 'OH'\n",
    "# games_2008.iloc[0]['City'] = 'Dayton'\n",
    "# games_2008.iloc[0]['T2_TeamName'] = \"Mount St. Mary's\""
   ]
  },
  {
   "cell_type": "code",
   "execution_count": 860,
   "metadata": {},
   "outputs": [],
   "source": [
    "# games_2009.iloc[0]['State'] = 'OH'\n",
    "# games_2009.iloc[0]['City'] = 'Dayton'\n",
    "# games_2009.iloc[0]['T2_TeamName'] = \"Morehead State\""
   ]
  },
  {
   "cell_type": "code",
   "execution_count": 861,
   "metadata": {},
   "outputs": [],
   "source": [
    "# games_2010.iloc[0]['State'] = 'OH'\n",
    "# games_2010.iloc[0]['City'] = 'Dayton'\n",
    "# games_2010.iloc[0]['T2_TeamName'] = \"Arkansas-Pine Bluff\""
   ]
  },
  {
   "cell_type": "code",
   "execution_count": 862,
   "metadata": {},
   "outputs": [],
   "source": [
    "# games_2011.iloc[0]['State'] = 'OH'\n",
    "# games_2011.iloc[0]['City'] = 'Dayton'\n",
    "# games_2011.iloc[0]['T2_TeamName'] = \"Clemson\""
   ]
  },
  {
   "cell_type": "code",
   "execution_count": 863,
   "metadata": {},
   "outputs": [],
   "source": [
    "# games_2011 = games_2011.append({'Season' : '2011', 'T1_TeamName' : 'UTSA', 'T2_TeamName' : \"Alabama State\", \n",
    "#                   'City' : 'Dayton', 'State' : 'OH'}, ignore_index=True)"
   ]
  },
  {
   "cell_type": "code",
   "execution_count": 864,
   "metadata": {},
   "outputs": [],
   "source": [
    "# games_2011 = games_2011.append({'Season' : '2011', 'T1_TeamName' : 'UNC Asheville', 'T2_TeamName' : \"Little Rock\", \n",
    "#                   'City' : 'Dayton', 'State' : 'OH'}, ignore_index=True)"
   ]
  },
  {
   "cell_type": "code",
   "execution_count": 865,
   "metadata": {},
   "outputs": [],
   "source": [
    "# games_2011 = games_2011.append({'Season' : '2011', 'T1_TeamName' : 'VCU', 'T2_TeamName' : \"USC\", \n",
    "#                   'City' : 'Dayton', 'State' : 'OH'}, ignore_index=True)"
   ]
  },
  {
   "cell_type": "code",
   "execution_count": 866,
   "metadata": {},
   "outputs": [],
   "source": [
    "# games_2012.iloc[0]['State'] = 'OH'\n",
    "# games_2012.iloc[0]['City'] = 'Dayton'\n",
    "# games_2012.iloc[0]['T2_TeamName'] = \"South Florida\""
   ]
  },
  {
   "cell_type": "code",
   "execution_count": 867,
   "metadata": {},
   "outputs": [],
   "source": [
    "# games_2012 = games_2012.append({'Season' : '2012', 'T1_TeamName' : 'Vermont', 'T2_TeamName' : \"Lamar\", \n",
    "#                   'City' : 'Dayton', 'State' : 'OH'}, ignore_index=True)"
   ]
  },
  {
   "cell_type": "code",
   "execution_count": 868,
   "metadata": {},
   "outputs": [],
   "source": [
    "# games_2012 = games_2012.append({'Season' : '2012', 'T1_TeamName' : 'Western Kentucky', 'T2_TeamName' : \"Mississippi Valley State\", \n",
    "#                   'City' : 'Dayton', 'State' : 'OH'}, ignore_index=True)"
   ]
  },
  {
   "cell_type": "code",
   "execution_count": 869,
   "metadata": {},
   "outputs": [],
   "source": [
    "# games_2012 = games_2012.append({'Season' : '2012', 'T1_TeamName' : 'Iona', 'T2_TeamName' : \"BYU\", \n",
    "#                   'City' : 'Dayton', 'State' : 'OH'}, ignore_index=True)"
   ]
  },
  {
   "cell_type": "code",
   "execution_count": 870,
   "metadata": {},
   "outputs": [],
   "source": [
    "# games_2013.iloc[0]['State'] = 'OH'\n",
    "# games_2013.iloc[0]['City'] = 'Dayton'\n",
    "# games_2013.iloc[0]['T2_TeamName'] = \"James Madison\""
   ]
  },
  {
   "cell_type": "code",
   "execution_count": 871,
   "metadata": {},
   "outputs": [],
   "source": [
    "# games_2013 = games_2013.append({'Season' : '2013', 'T1_TeamName' : 'North Carolina A&T', 'T2_TeamName' : \"Liberty\", \n",
    "#                   'City' : 'Dayton', 'State' : 'OH'}, ignore_index=True)"
   ]
  },
  {
   "cell_type": "code",
   "execution_count": 872,
   "metadata": {},
   "outputs": [],
   "source": [
    "# games_2013 = games_2013.append({'Season' : '2013', 'T1_TeamName' : \"Saint Mary's\", 'T2_TeamName' : \"Middle Tennessee\", \n",
    "#                   'City' : 'Dayton', 'State' : 'OH'}, ignore_index=True)"
   ]
  },
  {
   "cell_type": "code",
   "execution_count": 873,
   "metadata": {},
   "outputs": [],
   "source": [
    "# games_2013 = games_2013.append({'Season' : '2013', 'T1_TeamName' : \"La Salle\", 'T2_TeamName' : \"Boise State\", \n",
    "#                   'City' : 'Dayton', 'State' : 'OH'}, ignore_index=True)"
   ]
  },
  {
   "cell_type": "code",
   "execution_count": 874,
   "metadata": {},
   "outputs": [],
   "source": [
    "# games_2014.iloc[0]['State'] = 'OH'\n",
    "# games_2014.iloc[0]['City'] = 'Dayton'\n",
    "# games_2014.iloc[0]['T2_TeamName'] = \"Tennessee\""
   ]
  },
  {
   "cell_type": "code",
   "execution_count": 875,
   "metadata": {},
   "outputs": [],
   "source": [
    "# games_2014 = games_2014.append({'Season' : '2014', 'T1_TeamName' : 'Texas Southern', 'T2_TeamName' : \"Cal Poly\", \n",
    "#                   'City' : 'Dayton', 'State' : 'OH'}, ignore_index=True)"
   ]
  },
  {
   "cell_type": "code",
   "execution_count": 876,
   "metadata": {},
   "outputs": [],
   "source": [
    "# games_2014 = games_2014.append({'Season' : '2014', 'T1_TeamName' : 'Xavier', 'T2_TeamName' : \"NC State\", \n",
    "#                   'City' : 'Dayton', 'State' : 'OH'}, ignore_index=True)"
   ]
  },
  {
   "cell_type": "code",
   "execution_count": 877,
   "metadata": {},
   "outputs": [],
   "source": [
    "# games_2014 = games_2014.append({'Season' : '2014', 'T1_TeamName' : \"Mount St. Mary's\", 'T2_TeamName' : \"Albany (NY)\", \n",
    "#                   'City' : 'Dayton', 'State' : 'OH'}, ignore_index=True)"
   ]
  },
  {
   "cell_type": "code",
   "execution_count": 878,
   "metadata": {},
   "outputs": [],
   "source": [
    "# games_2015.iloc[0]['State'] = 'OH'\n",
    "# games_2015.iloc[0]['City'] = 'Dayton'\n",
    "# games_2015.iloc[0]['T2_TeamName'] = \"Dayton\""
   ]
  },
  {
   "cell_type": "code",
   "execution_count": 879,
   "metadata": {},
   "outputs": [],
   "source": [
    "# games_2015 = games_2015.append({'Season' : '2015', 'T1_TeamName' : \"Manhattan\", 'T2_TeamName' : \"Hampton\", \n",
    "#                   'City' : 'Dayton', 'State' : 'OH'}, ignore_index=True)"
   ]
  },
  {
   "cell_type": "code",
   "execution_count": 880,
   "metadata": {},
   "outputs": [],
   "source": [
    "# games_2015 = games_2015.append({'Season' : '2015', 'T1_TeamName' : \"Ole Miss\", 'T2_TeamName' : \"BYU\", \n",
    "#                   'City' : 'Dayton', 'State' : 'OH'}, ignore_index=True)"
   ]
  },
  {
   "cell_type": "code",
   "execution_count": 881,
   "metadata": {},
   "outputs": [],
   "source": [
    "# games_2015 = games_2015.append({'Season' : '2015', 'T1_TeamName' : \"Robert Morris\", 'T2_TeamName' : \"North Florida\", \n",
    "#                   'City' : 'Dayton', 'State' : 'OH'}, ignore_index=True)"
   ]
  },
  {
   "cell_type": "code",
   "execution_count": 882,
   "metadata": {},
   "outputs": [],
   "source": [
    "# games_2016.iloc[0]['State'] = 'OH'\n",
    "# games_2016.iloc[0]['City'] = 'Dayton'\n",
    "# games_2016.iloc[0]['T2_TeamName'] = \"Florida Gulf Coast\""
   ]
  },
  {
   "cell_type": "code",
   "execution_count": 883,
   "metadata": {},
   "outputs": [],
   "source": [
    "# games_2016 = games_2016.append({'Season' : '2016', 'T1_TeamName' : \"Tulsa\", 'T2_TeamName' : \"Michigan\", \n",
    "#                   'City' : 'Dayton', 'State' : 'OH'}, ignore_index=True)\n",
    "# games_2016 = games_2016.append({'Season' : '2016', 'T1_TeamName' : \"Wichita State\", 'T2_TeamName' : \"Vanderbilt\", \n",
    "#                   'City' : 'Dayton', 'State' : 'OH'}, ignore_index=True)\n",
    "# games_2016 = games_2016.append({'Season' : '2016', 'T1_TeamName' : \"Southern\", 'T2_TeamName' : \"Holy Cross\", \n",
    "#                   'City' : 'Dayton', 'State' : 'OH'}, ignore_index=True)"
   ]
  },
  {
   "cell_type": "code",
   "execution_count": 884,
   "metadata": {},
   "outputs": [],
   "source": [
    "# games_2017.iloc[0]['State'] = 'OH'\n",
    "# games_2017.iloc[0]['City'] = 'Dayton'\n",
    "# games_2017.iloc[0]['T2_TeamName'] = \"Mount St. Mary's\""
   ]
  },
  {
   "cell_type": "code",
   "execution_count": 885,
   "metadata": {},
   "outputs": [],
   "source": [
    "# games_2017 = games_2017.append({'Season' : '2017', 'T1_TeamName' : \"USC\", 'T2_TeamName' : \"Providence\", \n",
    "#                   'City' : 'Dayton', 'State' : 'OH'}, ignore_index=True)\n",
    "# games_2017 = games_2017.append({'Season' : '2017', 'T1_TeamName' : \"UC-Davis\", 'T2_TeamName' : \"North Carolina Central\", \n",
    "#                   'City' : 'Dayton', 'State' : 'OH'}, ignore_index=True)\n",
    "# games_2017 = games_2017.append({'Season' : '2017', 'T1_TeamName' : \"Wake Forest\", 'T2_TeamName' : \"Kansas State\", \n",
    "#                   'City' : 'Dayton', 'State' : 'OH'}, ignore_index=True)"
   ]
  },
  {
   "cell_type": "code",
   "execution_count": 886,
   "metadata": {},
   "outputs": [],
   "source": [
    "# games_2018.iloc[0]['State'] = 'OH'\n",
    "# games_2018.iloc[0]['City'] = 'Dayton'\n",
    "# games_2018.iloc[0]['T2_TeamName'] = \"Radford\""
   ]
  },
  {
   "cell_type": "code",
   "execution_count": 887,
   "metadata": {},
   "outputs": [],
   "source": [
    "# games_2018 = games_2018.append({'Season' : '2018', 'T1_TeamName' : \"St. Bonaventure\", 'T2_TeamName' : \"UCLA\", \n",
    "#                   'City' : 'Dayton', 'State' : 'OH'}, ignore_index=True)\n",
    "# games_2018 = games_2018.append({'Season' : '2018', 'T1_TeamName' : \"Syracuse\", 'T2_TeamName' : \"Arizona State\", \n",
    "#                   'City' : 'Dayton', 'State' : 'OH'}, ignore_index=True)\n",
    "# games_2018 = games_2018.append({'Season' : '2018', 'T1_TeamName' : \"Texas Southern\", 'T2_TeamName' : \"North Carolina Central\", \n",
    "#                   'City' : 'Dayton', 'State' : 'OH'}, ignore_index=True)"
   ]
  },
  {
   "cell_type": "code",
   "execution_count": 888,
   "metadata": {},
   "outputs": [],
   "source": [
    "# games_2019.iloc[0]['State'] = 'OH'\n",
    "# games_2019.iloc[0]['City'] = 'Dayton'\n",
    "# games_2019.iloc[0]['T2_TeamName'] = \"North Dakota State\""
   ]
  },
  {
   "cell_type": "code",
   "execution_count": 889,
   "metadata": {},
   "outputs": [],
   "source": [
    "# games_2019 = games_2019.append({'Season' : '2019', 'T1_TeamName' : \"Temple\", 'T2_TeamName' : \"Belmont\", \n",
    "#                   'City' : 'Dayton', 'State' : 'OH'}, ignore_index=True)\n",
    "# games_2019 = games_2019.append({'Season' : '2019', 'T1_TeamName' : \"Fairleigh Dickinson\", 'T2_TeamName' : \"Prairie View\", \n",
    "#                   'City' : 'Dayton', 'State' : 'OH'}, ignore_index=True)\n",
    "# games_2019 = games_2019.append({'Season' : '2019', 'T1_TeamName' : \"St. John's (NY)\", 'T2_TeamName' : \"Arizona State\", \n",
    "#                   'City' : 'Dayton', 'State' : 'OH'}, ignore_index=True)"
   ]
  },
  {
   "cell_type": "code",
   "execution_count": 890,
   "metadata": {},
   "outputs": [],
   "source": [
    "# tourney_locations = pd.concat([games_2003, games_2004])"
   ]
  },
  {
   "cell_type": "code",
   "execution_count": 891,
   "metadata": {},
   "outputs": [],
   "source": [
    "# tourney_locations = pd.concat([tourney_locations, games_2005, games_2006])"
   ]
  },
  {
   "cell_type": "code",
   "execution_count": 892,
   "metadata": {},
   "outputs": [],
   "source": [
    "# tourney_locations = pd.concat([tourney_locations, games_2007, games_2008, games_2009, games_2010, games_2011, games_2012, games_2013, \n",
    "#           games_2014, games_2015, games_2016, games_2017, games_2018, games_2019])"
   ]
  },
  {
   "cell_type": "code",
   "execution_count": 893,
   "metadata": {},
   "outputs": [],
   "source": [
    "# tourney_locations = tourney_locations.sort_values(by = 'Season')"
   ]
  },
  {
   "cell_type": "code",
   "execution_count": 894,
   "metadata": {},
   "outputs": [],
   "source": [
    "# tourney_locations = tourney_locations.reset_index(drop = True)"
   ]
  },
  {
   "cell_type": "code",
   "execution_count": 895,
   "metadata": {},
   "outputs": [],
   "source": [
    "# tourney_locations['T1_TeamName'] = tourney_locations['T1_TeamName'].str.lower()"
   ]
  },
  {
   "cell_type": "code",
   "execution_count": 896,
   "metadata": {},
   "outputs": [],
   "source": [
    "# tourney_locations['T2_TeamName'] = tourney_locations['T2_TeamName'].str.lower()"
   ]
  },
  {
   "cell_type": "code",
   "execution_count": 897,
   "metadata": {},
   "outputs": [],
   "source": [
    "# tourney_locations['City'] = tourney_locations['City'].replace('Atlan', 'Atlanta')"
   ]
  },
  {
   "cell_type": "code",
   "execution_count": 898,
   "metadata": {},
   "outputs": [],
   "source": [
    "# tourney_locations['City'] = tourney_locations['City'].replace('Tamp', 'Tampa')"
   ]
  },
  {
   "cell_type": "code",
   "execution_count": 899,
   "metadata": {},
   "outputs": [],
   "source": [
    "# tourney_locations['City'] = tourney_locations['City'].replace('Rosemon', 'Rosemont')"
   ]
  },
  {
   "cell_type": "code",
   "execution_count": 900,
   "metadata": {},
   "outputs": [],
   "source": [
    "# tourney_locations['City'] = tourney_locations['City'].replace('Philadelphi', 'Philadelphia')"
   ]
  },
  {
   "cell_type": "code",
   "execution_count": 901,
   "metadata": {},
   "outputs": [],
   "source": [
    "# tourney_locations['City'] = tourney_locations['City'].replace('Omah', 'Omaha')"
   ]
  },
  {
   "cell_type": "code",
   "execution_count": 902,
   "metadata": {},
   "outputs": [],
   "source": [
    "# tourney_locations['City'] = tourney_locations['City'].replace('Detroi', 'Detroit')"
   ]
  },
  {
   "cell_type": "code",
   "execution_count": 903,
   "metadata": {},
   "outputs": [],
   "source": [
    "# tourney_locations['City'] = tourney_locations['City'].replace('Tuls', 'Tulsa')"
   ]
  },
  {
   "cell_type": "code",
   "execution_count": 904,
   "metadata": {},
   "outputs": [],
   "source": [
    "# tourney_locations['City'] = tourney_locations['City'].replace('Wichi', 'Wichita')"
   ]
  },
  {
   "cell_type": "code",
   "execution_count": 905,
   "metadata": {},
   "outputs": [],
   "source": [
    "# tourney_locations['City'] = tourney_locations['City'].replace('Columbi', 'Columbia')"
   ]
  },
  {
   "cell_type": "code",
   "execution_count": 906,
   "metadata": {},
   "outputs": [],
   "source": [
    "# tourney_locations['City'] = tourney_locations['City'].astype(str)"
   ]
  },
  {
   "cell_type": "code",
   "execution_count": 907,
   "metadata": {},
   "outputs": [],
   "source": [
    "# tourney_locations['State'] = tourney_locations['State'].astype(str)"
   ]
  },
  {
   "cell_type": "code",
   "execution_count": 908,
   "metadata": {},
   "outputs": [],
   "source": [
    "# tourney_locations.to_csv('data/tourney_locations.csv')"
   ]
  },
  {
   "cell_type": "code",
   "execution_count": 318,
   "metadata": {},
   "outputs": [],
   "source": [
    "tourney_locations = pd.read_csv('data/tourney_locations.csv', index_col=0)"
   ]
  },
  {
   "cell_type": "code",
   "execution_count": 319,
   "metadata": {},
   "outputs": [],
   "source": [
    "tourney_locations['State'] = tourney_locations['State'].apply(lambda x: x.strip())"
   ]
  },
  {
   "cell_type": "code",
   "execution_count": 320,
   "metadata": {},
   "outputs": [],
   "source": [
    "CitiesEnriched = pd.read_csv('data/CitiesEnriched_Updated.csv', index_col=0)"
   ]
  },
  {
   "cell_type": "code",
   "execution_count": 321,
   "metadata": {},
   "outputs": [],
   "source": [
    "tourney_locations = pd.merge(tourney_locations, CitiesEnriched, on = ['City', 'State'], how = 'left')"
   ]
  },
  {
   "cell_type": "code",
   "execution_count": 322,
   "metadata": {},
   "outputs": [
    {
     "name": "stdout",
     "output_type": "stream",
     "text": [
      "<class 'pandas.core.frame.DataFrame'>\n",
      "Int64Index: 1115 entries, 0 to 1114\n",
      "Data columns (total 11 columns):\n",
      "Season             1115 non-null int64\n",
      "T1_TeamName        1115 non-null object\n",
      "T2_TeamName        1115 non-null object\n",
      "City               1115 non-null object\n",
      "State              1115 non-null object\n",
      "CityID             1115 non-null int64\n",
      "Lat                1115 non-null float64\n",
      "Lng                1115 non-null float64\n",
      "ElevationMeters    1115 non-null float64\n",
      "TimezoneName       1115 non-null object\n",
      "UTCOffsetHours     1115 non-null float64\n",
      "dtypes: float64(4), int64(2), object(5)\n",
      "memory usage: 104.5+ KB\n"
     ]
    }
   ],
   "source": [
    "tourney_locations.info()"
   ]
  },
  {
   "cell_type": "code",
   "execution_count": 323,
   "metadata": {},
   "outputs": [
    {
     "data": {
      "text/html": [
       "<div>\n",
       "<style scoped>\n",
       "    .dataframe tbody tr th:only-of-type {\n",
       "        vertical-align: middle;\n",
       "    }\n",
       "\n",
       "    .dataframe tbody tr th {\n",
       "        vertical-align: top;\n",
       "    }\n",
       "\n",
       "    .dataframe thead th {\n",
       "        text-align: right;\n",
       "    }\n",
       "</style>\n",
       "<table border=\"1\" class=\"dataframe\">\n",
       "  <thead>\n",
       "    <tr style=\"text-align: right;\">\n",
       "      <th></th>\n",
       "      <th>Season</th>\n",
       "      <th>T1_TeamName</th>\n",
       "      <th>T2_TeamName</th>\n",
       "      <th>City</th>\n",
       "      <th>State</th>\n",
       "      <th>CityID</th>\n",
       "      <th>Lat</th>\n",
       "      <th>Lng</th>\n",
       "      <th>ElevationMeters</th>\n",
       "      <th>TimezoneName</th>\n",
       "      <th>UTCOffsetHours</th>\n",
       "    </tr>\n",
       "  </thead>\n",
       "  <tbody>\n",
       "    <tr>\n",
       "      <td>0</td>\n",
       "      <td>2003</td>\n",
       "      <td>texas southern</td>\n",
       "      <td>unc asheville</td>\n",
       "      <td>Dayton</td>\n",
       "      <td>OH</td>\n",
       "      <td>4091</td>\n",
       "      <td>39.758948</td>\n",
       "      <td>-84.191607</td>\n",
       "      <td>225.558853</td>\n",
       "      <td>Eastern Daylight Time</td>\n",
       "      <td>-4.0</td>\n",
       "    </tr>\n",
       "    <tr>\n",
       "      <td>1</td>\n",
       "      <td>2003</td>\n",
       "      <td>dayton</td>\n",
       "      <td>tulsa</td>\n",
       "      <td>Spokane</td>\n",
       "      <td>WA</td>\n",
       "      <td>4324</td>\n",
       "      <td>47.658780</td>\n",
       "      <td>-117.426046</td>\n",
       "      <td>571.099487</td>\n",
       "      <td>Pacific Daylight Time</td>\n",
       "      <td>-7.0</td>\n",
       "    </tr>\n",
       "    <tr>\n",
       "      <td>2</td>\n",
       "      <td>2003</td>\n",
       "      <td>missouri</td>\n",
       "      <td>southern illinois</td>\n",
       "      <td>Indianapolis</td>\n",
       "      <td>IN</td>\n",
       "      <td>4161</td>\n",
       "      <td>39.768403</td>\n",
       "      <td>-86.158068</td>\n",
       "      <td>222.799728</td>\n",
       "      <td>Eastern Daylight Time</td>\n",
       "      <td>-4.0</td>\n",
       "    </tr>\n",
       "    <tr>\n",
       "      <td>3</td>\n",
       "      <td>2003</td>\n",
       "      <td>marquette</td>\n",
       "      <td>holy cross</td>\n",
       "      <td>Indianapolis</td>\n",
       "      <td>IN</td>\n",
       "      <td>4161</td>\n",
       "      <td>39.768403</td>\n",
       "      <td>-86.158068</td>\n",
       "      <td>222.799728</td>\n",
       "      <td>Eastern Daylight Time</td>\n",
       "      <td>-4.0</td>\n",
       "    </tr>\n",
       "    <tr>\n",
       "      <td>4</td>\n",
       "      <td>2003</td>\n",
       "      <td>indiana</td>\n",
       "      <td>alabama</td>\n",
       "      <td>Boston</td>\n",
       "      <td>MA</td>\n",
       "      <td>4039</td>\n",
       "      <td>42.360082</td>\n",
       "      <td>-71.058880</td>\n",
       "      <td>10.447762</td>\n",
       "      <td>Eastern Daylight Time</td>\n",
       "      <td>-4.0</td>\n",
       "    </tr>\n",
       "  </tbody>\n",
       "</table>\n",
       "</div>"
      ],
      "text/plain": [
       "   Season     T1_TeamName        T2_TeamName          City State  CityID  \\\n",
       "0    2003  texas southern      unc asheville        Dayton    OH    4091   \n",
       "1    2003          dayton              tulsa       Spokane    WA    4324   \n",
       "2    2003        missouri  southern illinois  Indianapolis    IN    4161   \n",
       "3    2003       marquette         holy cross  Indianapolis    IN    4161   \n",
       "4    2003         indiana            alabama        Boston    MA    4039   \n",
       "\n",
       "         Lat         Lng  ElevationMeters           TimezoneName  \\\n",
       "0  39.758948  -84.191607       225.558853  Eastern Daylight Time   \n",
       "1  47.658780 -117.426046       571.099487  Pacific Daylight Time   \n",
       "2  39.768403  -86.158068       222.799728  Eastern Daylight Time   \n",
       "3  39.768403  -86.158068       222.799728  Eastern Daylight Time   \n",
       "4  42.360082  -71.058880        10.447762  Eastern Daylight Time   \n",
       "\n",
       "   UTCOffsetHours  \n",
       "0            -4.0  \n",
       "1            -7.0  \n",
       "2            -4.0  \n",
       "3            -4.0  \n",
       "4            -4.0  "
      ]
     },
     "execution_count": 323,
     "metadata": {},
     "output_type": "execute_result"
    }
   ],
   "source": [
    "tourney_locations.head()"
   ]
  },
  {
   "cell_type": "code",
   "execution_count": 324,
   "metadata": {},
   "outputs": [],
   "source": [
    "tourney_locations.columns = ['Season', 'T1_TeamName', 'T2_TeamName', 'Game_City', 'Game_State', 'Game_CityID', \n",
    "                            'Game_Lat', 'Game_Lng', 'Game_ElevationMeters', 'Game_TimezoneName', 'Game_UTCOffsetHours']"
   ]
  },
  {
   "cell_type": "code",
   "execution_count": 325,
   "metadata": {},
   "outputs": [],
   "source": [
    "length = list(range(len(spellings)))\n",
    "team_list = []\n",
    "\n",
    "for l in length:\n",
    "    split_name = spellings['TeamNameSpelling,TeamID'][l].split(',')\n",
    "    t = split_name[0]\n",
    "    t_id = split_name[1]\n",
    "    team_x = {'TeamName' : t, 'TeamID' : t_id}\n",
    "    team_list.append(team_x)"
   ]
  },
  {
   "cell_type": "code",
   "execution_count": 326,
   "metadata": {},
   "outputs": [],
   "source": [
    "team_list = pd.DataFrame(team_list)"
   ]
  },
  {
   "cell_type": "code",
   "execution_count": 327,
   "metadata": {},
   "outputs": [],
   "source": [
    "team_list_T1 = team_list.copy()\n",
    "team_list_T2 = team_list.copy()\n",
    "team_list_T1.columns = ['T1_TeamName', 'T1_TeamID']\n",
    "team_list_T2.columns = ['T2_TeamName', 'T2_TeamID']"
   ]
  },
  {
   "cell_type": "code",
   "execution_count": 328,
   "metadata": {},
   "outputs": [
    {
     "data": {
      "text/html": [
       "<div>\n",
       "<style scoped>\n",
       "    .dataframe tbody tr th:only-of-type {\n",
       "        vertical-align: middle;\n",
       "    }\n",
       "\n",
       "    .dataframe tbody tr th {\n",
       "        vertical-align: top;\n",
       "    }\n",
       "\n",
       "    .dataframe thead th {\n",
       "        text-align: right;\n",
       "    }\n",
       "</style>\n",
       "<table border=\"1\" class=\"dataframe\">\n",
       "  <thead>\n",
       "    <tr style=\"text-align: right;\">\n",
       "      <th></th>\n",
       "      <th>T1_TeamName</th>\n",
       "      <th>T1_TeamID</th>\n",
       "    </tr>\n",
       "  </thead>\n",
       "  <tbody>\n",
       "    <tr>\n",
       "      <td>0</td>\n",
       "      <td>a&amp;m-corpus chris</td>\n",
       "      <td>1394</td>\n",
       "    </tr>\n",
       "    <tr>\n",
       "      <td>1</td>\n",
       "      <td>a&amp;m-corpus christi</td>\n",
       "      <td>1394</td>\n",
       "    </tr>\n",
       "    <tr>\n",
       "      <td>2</td>\n",
       "      <td>abilene chr</td>\n",
       "      <td>1101</td>\n",
       "    </tr>\n",
       "    <tr>\n",
       "      <td>3</td>\n",
       "      <td>abilene christian</td>\n",
       "      <td>1101</td>\n",
       "    </tr>\n",
       "    <tr>\n",
       "      <td>4</td>\n",
       "      <td>abilene-christian</td>\n",
       "      <td>1101</td>\n",
       "    </tr>\n",
       "    <tr>\n",
       "      <td>...</td>\n",
       "      <td>...</td>\n",
       "      <td>...</td>\n",
       "    </tr>\n",
       "    <tr>\n",
       "      <td>1136</td>\n",
       "      <td>youngstown st</td>\n",
       "      <td>1464</td>\n",
       "    </tr>\n",
       "    <tr>\n",
       "      <td>1137</td>\n",
       "      <td>youngstown st.</td>\n",
       "      <td>1464</td>\n",
       "    </tr>\n",
       "    <tr>\n",
       "      <td>1138</td>\n",
       "      <td>youngstown state</td>\n",
       "      <td>1464</td>\n",
       "    </tr>\n",
       "    <tr>\n",
       "      <td>1139</td>\n",
       "      <td>youngstown-st</td>\n",
       "      <td>1464</td>\n",
       "    </tr>\n",
       "    <tr>\n",
       "      <td>1140</td>\n",
       "      <td>youngstown-state</td>\n",
       "      <td>1464</td>\n",
       "    </tr>\n",
       "  </tbody>\n",
       "</table>\n",
       "<p>1141 rows × 2 columns</p>\n",
       "</div>"
      ],
      "text/plain": [
       "             T1_TeamName T1_TeamID\n",
       "0       a&m-corpus chris      1394\n",
       "1     a&m-corpus christi      1394\n",
       "2            abilene chr      1101\n",
       "3      abilene christian      1101\n",
       "4      abilene-christian      1101\n",
       "...                  ...       ...\n",
       "1136       youngstown st      1464\n",
       "1137      youngstown st.      1464\n",
       "1138    youngstown state      1464\n",
       "1139       youngstown-st      1464\n",
       "1140    youngstown-state      1464\n",
       "\n",
       "[1141 rows x 2 columns]"
      ]
     },
     "execution_count": 328,
     "metadata": {},
     "output_type": "execute_result"
    }
   ],
   "source": [
    "team_list_T1"
   ]
  },
  {
   "cell_type": "code",
   "execution_count": 329,
   "metadata": {},
   "outputs": [],
   "source": [
    "tourney_locations = pd.merge(tourney_locations, team_list_T1, on = ['T1_TeamName'], how = 'left')\n",
    "tourney_locations = pd.merge(tourney_locations, team_list_T2, on = ['T2_TeamName'], how = 'left')"
   ]
  },
  {
   "cell_type": "code",
   "execution_count": 330,
   "metadata": {},
   "outputs": [
    {
     "data": {
      "text/html": [
       "<div>\n",
       "<style scoped>\n",
       "    .dataframe tbody tr th:only-of-type {\n",
       "        vertical-align: middle;\n",
       "    }\n",
       "\n",
       "    .dataframe tbody tr th {\n",
       "        vertical-align: top;\n",
       "    }\n",
       "\n",
       "    .dataframe thead th {\n",
       "        text-align: right;\n",
       "    }\n",
       "</style>\n",
       "<table border=\"1\" class=\"dataframe\">\n",
       "  <thead>\n",
       "    <tr style=\"text-align: right;\">\n",
       "      <th></th>\n",
       "      <th>Season</th>\n",
       "      <th>T1_TeamName</th>\n",
       "      <th>T2_TeamName</th>\n",
       "      <th>Game_City</th>\n",
       "      <th>Game_State</th>\n",
       "      <th>Game_CityID</th>\n",
       "      <th>Game_Lat</th>\n",
       "      <th>Game_Lng</th>\n",
       "      <th>Game_ElevationMeters</th>\n",
       "      <th>Game_TimezoneName</th>\n",
       "      <th>Game_UTCOffsetHours</th>\n",
       "      <th>T1_TeamID</th>\n",
       "      <th>T2_TeamID</th>\n",
       "    </tr>\n",
       "  </thead>\n",
       "  <tbody>\n",
       "    <tr>\n",
       "      <td>0</td>\n",
       "      <td>2003</td>\n",
       "      <td>texas southern</td>\n",
       "      <td>unc asheville</td>\n",
       "      <td>Dayton</td>\n",
       "      <td>OH</td>\n",
       "      <td>4091</td>\n",
       "      <td>39.758948</td>\n",
       "      <td>-84.191607</td>\n",
       "      <td>225.558853</td>\n",
       "      <td>Eastern Daylight Time</td>\n",
       "      <td>-4.0</td>\n",
       "      <td>1411</td>\n",
       "      <td>1421</td>\n",
       "    </tr>\n",
       "    <tr>\n",
       "      <td>1</td>\n",
       "      <td>2003</td>\n",
       "      <td>dayton</td>\n",
       "      <td>tulsa</td>\n",
       "      <td>Spokane</td>\n",
       "      <td>WA</td>\n",
       "      <td>4324</td>\n",
       "      <td>47.658780</td>\n",
       "      <td>-117.426046</td>\n",
       "      <td>571.099487</td>\n",
       "      <td>Pacific Daylight Time</td>\n",
       "      <td>-7.0</td>\n",
       "      <td>1173</td>\n",
       "      <td>1409</td>\n",
       "    </tr>\n",
       "    <tr>\n",
       "      <td>2</td>\n",
       "      <td>2003</td>\n",
       "      <td>missouri</td>\n",
       "      <td>southern illinois</td>\n",
       "      <td>Indianapolis</td>\n",
       "      <td>IN</td>\n",
       "      <td>4161</td>\n",
       "      <td>39.768403</td>\n",
       "      <td>-86.158068</td>\n",
       "      <td>222.799728</td>\n",
       "      <td>Eastern Daylight Time</td>\n",
       "      <td>-4.0</td>\n",
       "      <td>1281</td>\n",
       "      <td>1356</td>\n",
       "    </tr>\n",
       "    <tr>\n",
       "      <td>3</td>\n",
       "      <td>2003</td>\n",
       "      <td>marquette</td>\n",
       "      <td>holy cross</td>\n",
       "      <td>Indianapolis</td>\n",
       "      <td>IN</td>\n",
       "      <td>4161</td>\n",
       "      <td>39.768403</td>\n",
       "      <td>-86.158068</td>\n",
       "      <td>222.799728</td>\n",
       "      <td>Eastern Daylight Time</td>\n",
       "      <td>-4.0</td>\n",
       "      <td>1266</td>\n",
       "      <td>1221</td>\n",
       "    </tr>\n",
       "    <tr>\n",
       "      <td>4</td>\n",
       "      <td>2003</td>\n",
       "      <td>indiana</td>\n",
       "      <td>alabama</td>\n",
       "      <td>Boston</td>\n",
       "      <td>MA</td>\n",
       "      <td>4039</td>\n",
       "      <td>42.360082</td>\n",
       "      <td>-71.058880</td>\n",
       "      <td>10.447762</td>\n",
       "      <td>Eastern Daylight Time</td>\n",
       "      <td>-4.0</td>\n",
       "      <td>1231</td>\n",
       "      <td>1104</td>\n",
       "    </tr>\n",
       "  </tbody>\n",
       "</table>\n",
       "</div>"
      ],
      "text/plain": [
       "   Season     T1_TeamName        T2_TeamName     Game_City Game_State  \\\n",
       "0    2003  texas southern      unc asheville        Dayton         OH   \n",
       "1    2003          dayton              tulsa       Spokane         WA   \n",
       "2    2003        missouri  southern illinois  Indianapolis         IN   \n",
       "3    2003       marquette         holy cross  Indianapolis         IN   \n",
       "4    2003         indiana            alabama        Boston         MA   \n",
       "\n",
       "   Game_CityID   Game_Lat    Game_Lng  Game_ElevationMeters  \\\n",
       "0         4091  39.758948  -84.191607            225.558853   \n",
       "1         4324  47.658780 -117.426046            571.099487   \n",
       "2         4161  39.768403  -86.158068            222.799728   \n",
       "3         4161  39.768403  -86.158068            222.799728   \n",
       "4         4039  42.360082  -71.058880             10.447762   \n",
       "\n",
       "       Game_TimezoneName  Game_UTCOffsetHours T1_TeamID T2_TeamID  \n",
       "0  Eastern Daylight Time                 -4.0      1411      1421  \n",
       "1  Pacific Daylight Time                 -7.0      1173      1409  \n",
       "2  Eastern Daylight Time                 -4.0      1281      1356  \n",
       "3  Eastern Daylight Time                 -4.0      1266      1221  \n",
       "4  Eastern Daylight Time                 -4.0      1231      1104  "
      ]
     },
     "execution_count": 330,
     "metadata": {},
     "output_type": "execute_result"
    }
   ],
   "source": [
    "tourney_locations.head()"
   ]
  },
  {
   "cell_type": "code",
   "execution_count": 331,
   "metadata": {},
   "outputs": [
    {
     "data": {
      "text/html": [
       "<div>\n",
       "<style scoped>\n",
       "    .dataframe tbody tr th:only-of-type {\n",
       "        vertical-align: middle;\n",
       "    }\n",
       "\n",
       "    .dataframe tbody tr th {\n",
       "        vertical-align: top;\n",
       "    }\n",
       "\n",
       "    .dataframe thead th {\n",
       "        text-align: right;\n",
       "    }\n",
       "</style>\n",
       "<table border=\"1\" class=\"dataframe\">\n",
       "  <thead>\n",
       "    <tr style=\"text-align: right;\">\n",
       "      <th></th>\n",
       "      <th>Season</th>\n",
       "      <th>T1_TeamName</th>\n",
       "      <th>T2_TeamName</th>\n",
       "      <th>Game_City</th>\n",
       "      <th>Game_State</th>\n",
       "      <th>Game_CityID</th>\n",
       "      <th>Game_Lat</th>\n",
       "      <th>Game_Lng</th>\n",
       "      <th>Game_ElevationMeters</th>\n",
       "      <th>Game_TimezoneName</th>\n",
       "      <th>Game_UTCOffsetHours</th>\n",
       "      <th>T1_TeamID</th>\n",
       "      <th>T2_TeamID</th>\n",
       "    </tr>\n",
       "  </thead>\n",
       "  <tbody>\n",
       "    <tr>\n",
       "      <td>554</td>\n",
       "      <td>2011</td>\n",
       "      <td>unc</td>\n",
       "      <td>liu</td>\n",
       "      <td>Charlotte</td>\n",
       "      <td>NC</td>\n",
       "      <td>4066</td>\n",
       "      <td>35.227087</td>\n",
       "      <td>-80.843127</td>\n",
       "      <td>232.514999</td>\n",
       "      <td>Eastern Daylight Time</td>\n",
       "      <td>-4.0</td>\n",
       "      <td>1314</td>\n",
       "      <td>NaN</td>\n",
       "    </tr>\n",
       "    <tr>\n",
       "      <td>632</td>\n",
       "      <td>2012</td>\n",
       "      <td>michigan state</td>\n",
       "      <td>liu</td>\n",
       "      <td>Columbus</td>\n",
       "      <td>OH</td>\n",
       "      <td>4080</td>\n",
       "      <td>39.961176</td>\n",
       "      <td>-82.998794</td>\n",
       "      <td>237.629166</td>\n",
       "      <td>Eastern Daylight Time</td>\n",
       "      <td>-4.0</td>\n",
       "      <td>1277</td>\n",
       "      <td>NaN</td>\n",
       "    </tr>\n",
       "    <tr>\n",
       "      <td>696</td>\n",
       "      <td>2013</td>\n",
       "      <td>liu</td>\n",
       "      <td>james madison</td>\n",
       "      <td>Dayton</td>\n",
       "      <td>OH</td>\n",
       "      <td>4091</td>\n",
       "      <td>39.758948</td>\n",
       "      <td>-84.191607</td>\n",
       "      <td>225.558853</td>\n",
       "      <td>Eastern Daylight Time</td>\n",
       "      <td>-4.0</td>\n",
       "      <td>NaN</td>\n",
       "      <td>1241</td>\n",
       "    </tr>\n",
       "    <tr>\n",
       "      <td>1016</td>\n",
       "      <td>2018</td>\n",
       "      <td>liu</td>\n",
       "      <td>radford</td>\n",
       "      <td>Dayton</td>\n",
       "      <td>OH</td>\n",
       "      <td>4091</td>\n",
       "      <td>39.758948</td>\n",
       "      <td>-84.191607</td>\n",
       "      <td>225.558853</td>\n",
       "      <td>Eastern Daylight Time</td>\n",
       "      <td>-4.0</td>\n",
       "      <td>NaN</td>\n",
       "      <td>1347</td>\n",
       "    </tr>\n",
       "  </tbody>\n",
       "</table>\n",
       "</div>"
      ],
      "text/plain": [
       "      Season     T1_TeamName    T2_TeamName  Game_City Game_State  \\\n",
       "554     2011             unc            liu  Charlotte         NC   \n",
       "632     2012  michigan state            liu   Columbus         OH   \n",
       "696     2013             liu  james madison     Dayton         OH   \n",
       "1016    2018             liu        radford     Dayton         OH   \n",
       "\n",
       "      Game_CityID   Game_Lat   Game_Lng  Game_ElevationMeters  \\\n",
       "554          4066  35.227087 -80.843127            232.514999   \n",
       "632          4080  39.961176 -82.998794            237.629166   \n",
       "696          4091  39.758948 -84.191607            225.558853   \n",
       "1016         4091  39.758948 -84.191607            225.558853   \n",
       "\n",
       "          Game_TimezoneName  Game_UTCOffsetHours T1_TeamID T2_TeamID  \n",
       "554   Eastern Daylight Time                 -4.0      1314       NaN  \n",
       "632   Eastern Daylight Time                 -4.0      1277       NaN  \n",
       "696   Eastern Daylight Time                 -4.0       NaN      1241  \n",
       "1016  Eastern Daylight Time                 -4.0       NaN      1347  "
      ]
     },
     "execution_count": 331,
     "metadata": {},
     "output_type": "execute_result"
    }
   ],
   "source": [
    "tourney_locations[tourney_locations.isnull().any(axis=1)]"
   ]
  },
  {
   "cell_type": "code",
   "execution_count": 332,
   "metadata": {},
   "outputs": [],
   "source": [
    "tourney_locations = tourney_locations.fillna(1254)"
   ]
  },
  {
   "cell_type": "code",
   "execution_count": 333,
   "metadata": {},
   "outputs": [],
   "source": [
    "tourney_locations = tourney_locations[['Season', 'T1_TeamID', 'T2_TeamID', 'Game_CityID', 'Game_Lat', 'Game_Lng', 'Game_ElevationMeters', \n",
    "                   'Game_TimezoneName', 'Game_UTCOffsetHours']]"
   ]
  },
  {
   "cell_type": "code",
   "execution_count": 334,
   "metadata": {},
   "outputs": [],
   "source": [
    "tourney_locations.columns = ['Season', 'T1_TeamID', 'T2_TeamID', 'Game_CityID', 'Game_Lat', 'Game_Lng', \n",
    "                            'Game_ElevationM', 'Game_TimeZone', 'Game_Offset']"
   ]
  },
  {
   "cell_type": "code",
   "execution_count": 335,
   "metadata": {},
   "outputs": [
    {
     "data": {
      "text/html": [
       "<div>\n",
       "<style scoped>\n",
       "    .dataframe tbody tr th:only-of-type {\n",
       "        vertical-align: middle;\n",
       "    }\n",
       "\n",
       "    .dataframe tbody tr th {\n",
       "        vertical-align: top;\n",
       "    }\n",
       "\n",
       "    .dataframe thead th {\n",
       "        text-align: right;\n",
       "    }\n",
       "</style>\n",
       "<table border=\"1\" class=\"dataframe\">\n",
       "  <thead>\n",
       "    <tr style=\"text-align: right;\">\n",
       "      <th></th>\n",
       "      <th>Season</th>\n",
       "      <th>T1_TeamID</th>\n",
       "      <th>T2_TeamID</th>\n",
       "      <th>Game_CityID</th>\n",
       "      <th>Game_Lat</th>\n",
       "      <th>Game_Lng</th>\n",
       "      <th>Game_ElevationM</th>\n",
       "      <th>Game_TimeZone</th>\n",
       "      <th>Game_Offset</th>\n",
       "    </tr>\n",
       "  </thead>\n",
       "  <tbody>\n",
       "    <tr>\n",
       "      <td>0</td>\n",
       "      <td>2003</td>\n",
       "      <td>1411</td>\n",
       "      <td>1421</td>\n",
       "      <td>4091</td>\n",
       "      <td>39.758948</td>\n",
       "      <td>-84.191607</td>\n",
       "      <td>225.558853</td>\n",
       "      <td>Eastern Daylight Time</td>\n",
       "      <td>-4.0</td>\n",
       "    </tr>\n",
       "    <tr>\n",
       "      <td>1</td>\n",
       "      <td>2003</td>\n",
       "      <td>1173</td>\n",
       "      <td>1409</td>\n",
       "      <td>4324</td>\n",
       "      <td>47.658780</td>\n",
       "      <td>-117.426046</td>\n",
       "      <td>571.099487</td>\n",
       "      <td>Pacific Daylight Time</td>\n",
       "      <td>-7.0</td>\n",
       "    </tr>\n",
       "    <tr>\n",
       "      <td>2</td>\n",
       "      <td>2003</td>\n",
       "      <td>1281</td>\n",
       "      <td>1356</td>\n",
       "      <td>4161</td>\n",
       "      <td>39.768403</td>\n",
       "      <td>-86.158068</td>\n",
       "      <td>222.799728</td>\n",
       "      <td>Eastern Daylight Time</td>\n",
       "      <td>-4.0</td>\n",
       "    </tr>\n",
       "    <tr>\n",
       "      <td>3</td>\n",
       "      <td>2003</td>\n",
       "      <td>1266</td>\n",
       "      <td>1221</td>\n",
       "      <td>4161</td>\n",
       "      <td>39.768403</td>\n",
       "      <td>-86.158068</td>\n",
       "      <td>222.799728</td>\n",
       "      <td>Eastern Daylight Time</td>\n",
       "      <td>-4.0</td>\n",
       "    </tr>\n",
       "    <tr>\n",
       "      <td>4</td>\n",
       "      <td>2003</td>\n",
       "      <td>1231</td>\n",
       "      <td>1104</td>\n",
       "      <td>4039</td>\n",
       "      <td>42.360082</td>\n",
       "      <td>-71.058880</td>\n",
       "      <td>10.447762</td>\n",
       "      <td>Eastern Daylight Time</td>\n",
       "      <td>-4.0</td>\n",
       "    </tr>\n",
       "  </tbody>\n",
       "</table>\n",
       "</div>"
      ],
      "text/plain": [
       "   Season T1_TeamID T2_TeamID  Game_CityID   Game_Lat    Game_Lng  \\\n",
       "0    2003      1411      1421         4091  39.758948  -84.191607   \n",
       "1    2003      1173      1409         4324  47.658780 -117.426046   \n",
       "2    2003      1281      1356         4161  39.768403  -86.158068   \n",
       "3    2003      1266      1221         4161  39.768403  -86.158068   \n",
       "4    2003      1231      1104         4039  42.360082  -71.058880   \n",
       "\n",
       "   Game_ElevationM          Game_TimeZone  Game_Offset  \n",
       "0       225.558853  Eastern Daylight Time         -4.0  \n",
       "1       571.099487  Pacific Daylight Time         -7.0  \n",
       "2       222.799728  Eastern Daylight Time         -4.0  \n",
       "3       222.799728  Eastern Daylight Time         -4.0  \n",
       "4        10.447762  Eastern Daylight Time         -4.0  "
      ]
     },
     "execution_count": 335,
     "metadata": {},
     "output_type": "execute_result"
    }
   ],
   "source": [
    "tourney_locations.head()"
   ]
  },
  {
   "cell_type": "code",
   "execution_count": 336,
   "metadata": {},
   "outputs": [
    {
     "data": {
      "text/html": [
       "<div>\n",
       "<style scoped>\n",
       "    .dataframe tbody tr th:only-of-type {\n",
       "        vertical-align: middle;\n",
       "    }\n",
       "\n",
       "    .dataframe tbody tr th {\n",
       "        vertical-align: top;\n",
       "    }\n",
       "\n",
       "    .dataframe thead th {\n",
       "        text-align: right;\n",
       "    }\n",
       "</style>\n",
       "<table border=\"1\" class=\"dataframe\">\n",
       "  <thead>\n",
       "    <tr style=\"text-align: right;\">\n",
       "      <th></th>\n",
       "      <th>team_id</th>\n",
       "      <th>lat</th>\n",
       "      <th>lng</th>\n",
       "    </tr>\n",
       "  </thead>\n",
       "  <tbody>\n",
       "    <tr>\n",
       "      <td>0</td>\n",
       "      <td>1101</td>\n",
       "      <td>32.471081</td>\n",
       "      <td>-99.707941</td>\n",
       "    </tr>\n",
       "    <tr>\n",
       "      <td>1</td>\n",
       "      <td>1102</td>\n",
       "      <td>38.833882</td>\n",
       "      <td>-104.821363</td>\n",
       "    </tr>\n",
       "    <tr>\n",
       "      <td>2</td>\n",
       "      <td>1103</td>\n",
       "      <td>41.081445</td>\n",
       "      <td>-81.519005</td>\n",
       "    </tr>\n",
       "    <tr>\n",
       "      <td>3</td>\n",
       "      <td>1104</td>\n",
       "      <td>33.209841</td>\n",
       "      <td>-87.569174</td>\n",
       "    </tr>\n",
       "    <tr>\n",
       "      <td>4</td>\n",
       "      <td>1105</td>\n",
       "      <td>34.788979</td>\n",
       "      <td>-86.571937</td>\n",
       "    </tr>\n",
       "    <tr>\n",
       "      <td>...</td>\n",
       "      <td>...</td>\n",
       "      <td>...</td>\n",
       "      <td>...</td>\n",
       "    </tr>\n",
       "    <tr>\n",
       "      <td>361</td>\n",
       "      <td>1462</td>\n",
       "      <td>39.149648</td>\n",
       "      <td>-84.473702</td>\n",
       "    </tr>\n",
       "    <tr>\n",
       "      <td>362</td>\n",
       "      <td>1463</td>\n",
       "      <td>41.308153</td>\n",
       "      <td>-72.928158</td>\n",
       "    </tr>\n",
       "    <tr>\n",
       "      <td>363</td>\n",
       "      <td>1464</td>\n",
       "      <td>41.099780</td>\n",
       "      <td>-80.649519</td>\n",
       "    </tr>\n",
       "    <tr>\n",
       "      <td>364</td>\n",
       "      <td>1465</td>\n",
       "      <td>33.928400</td>\n",
       "      <td>-117.425600</td>\n",
       "    </tr>\n",
       "    <tr>\n",
       "      <td>365</td>\n",
       "      <td>1466</td>\n",
       "      <td>34.807500</td>\n",
       "      <td>-87.681200</td>\n",
       "    </tr>\n",
       "  </tbody>\n",
       "</table>\n",
       "<p>366 rows × 3 columns</p>\n",
       "</div>"
      ],
      "text/plain": [
       "     team_id        lat         lng\n",
       "0       1101  32.471081  -99.707941\n",
       "1       1102  38.833882 -104.821363\n",
       "2       1103  41.081445  -81.519005\n",
       "3       1104  33.209841  -87.569174\n",
       "4       1105  34.788979  -86.571937\n",
       "..       ...        ...         ...\n",
       "361     1462  39.149648  -84.473702\n",
       "362     1463  41.308153  -72.928158\n",
       "363     1464  41.099780  -80.649519\n",
       "364     1465  33.928400 -117.425600\n",
       "365     1466  34.807500  -87.681200\n",
       "\n",
       "[366 rows x 3 columns]"
      ]
     },
     "execution_count": 336,
     "metadata": {},
     "output_type": "execute_result"
    }
   ],
   "source": [
    "update"
   ]
  },
  {
   "cell_type": "code",
   "execution_count": 337,
   "metadata": {},
   "outputs": [],
   "source": [
    "tourney_locations['T1_TeamID'] = tourney_locations['T1_TeamID'].astype(int)"
   ]
  },
  {
   "cell_type": "code",
   "execution_count": 338,
   "metadata": {},
   "outputs": [],
   "source": [
    "tourney_locations['T2_TeamID'] = tourney_locations['T2_TeamID'].astype(int)"
   ]
  },
  {
   "cell_type": "code",
   "execution_count": 339,
   "metadata": {},
   "outputs": [],
   "source": [
    "T1_location = update.copy()\n",
    "T2_location = update.copy()\n",
    "T1_location.columns = ['T1_TeamID', 'T1_Lat', 'T1_Lng']\n",
    "T2_location.columns = ['T2_TeamID', 'T2_Lat', 'T2_Lng']"
   ]
  },
  {
   "cell_type": "code",
   "execution_count": 340,
   "metadata": {},
   "outputs": [],
   "source": [
    "tourney_locations = pd.merge(tourney_locations, T1_location, on = ['T1_TeamID'], how = 'left')\n",
    "tourney_locations = pd.merge(tourney_locations, T2_location, on = ['T2_TeamID'], how = 'left')"
   ]
  },
  {
   "cell_type": "code",
   "execution_count": 341,
   "metadata": {},
   "outputs": [
    {
     "data": {
      "text/html": [
       "<div>\n",
       "<style scoped>\n",
       "    .dataframe tbody tr th:only-of-type {\n",
       "        vertical-align: middle;\n",
       "    }\n",
       "\n",
       "    .dataframe tbody tr th {\n",
       "        vertical-align: top;\n",
       "    }\n",
       "\n",
       "    .dataframe thead th {\n",
       "        text-align: right;\n",
       "    }\n",
       "</style>\n",
       "<table border=\"1\" class=\"dataframe\">\n",
       "  <thead>\n",
       "    <tr style=\"text-align: right;\">\n",
       "      <th></th>\n",
       "      <th>Season</th>\n",
       "      <th>T1_TeamID</th>\n",
       "      <th>T2_TeamID</th>\n",
       "      <th>Game_CityID</th>\n",
       "      <th>Game_Lat</th>\n",
       "      <th>Game_Lng</th>\n",
       "      <th>Game_ElevationM</th>\n",
       "      <th>Game_TimeZone</th>\n",
       "      <th>Game_Offset</th>\n",
       "      <th>T1_Lat</th>\n",
       "      <th>T1_Lng</th>\n",
       "      <th>T2_Lat</th>\n",
       "      <th>T2_Lng</th>\n",
       "    </tr>\n",
       "  </thead>\n",
       "  <tbody>\n",
       "    <tr>\n",
       "      <td>0</td>\n",
       "      <td>2003</td>\n",
       "      <td>1411</td>\n",
       "      <td>1421</td>\n",
       "      <td>4091</td>\n",
       "      <td>39.758948</td>\n",
       "      <td>-84.191607</td>\n",
       "      <td>225.558853</td>\n",
       "      <td>Eastern Daylight Time</td>\n",
       "      <td>-4.0</td>\n",
       "      <td>29.763284</td>\n",
       "      <td>-95.363272</td>\n",
       "      <td>35.600945</td>\n",
       "      <td>-82.554015</td>\n",
       "    </tr>\n",
       "    <tr>\n",
       "      <td>1</td>\n",
       "      <td>2003</td>\n",
       "      <td>1173</td>\n",
       "      <td>1409</td>\n",
       "      <td>4324</td>\n",
       "      <td>47.658780</td>\n",
       "      <td>-117.426046</td>\n",
       "      <td>571.099487</td>\n",
       "      <td>Pacific Daylight Time</td>\n",
       "      <td>-7.0</td>\n",
       "      <td>39.758948</td>\n",
       "      <td>-84.191607</td>\n",
       "      <td>36.153982</td>\n",
       "      <td>-95.992775</td>\n",
       "    </tr>\n",
       "    <tr>\n",
       "      <td>2</td>\n",
       "      <td>2003</td>\n",
       "      <td>1281</td>\n",
       "      <td>1356</td>\n",
       "      <td>4161</td>\n",
       "      <td>39.768403</td>\n",
       "      <td>-86.158068</td>\n",
       "      <td>222.799728</td>\n",
       "      <td>Eastern Daylight Time</td>\n",
       "      <td>-4.0</td>\n",
       "      <td>38.951705</td>\n",
       "      <td>-92.334072</td>\n",
       "      <td>37.727273</td>\n",
       "      <td>-89.216750</td>\n",
       "    </tr>\n",
       "    <tr>\n",
       "      <td>3</td>\n",
       "      <td>2003</td>\n",
       "      <td>1266</td>\n",
       "      <td>1221</td>\n",
       "      <td>4161</td>\n",
       "      <td>39.768403</td>\n",
       "      <td>-86.158068</td>\n",
       "      <td>222.799728</td>\n",
       "      <td>Eastern Daylight Time</td>\n",
       "      <td>-4.0</td>\n",
       "      <td>43.038739</td>\n",
       "      <td>-87.928280</td>\n",
       "      <td>42.262593</td>\n",
       "      <td>-71.802293</td>\n",
       "    </tr>\n",
       "    <tr>\n",
       "      <td>4</td>\n",
       "      <td>2003</td>\n",
       "      <td>1231</td>\n",
       "      <td>1104</td>\n",
       "      <td>4039</td>\n",
       "      <td>42.360082</td>\n",
       "      <td>-71.058880</td>\n",
       "      <td>10.447762</td>\n",
       "      <td>Eastern Daylight Time</td>\n",
       "      <td>-4.0</td>\n",
       "      <td>39.165325</td>\n",
       "      <td>-86.526386</td>\n",
       "      <td>33.209841</td>\n",
       "      <td>-87.569174</td>\n",
       "    </tr>\n",
       "  </tbody>\n",
       "</table>\n",
       "</div>"
      ],
      "text/plain": [
       "   Season  T1_TeamID  T2_TeamID  Game_CityID   Game_Lat    Game_Lng  \\\n",
       "0    2003       1411       1421         4091  39.758948  -84.191607   \n",
       "1    2003       1173       1409         4324  47.658780 -117.426046   \n",
       "2    2003       1281       1356         4161  39.768403  -86.158068   \n",
       "3    2003       1266       1221         4161  39.768403  -86.158068   \n",
       "4    2003       1231       1104         4039  42.360082  -71.058880   \n",
       "\n",
       "   Game_ElevationM          Game_TimeZone  Game_Offset     T1_Lat     T1_Lng  \\\n",
       "0       225.558853  Eastern Daylight Time         -4.0  29.763284 -95.363272   \n",
       "1       571.099487  Pacific Daylight Time         -7.0  39.758948 -84.191607   \n",
       "2       222.799728  Eastern Daylight Time         -4.0  38.951705 -92.334072   \n",
       "3       222.799728  Eastern Daylight Time         -4.0  43.038739 -87.928280   \n",
       "4        10.447762  Eastern Daylight Time         -4.0  39.165325 -86.526386   \n",
       "\n",
       "      T2_Lat     T2_Lng  \n",
       "0  35.600945 -82.554015  \n",
       "1  36.153982 -95.992775  \n",
       "2  37.727273 -89.216750  \n",
       "3  42.262593 -71.802293  \n",
       "4  33.209841 -87.569174  "
      ]
     },
     "execution_count": 341,
     "metadata": {},
     "output_type": "execute_result"
    }
   ],
   "source": [
    "tourney_locations.head()"
   ]
  },
  {
   "cell_type": "code",
   "execution_count": 342,
   "metadata": {},
   "outputs": [],
   "source": [
    "from geopy.geocoders import Nominatim\n",
    "from geopy.distance import geodesic"
   ]
  },
  {
   "cell_type": "code",
   "execution_count": 343,
   "metadata": {},
   "outputs": [],
   "source": [
    "team_total = list(range(len(tourney_locations)))"
   ]
  },
  {
   "cell_type": "code",
   "execution_count": 344,
   "metadata": {},
   "outputs": [],
   "source": [
    "t1_list = []\n",
    "\n",
    "for t in team_total:\n",
    "    Lat1 = tourney_locations['Game_Lat'][t]\n",
    "    Lng1 = tourney_locations['Game_Lng'][t]\n",
    "    Lat2 = tourney_locations['T1_Lat'][t]\n",
    "    Lng2 = tourney_locations['T1_Lng'][t]\n",
    "    coord1 = (Lat1, Lng1)\n",
    "    coord2 = (Lat2, Lng2)\n",
    "    dist = geodesic(coord1, coord2).miles\n",
    "    T1_Distance = {'T1_Dist' : dist}\n",
    "    t1_list.append(T1_Distance)"
   ]
  },
  {
   "cell_type": "code",
   "execution_count": 345,
   "metadata": {},
   "outputs": [],
   "source": [
    "t1_list = pd.DataFrame(t1_list)"
   ]
  },
  {
   "cell_type": "code",
   "execution_count": 346,
   "metadata": {},
   "outputs": [],
   "source": [
    "tourney_locations['T1_Dist'] = t1_list"
   ]
  },
  {
   "cell_type": "code",
   "execution_count": 347,
   "metadata": {},
   "outputs": [],
   "source": [
    "t2_list = []\n",
    "\n",
    "for t in team_total:\n",
    "    Lat2 = tourney_locations['Game_Lat'][t]\n",
    "    Lng2 = tourney_locations['Game_Lng'][t]\n",
    "    Lat2 = tourney_locations['T2_Lat'][t]\n",
    "    Lng2 = tourney_locations['T2_Lng'][t]\n",
    "    coord1 = (Lat1, Lng1)\n",
    "    coord2 = (Lat2, Lng2)\n",
    "    dist = geodesic(coord1, coord2).miles\n",
    "    T2_Distance = {'T2_Dist' : dist}\n",
    "    t2_list.append(T2_Distance)"
   ]
  },
  {
   "cell_type": "code",
   "execution_count": 348,
   "metadata": {},
   "outputs": [],
   "source": [
    "t2_list = pd.DataFrame(t2_list)"
   ]
  },
  {
   "cell_type": "code",
   "execution_count": 349,
   "metadata": {},
   "outputs": [],
   "source": [
    "tourney_locations['T2_Dist'] = t2_list"
   ]
  },
  {
   "cell_type": "code",
   "execution_count": 350,
   "metadata": {},
   "outputs": [
    {
     "data": {
      "text/html": [
       "<div>\n",
       "<style scoped>\n",
       "    .dataframe tbody tr th:only-of-type {\n",
       "        vertical-align: middle;\n",
       "    }\n",
       "\n",
       "    .dataframe tbody tr th {\n",
       "        vertical-align: top;\n",
       "    }\n",
       "\n",
       "    .dataframe thead th {\n",
       "        text-align: right;\n",
       "    }\n",
       "</style>\n",
       "<table border=\"1\" class=\"dataframe\">\n",
       "  <thead>\n",
       "    <tr style=\"text-align: right;\">\n",
       "      <th></th>\n",
       "      <th>Season</th>\n",
       "      <th>T1_TeamID</th>\n",
       "      <th>T2_TeamID</th>\n",
       "      <th>Game_CityID</th>\n",
       "      <th>Game_Lat</th>\n",
       "      <th>Game_Lng</th>\n",
       "      <th>Game_ElevationM</th>\n",
       "      <th>Game_TimeZone</th>\n",
       "      <th>Game_Offset</th>\n",
       "      <th>T1_Lat</th>\n",
       "      <th>T1_Lng</th>\n",
       "      <th>T2_Lat</th>\n",
       "      <th>T2_Lng</th>\n",
       "      <th>T1_Dist</th>\n",
       "      <th>T2_Dist</th>\n",
       "    </tr>\n",
       "  </thead>\n",
       "  <tbody>\n",
       "    <tr>\n",
       "      <td>0</td>\n",
       "      <td>2003</td>\n",
       "      <td>1411</td>\n",
       "      <td>1421</td>\n",
       "      <td>4091</td>\n",
       "      <td>39.758948</td>\n",
       "      <td>-84.191607</td>\n",
       "      <td>225.558853</td>\n",
       "      <td>Eastern Daylight Time</td>\n",
       "      <td>-4.0</td>\n",
       "      <td>29.763284</td>\n",
       "      <td>-95.363272</td>\n",
       "      <td>35.600945</td>\n",
       "      <td>-82.554015</td>\n",
       "      <td>935.811671</td>\n",
       "      <td>300.465553</td>\n",
       "    </tr>\n",
       "    <tr>\n",
       "      <td>1</td>\n",
       "      <td>2003</td>\n",
       "      <td>1173</td>\n",
       "      <td>1409</td>\n",
       "      <td>4324</td>\n",
       "      <td>47.658780</td>\n",
       "      <td>-117.426046</td>\n",
       "      <td>571.099487</td>\n",
       "      <td>Pacific Daylight Time</td>\n",
       "      <td>-7.0</td>\n",
       "      <td>39.758948</td>\n",
       "      <td>-84.191607</td>\n",
       "      <td>36.153982</td>\n",
       "      <td>-95.992775</td>\n",
       "      <td>1736.012307</td>\n",
       "      <td>690.062913</td>\n",
       "    </tr>\n",
       "    <tr>\n",
       "      <td>2</td>\n",
       "      <td>2003</td>\n",
       "      <td>1281</td>\n",
       "      <td>1356</td>\n",
       "      <td>4161</td>\n",
       "      <td>39.768403</td>\n",
       "      <td>-86.158068</td>\n",
       "      <td>222.799728</td>\n",
       "      <td>Eastern Daylight Time</td>\n",
       "      <td>-4.0</td>\n",
       "      <td>38.951705</td>\n",
       "      <td>-92.334072</td>\n",
       "      <td>37.727273</td>\n",
       "      <td>-89.216750</td>\n",
       "      <td>335.437786</td>\n",
       "      <td>305.436922</td>\n",
       "    </tr>\n",
       "    <tr>\n",
       "      <td>3</td>\n",
       "      <td>2003</td>\n",
       "      <td>1266</td>\n",
       "      <td>1221</td>\n",
       "      <td>4161</td>\n",
       "      <td>39.768403</td>\n",
       "      <td>-86.158068</td>\n",
       "      <td>222.799728</td>\n",
       "      <td>Eastern Daylight Time</td>\n",
       "      <td>-4.0</td>\n",
       "      <td>43.038739</td>\n",
       "      <td>-87.928280</td>\n",
       "      <td>42.262593</td>\n",
       "      <td>-71.802293</td>\n",
       "      <td>243.694572</td>\n",
       "      <td>669.557645</td>\n",
       "    </tr>\n",
       "    <tr>\n",
       "      <td>4</td>\n",
       "      <td>2003</td>\n",
       "      <td>1231</td>\n",
       "      <td>1104</td>\n",
       "      <td>4039</td>\n",
       "      <td>42.360082</td>\n",
       "      <td>-71.058880</td>\n",
       "      <td>10.447762</td>\n",
       "      <td>Eastern Daylight Time</td>\n",
       "      <td>-4.0</td>\n",
       "      <td>39.165325</td>\n",
       "      <td>-86.526386</td>\n",
       "      <td>33.209841</td>\n",
       "      <td>-87.569174</td>\n",
       "      <td>839.584483</td>\n",
       "      <td>489.065575</td>\n",
       "    </tr>\n",
       "  </tbody>\n",
       "</table>\n",
       "</div>"
      ],
      "text/plain": [
       "   Season  T1_TeamID  T2_TeamID  Game_CityID   Game_Lat    Game_Lng  \\\n",
       "0    2003       1411       1421         4091  39.758948  -84.191607   \n",
       "1    2003       1173       1409         4324  47.658780 -117.426046   \n",
       "2    2003       1281       1356         4161  39.768403  -86.158068   \n",
       "3    2003       1266       1221         4161  39.768403  -86.158068   \n",
       "4    2003       1231       1104         4039  42.360082  -71.058880   \n",
       "\n",
       "   Game_ElevationM          Game_TimeZone  Game_Offset     T1_Lat     T1_Lng  \\\n",
       "0       225.558853  Eastern Daylight Time         -4.0  29.763284 -95.363272   \n",
       "1       571.099487  Pacific Daylight Time         -7.0  39.758948 -84.191607   \n",
       "2       222.799728  Eastern Daylight Time         -4.0  38.951705 -92.334072   \n",
       "3       222.799728  Eastern Daylight Time         -4.0  43.038739 -87.928280   \n",
       "4        10.447762  Eastern Daylight Time         -4.0  39.165325 -86.526386   \n",
       "\n",
       "      T2_Lat     T2_Lng      T1_Dist     T2_Dist  \n",
       "0  35.600945 -82.554015   935.811671  300.465553  \n",
       "1  36.153982 -95.992775  1736.012307  690.062913  \n",
       "2  37.727273 -89.216750   335.437786  305.436922  \n",
       "3  42.262593 -71.802293   243.694572  669.557645  \n",
       "4  33.209841 -87.569174   839.584483  489.065575  "
      ]
     },
     "execution_count": 350,
     "metadata": {},
     "output_type": "execute_result"
    }
   ],
   "source": [
    "tourney_locations.head()"
   ]
  },
  {
   "cell_type": "code",
   "execution_count": 351,
   "metadata": {},
   "outputs": [],
   "source": [
    "tourney_locations_2 = tourney_locations.copy()\n",
    "tourney_locations_2.columns = ['Season', 'T2_TeamID', 'T1_TeamID', 'Game_CityID', 'Game_Lat', 'Game_Lng', \n",
    "                               'Game_ElevationM', 'Game_TimeZone', 'Game_Offset', 'T2_Lat', 'T2_Lng', 'T1_Lat', \n",
    "                               'T1_Lng', 'T2_Dist', 'T1_Dist']"
   ]
  },
  {
   "cell_type": "code",
   "execution_count": 352,
   "metadata": {},
   "outputs": [],
   "source": [
    "tourney_locations_2 = tourney_locations_2[['Season', 'T1_TeamID', 'T2_TeamID', 'Game_CityID', 'Game_Lat', 'Game_Lng', 'Game_ElevationM', \n",
    "                    'Game_TimeZone', 'Game_Offset', 'T1_Lat', 'T1_Lng', 'T2_Lat', 'T2_Lng', 'T1_Dist', 'T2_Dist']]"
   ]
  },
  {
   "cell_type": "code",
   "execution_count": 353,
   "metadata": {},
   "outputs": [],
   "source": [
    "tourney_locations = pd.concat([tourney_locations, tourney_locations_2])"
   ]
  },
  {
   "cell_type": "code",
   "execution_count": 354,
   "metadata": {},
   "outputs": [],
   "source": [
    "tourney_locations = tourney_locations.reset_index(drop = True)"
   ]
  },
  {
   "cell_type": "code",
   "execution_count": 355,
   "metadata": {},
   "outputs": [],
   "source": [
    "comp = pd.read_csv('Data/Stage2DataFiles/RegularSeasonCompactResults.csv')"
   ]
  },
  {
   "cell_type": "code",
   "execution_count": 356,
   "metadata": {},
   "outputs": [],
   "source": [
    "comp = comp[comp['WLoc'] == 'H']"
   ]
  },
  {
   "cell_type": "code",
   "execution_count": 357,
   "metadata": {},
   "outputs": [
    {
     "data": {
      "text/html": [
       "<div>\n",
       "<style scoped>\n",
       "    .dataframe tbody tr th:only-of-type {\n",
       "        vertical-align: middle;\n",
       "    }\n",
       "\n",
       "    .dataframe tbody tr th {\n",
       "        vertical-align: top;\n",
       "    }\n",
       "\n",
       "    .dataframe thead th {\n",
       "        text-align: right;\n",
       "    }\n",
       "</style>\n",
       "<table border=\"1\" class=\"dataframe\">\n",
       "  <thead>\n",
       "    <tr style=\"text-align: right;\">\n",
       "      <th></th>\n",
       "      <th>Season</th>\n",
       "      <th>DayNum</th>\n",
       "      <th>WTeamID</th>\n",
       "      <th>WScore</th>\n",
       "      <th>LTeamID</th>\n",
       "      <th>LScore</th>\n",
       "      <th>WLoc</th>\n",
       "      <th>NumOT</th>\n",
       "    </tr>\n",
       "  </thead>\n",
       "  <tbody>\n",
       "    <tr>\n",
       "      <td>1</td>\n",
       "      <td>1985</td>\n",
       "      <td>25</td>\n",
       "      <td>1106</td>\n",
       "      <td>77</td>\n",
       "      <td>1354</td>\n",
       "      <td>70</td>\n",
       "      <td>H</td>\n",
       "      <td>0</td>\n",
       "    </tr>\n",
       "    <tr>\n",
       "      <td>2</td>\n",
       "      <td>1985</td>\n",
       "      <td>25</td>\n",
       "      <td>1112</td>\n",
       "      <td>63</td>\n",
       "      <td>1223</td>\n",
       "      <td>56</td>\n",
       "      <td>H</td>\n",
       "      <td>0</td>\n",
       "    </tr>\n",
       "    <tr>\n",
       "      <td>3</td>\n",
       "      <td>1985</td>\n",
       "      <td>25</td>\n",
       "      <td>1165</td>\n",
       "      <td>70</td>\n",
       "      <td>1432</td>\n",
       "      <td>54</td>\n",
       "      <td>H</td>\n",
       "      <td>0</td>\n",
       "    </tr>\n",
       "    <tr>\n",
       "      <td>4</td>\n",
       "      <td>1985</td>\n",
       "      <td>25</td>\n",
       "      <td>1192</td>\n",
       "      <td>86</td>\n",
       "      <td>1447</td>\n",
       "      <td>74</td>\n",
       "      <td>H</td>\n",
       "      <td>0</td>\n",
       "    </tr>\n",
       "    <tr>\n",
       "      <td>5</td>\n",
       "      <td>1985</td>\n",
       "      <td>25</td>\n",
       "      <td>1218</td>\n",
       "      <td>79</td>\n",
       "      <td>1337</td>\n",
       "      <td>78</td>\n",
       "      <td>H</td>\n",
       "      <td>0</td>\n",
       "    </tr>\n",
       "  </tbody>\n",
       "</table>\n",
       "</div>"
      ],
      "text/plain": [
       "   Season  DayNum  WTeamID  WScore  LTeamID  LScore WLoc  NumOT\n",
       "1    1985      25     1106      77     1354      70    H      0\n",
       "2    1985      25     1112      63     1223      56    H      0\n",
       "3    1985      25     1165      70     1432      54    H      0\n",
       "4    1985      25     1192      86     1447      74    H      0\n",
       "5    1985      25     1218      79     1337      78    H      0"
      ]
     },
     "execution_count": 357,
     "metadata": {},
     "output_type": "execute_result"
    }
   ],
   "source": [
    "comp.head()"
   ]
  },
  {
   "cell_type": "code",
   "execution_count": 358,
   "metadata": {},
   "outputs": [
    {
     "data": {
      "text/html": [
       "<div>\n",
       "<style scoped>\n",
       "    .dataframe tbody tr th:only-of-type {\n",
       "        vertical-align: middle;\n",
       "    }\n",
       "\n",
       "    .dataframe tbody tr th {\n",
       "        vertical-align: top;\n",
       "    }\n",
       "\n",
       "    .dataframe thead th {\n",
       "        text-align: right;\n",
       "    }\n",
       "</style>\n",
       "<table border=\"1\" class=\"dataframe\">\n",
       "  <thead>\n",
       "    <tr style=\"text-align: right;\">\n",
       "      <th></th>\n",
       "      <th>Season</th>\n",
       "      <th>DayNum</th>\n",
       "      <th>WTeamID</th>\n",
       "      <th>LTeamID</th>\n",
       "      <th>CRType</th>\n",
       "      <th>CityID</th>\n",
       "    </tr>\n",
       "  </thead>\n",
       "  <tbody>\n",
       "    <tr>\n",
       "      <td>0</td>\n",
       "      <td>2010</td>\n",
       "      <td>7</td>\n",
       "      <td>1143</td>\n",
       "      <td>1293</td>\n",
       "      <td>Regular</td>\n",
       "      <td>4027</td>\n",
       "    </tr>\n",
       "    <tr>\n",
       "      <td>1</td>\n",
       "      <td>2010</td>\n",
       "      <td>7</td>\n",
       "      <td>1314</td>\n",
       "      <td>1198</td>\n",
       "      <td>Regular</td>\n",
       "      <td>4061</td>\n",
       "    </tr>\n",
       "    <tr>\n",
       "      <td>2</td>\n",
       "      <td>2010</td>\n",
       "      <td>7</td>\n",
       "      <td>1326</td>\n",
       "      <td>1108</td>\n",
       "      <td>Regular</td>\n",
       "      <td>4080</td>\n",
       "    </tr>\n",
       "    <tr>\n",
       "      <td>3</td>\n",
       "      <td>2010</td>\n",
       "      <td>7</td>\n",
       "      <td>1393</td>\n",
       "      <td>1107</td>\n",
       "      <td>Regular</td>\n",
       "      <td>4340</td>\n",
       "    </tr>\n",
       "    <tr>\n",
       "      <td>4</td>\n",
       "      <td>2010</td>\n",
       "      <td>9</td>\n",
       "      <td>1143</td>\n",
       "      <td>1178</td>\n",
       "      <td>Regular</td>\n",
       "      <td>4027</td>\n",
       "    </tr>\n",
       "  </tbody>\n",
       "</table>\n",
       "</div>"
      ],
      "text/plain": [
       "   Season  DayNum  WTeamID  LTeamID   CRType  CityID\n",
       "0    2010       7     1143     1293  Regular    4027\n",
       "1    2010       7     1314     1198  Regular    4061\n",
       "2    2010       7     1326     1108  Regular    4080\n",
       "3    2010       7     1393     1107  Regular    4340\n",
       "4    2010       9     1143     1178  Regular    4027"
      ]
     },
     "execution_count": 358,
     "metadata": {},
     "output_type": "execute_result"
    }
   ],
   "source": [
    "game_cities.head()"
   ]
  },
  {
   "cell_type": "code",
   "execution_count": 359,
   "metadata": {},
   "outputs": [],
   "source": [
    "comp = pd.merge(comp, game_cities, on = ['Season', 'DayNum', 'WTeamID', 'LTeamID'], how = 'left')"
   ]
  },
  {
   "cell_type": "code",
   "execution_count": 364,
   "metadata": {},
   "outputs": [],
   "source": [
    "comp = comp.dropna()"
   ]
  },
  {
   "cell_type": "code",
   "execution_count": 366,
   "metadata": {},
   "outputs": [],
   "source": [
    "comp = comp.reset_index(drop = True)"
   ]
  },
  {
   "cell_type": "code",
   "execution_count": 367,
   "metadata": {},
   "outputs": [
    {
     "data": {
      "text/html": [
       "<div>\n",
       "<style scoped>\n",
       "    .dataframe tbody tr th:only-of-type {\n",
       "        vertical-align: middle;\n",
       "    }\n",
       "\n",
       "    .dataframe tbody tr th {\n",
       "        vertical-align: top;\n",
       "    }\n",
       "\n",
       "    .dataframe thead th {\n",
       "        text-align: right;\n",
       "    }\n",
       "</style>\n",
       "<table border=\"1\" class=\"dataframe\">\n",
       "  <thead>\n",
       "    <tr style=\"text-align: right;\">\n",
       "      <th></th>\n",
       "      <th>Season</th>\n",
       "      <th>DayNum</th>\n",
       "      <th>WTeamID</th>\n",
       "      <th>WScore</th>\n",
       "      <th>LTeamID</th>\n",
       "      <th>LScore</th>\n",
       "      <th>WLoc</th>\n",
       "      <th>NumOT</th>\n",
       "      <th>CRType</th>\n",
       "      <th>CityID</th>\n",
       "    </tr>\n",
       "  </thead>\n",
       "  <tbody>\n",
       "    <tr>\n",
       "      <td>0</td>\n",
       "      <td>2010</td>\n",
       "      <td>7</td>\n",
       "      <td>1143</td>\n",
       "      <td>75</td>\n",
       "      <td>1293</td>\n",
       "      <td>70</td>\n",
       "      <td>H</td>\n",
       "      <td>0</td>\n",
       "      <td>Regular</td>\n",
       "      <td>4027.0</td>\n",
       "    </tr>\n",
       "    <tr>\n",
       "      <td>1</td>\n",
       "      <td>2010</td>\n",
       "      <td>7</td>\n",
       "      <td>1314</td>\n",
       "      <td>88</td>\n",
       "      <td>1198</td>\n",
       "      <td>72</td>\n",
       "      <td>H</td>\n",
       "      <td>0</td>\n",
       "      <td>Regular</td>\n",
       "      <td>4061.0</td>\n",
       "    </tr>\n",
       "    <tr>\n",
       "      <td>2</td>\n",
       "      <td>2010</td>\n",
       "      <td>7</td>\n",
       "      <td>1326</td>\n",
       "      <td>100</td>\n",
       "      <td>1108</td>\n",
       "      <td>60</td>\n",
       "      <td>H</td>\n",
       "      <td>0</td>\n",
       "      <td>Regular</td>\n",
       "      <td>4080.0</td>\n",
       "    </tr>\n",
       "    <tr>\n",
       "      <td>3</td>\n",
       "      <td>2010</td>\n",
       "      <td>7</td>\n",
       "      <td>1393</td>\n",
       "      <td>75</td>\n",
       "      <td>1107</td>\n",
       "      <td>43</td>\n",
       "      <td>H</td>\n",
       "      <td>0</td>\n",
       "      <td>Regular</td>\n",
       "      <td>4340.0</td>\n",
       "    </tr>\n",
       "    <tr>\n",
       "      <td>4</td>\n",
       "      <td>2010</td>\n",
       "      <td>9</td>\n",
       "      <td>1143</td>\n",
       "      <td>95</td>\n",
       "      <td>1178</td>\n",
       "      <td>61</td>\n",
       "      <td>H</td>\n",
       "      <td>0</td>\n",
       "      <td>Regular</td>\n",
       "      <td>4027.0</td>\n",
       "    </tr>\n",
       "  </tbody>\n",
       "</table>\n",
       "</div>"
      ],
      "text/plain": [
       "   Season  DayNum  WTeamID  WScore  LTeamID  LScore WLoc  NumOT   CRType  \\\n",
       "0    2010       7     1143      75     1293      70    H      0  Regular   \n",
       "1    2010       7     1314      88     1198      72    H      0  Regular   \n",
       "2    2010       7     1326     100     1108      60    H      0  Regular   \n",
       "3    2010       7     1393      75     1107      43    H      0  Regular   \n",
       "4    2010       9     1143      95     1178      61    H      0  Regular   \n",
       "\n",
       "   CityID  \n",
       "0  4027.0  \n",
       "1  4061.0  \n",
       "2  4080.0  \n",
       "3  4340.0  \n",
       "4  4027.0  "
      ]
     },
     "execution_count": 367,
     "metadata": {},
     "output_type": "execute_result"
    }
   ],
   "source": [
    "comp.head()"
   ]
  },
  {
   "cell_type": "code",
   "execution_count": 373,
   "metadata": {},
   "outputs": [
    {
     "name": "stdout",
     "output_type": "stream",
     "text": [
      "<class 'pandas.core.frame.DataFrame'>\n",
      "RangeIndex: 31251 entries, 0 to 31250\n",
      "Data columns (total 3 columns):\n",
      "Season     31251 non-null int64\n",
      "WTeamID    31251 non-null int64\n",
      "CityID     31251 non-null float64\n",
      "dtypes: float64(1), int64(2)\n",
      "memory usage: 732.6 KB\n"
     ]
    }
   ],
   "source": [
    "comp.info()"
   ]
  },
  {
   "cell_type": "code",
   "execution_count": 370,
   "metadata": {},
   "outputs": [],
   "source": [
    "comp = comp[['Season', 'WTeamID', 'CityID']]"
   ]
  },
  {
   "cell_type": "code",
   "execution_count": 375,
   "metadata": {},
   "outputs": [],
   "source": [
    "comp = comp.drop_duplicates()"
   ]
  },
  {
   "cell_type": "code",
   "execution_count": 376,
   "metadata": {},
   "outputs": [
    {
     "name": "stdout",
     "output_type": "stream",
     "text": [
      "<class 'pandas.core.frame.DataFrame'>\n",
      "Int64Index: 3537 entries, 0 to 30479\n",
      "Data columns (total 3 columns):\n",
      "Season     3537 non-null int64\n",
      "WTeamID    3537 non-null int64\n",
      "CityID     3537 non-null float64\n",
      "dtypes: float64(1), int64(2)\n",
      "memory usage: 110.5 KB\n"
     ]
    }
   ],
   "source": [
    "comp.info()"
   ]
  },
  {
   "cell_type": "code",
   "execution_count": 379,
   "metadata": {},
   "outputs": [],
   "source": [
    "comp = comp[['WTeamID', 'CityID']]"
   ]
  },
  {
   "cell_type": "code",
   "execution_count": 380,
   "metadata": {},
   "outputs": [],
   "source": [
    "comp = comp.drop_duplicates()"
   ]
  },
  {
   "cell_type": "code",
   "execution_count": 381,
   "metadata": {},
   "outputs": [
    {
     "name": "stdout",
     "output_type": "stream",
     "text": [
      "<class 'pandas.core.frame.DataFrame'>\n",
      "Int64Index: 374 entries, 0 to 29589\n",
      "Data columns (total 2 columns):\n",
      "WTeamID    374 non-null int64\n",
      "CityID     374 non-null float64\n",
      "dtypes: float64(1), int64(1)\n",
      "memory usage: 8.8 KB\n"
     ]
    }
   ],
   "source": [
    "comp.info()"
   ]
  },
  {
   "cell_type": "code",
   "execution_count": 382,
   "metadata": {},
   "outputs": [
    {
     "data": {
      "text/plain": [
       "1310    2\n",
       "1437    2\n",
       "1385    2\n",
       "1210    2\n",
       "1383    2\n",
       "       ..\n",
       "1345    1\n",
       "1346    1\n",
       "1347    1\n",
       "1348    1\n",
       "1101    1\n",
       "Name: WTeamID, Length: 355, dtype: int64"
      ]
     },
     "execution_count": 382,
     "metadata": {},
     "output_type": "execute_result"
    }
   ],
   "source": [
    "comp['WTeamID'].value_counts()"
   ]
  },
  {
   "cell_type": "code",
   "execution_count": 385,
   "metadata": {},
   "outputs": [],
   "source": [
    "comp.columns = ['TeamID', 'CityID']"
   ]
  },
  {
   "cell_type": "code",
   "execution_count": 389,
   "metadata": {},
   "outputs": [],
   "source": [
    "comp['CityID'] = comp['CityID'].astype(int)"
   ]
  },
  {
   "cell_type": "code",
   "execution_count": 391,
   "metadata": {},
   "outputs": [],
   "source": [
    "comp = pd.merge(comp, CitiesEnriched, on = ['CityID'], how = 'left')"
   ]
  },
  {
   "cell_type": "code",
   "execution_count": 395,
   "metadata": {},
   "outputs": [
    {
     "data": {
      "text/html": [
       "<div>\n",
       "<style scoped>\n",
       "    .dataframe tbody tr th:only-of-type {\n",
       "        vertical-align: middle;\n",
       "    }\n",
       "\n",
       "    .dataframe tbody tr th {\n",
       "        vertical-align: top;\n",
       "    }\n",
       "\n",
       "    .dataframe thead th {\n",
       "        text-align: right;\n",
       "    }\n",
       "</style>\n",
       "<table border=\"1\" class=\"dataframe\">\n",
       "  <thead>\n",
       "    <tr style=\"text-align: right;\">\n",
       "      <th></th>\n",
       "      <th>TeamID</th>\n",
       "      <th>CityID</th>\n",
       "      <th>City</th>\n",
       "      <th>State</th>\n",
       "      <th>Lat</th>\n",
       "      <th>Lng</th>\n",
       "      <th>ElevationMeters</th>\n",
       "      <th>TimezoneName</th>\n",
       "      <th>UTCOffsetHours</th>\n",
       "    </tr>\n",
       "  </thead>\n",
       "  <tbody>\n",
       "    <tr>\n",
       "      <td>136</td>\n",
       "      <td>1310</td>\n",
       "      <td>4242</td>\n",
       "      <td>Niagara Falls</td>\n",
       "      <td>NY</td>\n",
       "      <td>43.096214</td>\n",
       "      <td>-79.037739</td>\n",
       "      <td>176.679825</td>\n",
       "      <td>Eastern Daylight Time</td>\n",
       "      <td>-4.0</td>\n",
       "    </tr>\n",
       "    <tr>\n",
       "      <td>359</td>\n",
       "      <td>1310</td>\n",
       "      <td>4192</td>\n",
       "      <td>Lewiston</td>\n",
       "      <td>NY</td>\n",
       "      <td>43.191949</td>\n",
       "      <td>-78.985381</td>\n",
       "      <td>105.734436</td>\n",
       "      <td>Eastern Daylight Time</td>\n",
       "      <td>-4.0</td>\n",
       "    </tr>\n",
       "  </tbody>\n",
       "</table>\n",
       "</div>"
      ],
      "text/plain": [
       "     TeamID  CityID           City State        Lat        Lng  \\\n",
       "136    1310    4242  Niagara Falls    NY  43.096214 -79.037739   \n",
       "359    1310    4192       Lewiston    NY  43.191949 -78.985381   \n",
       "\n",
       "     ElevationMeters           TimezoneName  UTCOffsetHours  \n",
       "136       176.679825  Eastern Daylight Time            -4.0  \n",
       "359       105.734436  Eastern Daylight Time            -4.0  "
      ]
     },
     "execution_count": 395,
     "metadata": {},
     "output_type": "execute_result"
    }
   ],
   "source": [
    "comp[comp['TeamID'] == 1310]"
   ]
  },
  {
   "cell_type": "code",
   "execution_count": 399,
   "metadata": {},
   "outputs": [],
   "source": [
    "comp = pd.merge(comp, teams, on = ['TeamID'], how = 'left')"
   ]
  },
  {
   "cell_type": "code",
   "execution_count": 402,
   "metadata": {},
   "outputs": [],
   "source": [
    "comp = comp[['TeamID', 'TeamName', 'CityID', 'City', 'State', 'Lat', 'Lng', 'ElevationMeters', 'TimezoneName', 'UTCOffsetHours']]"
   ]
  },
  {
   "cell_type": "code",
   "execution_count": 483,
   "metadata": {},
   "outputs": [
    {
     "data": {
      "text/html": [
       "<div>\n",
       "<style scoped>\n",
       "    .dataframe tbody tr th:only-of-type {\n",
       "        vertical-align: middle;\n",
       "    }\n",
       "\n",
       "    .dataframe tbody tr th {\n",
       "        vertical-align: top;\n",
       "    }\n",
       "\n",
       "    .dataframe thead th {\n",
       "        text-align: right;\n",
       "    }\n",
       "</style>\n",
       "<table border=\"1\" class=\"dataframe\">\n",
       "  <thead>\n",
       "    <tr style=\"text-align: right;\">\n",
       "      <th></th>\n",
       "      <th>TeamID</th>\n",
       "      <th>TeamName</th>\n",
       "      <th>CityID</th>\n",
       "      <th>City</th>\n",
       "      <th>State</th>\n",
       "      <th>Lat</th>\n",
       "      <th>Lng</th>\n",
       "      <th>ElevationMeters</th>\n",
       "      <th>TimezoneName</th>\n",
       "      <th>UTCOffsetHours</th>\n",
       "    </tr>\n",
       "  </thead>\n",
       "  <tbody>\n",
       "    <tr>\n",
       "      <td>43</td>\n",
       "      <td>1321</td>\n",
       "      <td>Northwestern</td>\n",
       "      <td>4113</td>\n",
       "      <td>Evanston</td>\n",
       "      <td>IL</td>\n",
       "      <td>42.045072</td>\n",
       "      <td>-87.687697</td>\n",
       "      <td>184.222977</td>\n",
       "      <td>Central Daylight Time</td>\n",
       "      <td>-5.0</td>\n",
       "    </tr>\n",
       "  </tbody>\n",
       "</table>\n",
       "</div>"
      ],
      "text/plain": [
       "    TeamID      TeamName  CityID      City State        Lat        Lng  \\\n",
       "43    1321  Northwestern    4113  Evanston    IL  42.045072 -87.687697   \n",
       "\n",
       "    ElevationMeters           TimezoneName  UTCOffsetHours  \n",
       "43       184.222977  Central Daylight Time            -5.0  "
      ]
     },
     "execution_count": 483,
     "metadata": {},
     "output_type": "execute_result"
    }
   ],
   "source": [
    "comp[comp['TeamID'] == 1321]"
   ]
  },
  {
   "cell_type": "code",
   "execution_count": 484,
   "metadata": {},
   "outputs": [
    {
     "data": {
      "text/plain": [
       "1466    1\n",
       "1194    1\n",
       "1219    1\n",
       "1220    1\n",
       "1221    1\n",
       "       ..\n",
       "1348    1\n",
       "1349    1\n",
       "1350    1\n",
       "1351    1\n",
       "1101    1\n",
       "Name: TeamID, Length: 355, dtype: int64"
      ]
     },
     "execution_count": 484,
     "metadata": {},
     "output_type": "execute_result"
    }
   ],
   "source": [
    "comp['TeamID'].value_counts()"
   ]
  },
  {
   "cell_type": "code",
   "execution_count": 410,
   "metadata": {},
   "outputs": [],
   "source": [
    "comp = comp.drop([136])"
   ]
  },
  {
   "cell_type": "code",
   "execution_count": 414,
   "metadata": {},
   "outputs": [],
   "source": [
    "comp = comp.drop([130])"
   ]
  },
  {
   "cell_type": "code",
   "execution_count": 418,
   "metadata": {},
   "outputs": [],
   "source": [
    "comp = comp.drop([366])"
   ]
  },
  {
   "cell_type": "code",
   "execution_count": 422,
   "metadata": {},
   "outputs": [],
   "source": [
    "comp = comp.drop([343])"
   ]
  },
  {
   "cell_type": "code",
   "execution_count": 426,
   "metadata": {},
   "outputs": [],
   "source": [
    "comp = comp.drop([367])"
   ]
  },
  {
   "cell_type": "code",
   "execution_count": 430,
   "metadata": {},
   "outputs": [],
   "source": [
    "comp = comp.drop([358])"
   ]
  },
  {
   "cell_type": "code",
   "execution_count": 434,
   "metadata": {},
   "outputs": [],
   "source": [
    "comp = comp.drop([96])"
   ]
  },
  {
   "cell_type": "code",
   "execution_count": 438,
   "metadata": {},
   "outputs": [],
   "source": [
    "comp = comp.drop([368])"
   ]
  },
  {
   "cell_type": "code",
   "execution_count": 442,
   "metadata": {},
   "outputs": [],
   "source": [
    "comp = comp.drop([290])"
   ]
  },
  {
   "cell_type": "code",
   "execution_count": 446,
   "metadata": {},
   "outputs": [],
   "source": [
    "comp = comp.drop([337])"
   ]
  },
  {
   "cell_type": "code",
   "execution_count": 450,
   "metadata": {},
   "outputs": [],
   "source": [
    "comp = comp.drop([355])"
   ]
  },
  {
   "cell_type": "code",
   "execution_count": 454,
   "metadata": {},
   "outputs": [],
   "source": [
    "comp = comp.drop([370])"
   ]
  },
  {
   "cell_type": "code",
   "execution_count": 458,
   "metadata": {},
   "outputs": [],
   "source": [
    "comp = comp.drop([248])"
   ]
  },
  {
   "cell_type": "code",
   "execution_count": 462,
   "metadata": {},
   "outputs": [],
   "source": [
    "comp = comp.drop([371])"
   ]
  },
  {
   "cell_type": "code",
   "execution_count": 466,
   "metadata": {},
   "outputs": [],
   "source": [
    "comp = comp.drop([332])"
   ]
  },
  {
   "cell_type": "code",
   "execution_count": 470,
   "metadata": {},
   "outputs": [],
   "source": [
    "comp = comp.drop([365])"
   ]
  },
  {
   "cell_type": "code",
   "execution_count": 474,
   "metadata": {},
   "outputs": [],
   "source": [
    "comp = comp.drop([357])"
   ]
  },
  {
   "cell_type": "code",
   "execution_count": 478,
   "metadata": {},
   "outputs": [],
   "source": [
    "comp = comp.drop([353])"
   ]
  },
  {
   "cell_type": "code",
   "execution_count": 482,
   "metadata": {},
   "outputs": [],
   "source": [
    "comp = comp.drop([369])"
   ]
  },
  {
   "cell_type": "code",
   "execution_count": 486,
   "metadata": {},
   "outputs": [],
   "source": [
    "comp = comp.reset_index(drop = True)"
   ]
  },
  {
   "cell_type": "code",
   "execution_count": 488,
   "metadata": {},
   "outputs": [
    {
     "data": {
      "text/html": [
       "<div>\n",
       "<style scoped>\n",
       "    .dataframe tbody tr th:only-of-type {\n",
       "        vertical-align: middle;\n",
       "    }\n",
       "\n",
       "    .dataframe tbody tr th {\n",
       "        vertical-align: top;\n",
       "    }\n",
       "\n",
       "    .dataframe thead th {\n",
       "        text-align: right;\n",
       "    }\n",
       "</style>\n",
       "<table border=\"1\" class=\"dataframe\">\n",
       "  <thead>\n",
       "    <tr style=\"text-align: right;\">\n",
       "      <th></th>\n",
       "      <th>TeamID</th>\n",
       "      <th>TeamName</th>\n",
       "      <th>CityID</th>\n",
       "      <th>City</th>\n",
       "      <th>State</th>\n",
       "      <th>Lat</th>\n",
       "      <th>Lng</th>\n",
       "      <th>ElevationMeters</th>\n",
       "      <th>TimezoneName</th>\n",
       "      <th>UTCOffsetHours</th>\n",
       "    </tr>\n",
       "  </thead>\n",
       "  <tbody>\n",
       "    <tr>\n",
       "      <td>0</td>\n",
       "      <td>1143</td>\n",
       "      <td>California</td>\n",
       "      <td>4027</td>\n",
       "      <td>Berkeley</td>\n",
       "      <td>CA</td>\n",
       "      <td>37.871593</td>\n",
       "      <td>-122.272747</td>\n",
       "      <td>51.614422</td>\n",
       "      <td>Pacific Daylight Time</td>\n",
       "      <td>-7.0</td>\n",
       "    </tr>\n",
       "    <tr>\n",
       "      <td>1</td>\n",
       "      <td>1314</td>\n",
       "      <td>North Carolina</td>\n",
       "      <td>4061</td>\n",
       "      <td>Chapel Hill</td>\n",
       "      <td>NC</td>\n",
       "      <td>35.913200</td>\n",
       "      <td>-79.055844</td>\n",
       "      <td>148.552246</td>\n",
       "      <td>Eastern Daylight Time</td>\n",
       "      <td>-4.0</td>\n",
       "    </tr>\n",
       "    <tr>\n",
       "      <td>2</td>\n",
       "      <td>1326</td>\n",
       "      <td>Ohio St</td>\n",
       "      <td>4080</td>\n",
       "      <td>Columbus</td>\n",
       "      <td>OH</td>\n",
       "      <td>39.961176</td>\n",
       "      <td>-82.998794</td>\n",
       "      <td>237.629166</td>\n",
       "      <td>Eastern Daylight Time</td>\n",
       "      <td>-4.0</td>\n",
       "    </tr>\n",
       "    <tr>\n",
       "      <td>3</td>\n",
       "      <td>1393</td>\n",
       "      <td>Syracuse</td>\n",
       "      <td>4340</td>\n",
       "      <td>Syracuse</td>\n",
       "      <td>NY</td>\n",
       "      <td>43.048122</td>\n",
       "      <td>-76.147424</td>\n",
       "      <td>121.362137</td>\n",
       "      <td>Eastern Daylight Time</td>\n",
       "      <td>-4.0</td>\n",
       "    </tr>\n",
       "    <tr>\n",
       "      <td>4</td>\n",
       "      <td>1301</td>\n",
       "      <td>NC State</td>\n",
       "      <td>4287</td>\n",
       "      <td>Raleigh</td>\n",
       "      <td>NC</td>\n",
       "      <td>35.779590</td>\n",
       "      <td>-78.638179</td>\n",
       "      <td>105.629005</td>\n",
       "      <td>Eastern Daylight Time</td>\n",
       "      <td>-4.0</td>\n",
       "    </tr>\n",
       "  </tbody>\n",
       "</table>\n",
       "</div>"
      ],
      "text/plain": [
       "   TeamID        TeamName  CityID         City State        Lat         Lng  \\\n",
       "0    1143      California    4027     Berkeley    CA  37.871593 -122.272747   \n",
       "1    1314  North Carolina    4061  Chapel Hill    NC  35.913200  -79.055844   \n",
       "2    1326         Ohio St    4080     Columbus    OH  39.961176  -82.998794   \n",
       "3    1393        Syracuse    4340     Syracuse    NY  43.048122  -76.147424   \n",
       "4    1301        NC State    4287      Raleigh    NC  35.779590  -78.638179   \n",
       "\n",
       "   ElevationMeters           TimezoneName  UTCOffsetHours  \n",
       "0        51.614422  Pacific Daylight Time            -7.0  \n",
       "1       148.552246  Eastern Daylight Time            -4.0  \n",
       "2       237.629166  Eastern Daylight Time            -4.0  \n",
       "3       121.362137  Eastern Daylight Time            -4.0  \n",
       "4       105.629005  Eastern Daylight Time            -4.0  "
      ]
     },
     "execution_count": 488,
     "metadata": {},
     "output_type": "execute_result"
    }
   ],
   "source": [
    "comp.head()"
   ]
  },
  {
   "cell_type": "code",
   "execution_count": 492,
   "metadata": {},
   "outputs": [],
   "source": [
    "T1_comp = comp.copy()\n",
    "T2_comp = comp.copy()\n",
    "T1_comp.columns = ['T1_TeamID', 'T1_TeamName', 'CityID', 'City', 'State', 'Lat', 'Lng', 'T1_Elevation', 'TimeZone', 'UTCOffset']\n",
    "T2_comp.columns = ['T2_TeamID', 'T2_TeamName', 'CityID', 'City', 'State', 'Lat', 'Lng', 'T2_Elevation', 'TimeZone', 'UTCOffset']"
   ]
  },
  {
   "cell_type": "code",
   "execution_count": 493,
   "metadata": {},
   "outputs": [],
   "source": [
    "T1_comp = T1_comp[['T1_TeamID', 'T1_Elevation']]\n",
    "T2_comp = T2_comp[['T2_TeamID', 'T2_Elevation']]"
   ]
  },
  {
   "cell_type": "code",
   "execution_count": 494,
   "metadata": {},
   "outputs": [],
   "source": [
    "tourney_locations = pd.merge(tourney_locations, T1_comp, on = ['T1_TeamID'], how = 'left')\n",
    "tourney_locations = pd.merge(tourney_locations, T2_comp, on = ['T2_TeamID'], how = 'left')"
   ]
  },
  {
   "cell_type": "code",
   "execution_count": 495,
   "metadata": {},
   "outputs": [
    {
     "data": {
      "text/html": [
       "<div>\n",
       "<style scoped>\n",
       "    .dataframe tbody tr th:only-of-type {\n",
       "        vertical-align: middle;\n",
       "    }\n",
       "\n",
       "    .dataframe tbody tr th {\n",
       "        vertical-align: top;\n",
       "    }\n",
       "\n",
       "    .dataframe thead th {\n",
       "        text-align: right;\n",
       "    }\n",
       "</style>\n",
       "<table border=\"1\" class=\"dataframe\">\n",
       "  <thead>\n",
       "    <tr style=\"text-align: right;\">\n",
       "      <th></th>\n",
       "      <th>Season</th>\n",
       "      <th>T1_TeamID</th>\n",
       "      <th>T2_TeamID</th>\n",
       "      <th>Game_CityID</th>\n",
       "      <th>Game_Lat</th>\n",
       "      <th>Game_Lng</th>\n",
       "      <th>Game_ElevationM</th>\n",
       "      <th>Game_TimeZone</th>\n",
       "      <th>Game_Offset</th>\n",
       "      <th>T1_Lat</th>\n",
       "      <th>T1_Lng</th>\n",
       "      <th>T2_Lat</th>\n",
       "      <th>T2_Lng</th>\n",
       "      <th>T1_Dist</th>\n",
       "      <th>T2_Dist</th>\n",
       "      <th>T1_Elevation</th>\n",
       "      <th>T2_Elevation</th>\n",
       "    </tr>\n",
       "  </thead>\n",
       "  <tbody>\n",
       "    <tr>\n",
       "      <td>0</td>\n",
       "      <td>2003</td>\n",
       "      <td>1411</td>\n",
       "      <td>1421</td>\n",
       "      <td>4091</td>\n",
       "      <td>39.758948</td>\n",
       "      <td>-84.191607</td>\n",
       "      <td>225.558853</td>\n",
       "      <td>Eastern Daylight Time</td>\n",
       "      <td>-4.0</td>\n",
       "      <td>29.763284</td>\n",
       "      <td>-95.363272</td>\n",
       "      <td>35.600945</td>\n",
       "      <td>-82.554015</td>\n",
       "      <td>935.811671</td>\n",
       "      <td>300.465553</td>\n",
       "      <td>14.566981</td>\n",
       "      <td>676.435181</td>\n",
       "    </tr>\n",
       "    <tr>\n",
       "      <td>1</td>\n",
       "      <td>2003</td>\n",
       "      <td>1173</td>\n",
       "      <td>1409</td>\n",
       "      <td>4324</td>\n",
       "      <td>47.658780</td>\n",
       "      <td>-117.426046</td>\n",
       "      <td>571.099487</td>\n",
       "      <td>Pacific Daylight Time</td>\n",
       "      <td>-7.0</td>\n",
       "      <td>39.758948</td>\n",
       "      <td>-84.191607</td>\n",
       "      <td>36.153982</td>\n",
       "      <td>-95.992775</td>\n",
       "      <td>1736.012307</td>\n",
       "      <td>690.062913</td>\n",
       "      <td>225.558853</td>\n",
       "      <td>218.913315</td>\n",
       "    </tr>\n",
       "    <tr>\n",
       "      <td>2</td>\n",
       "      <td>2003</td>\n",
       "      <td>1281</td>\n",
       "      <td>1356</td>\n",
       "      <td>4161</td>\n",
       "      <td>39.768403</td>\n",
       "      <td>-86.158068</td>\n",
       "      <td>222.799728</td>\n",
       "      <td>Eastern Daylight Time</td>\n",
       "      <td>-4.0</td>\n",
       "      <td>38.951705</td>\n",
       "      <td>-92.334072</td>\n",
       "      <td>37.727273</td>\n",
       "      <td>-89.216750</td>\n",
       "      <td>335.437786</td>\n",
       "      <td>305.436922</td>\n",
       "      <td>93.805664</td>\n",
       "      <td>126.338158</td>\n",
       "    </tr>\n",
       "    <tr>\n",
       "      <td>3</td>\n",
       "      <td>2003</td>\n",
       "      <td>1266</td>\n",
       "      <td>1221</td>\n",
       "      <td>4161</td>\n",
       "      <td>39.768403</td>\n",
       "      <td>-86.158068</td>\n",
       "      <td>222.799728</td>\n",
       "      <td>Eastern Daylight Time</td>\n",
       "      <td>-4.0</td>\n",
       "      <td>43.038739</td>\n",
       "      <td>-87.928280</td>\n",
       "      <td>42.262593</td>\n",
       "      <td>-71.802293</td>\n",
       "      <td>243.694572</td>\n",
       "      <td>669.557645</td>\n",
       "      <td>187.231857</td>\n",
       "      <td>147.031601</td>\n",
       "    </tr>\n",
       "    <tr>\n",
       "      <td>4</td>\n",
       "      <td>2003</td>\n",
       "      <td>1231</td>\n",
       "      <td>1104</td>\n",
       "      <td>4039</td>\n",
       "      <td>42.360082</td>\n",
       "      <td>-71.058880</td>\n",
       "      <td>10.447762</td>\n",
       "      <td>Eastern Daylight Time</td>\n",
       "      <td>-4.0</td>\n",
       "      <td>39.165325</td>\n",
       "      <td>-86.526386</td>\n",
       "      <td>33.209841</td>\n",
       "      <td>-87.569174</td>\n",
       "      <td>839.584483</td>\n",
       "      <td>489.065575</td>\n",
       "      <td>233.728775</td>\n",
       "      <td>69.089012</td>\n",
       "    </tr>\n",
       "  </tbody>\n",
       "</table>\n",
       "</div>"
      ],
      "text/plain": [
       "   Season  T1_TeamID  T2_TeamID  Game_CityID   Game_Lat    Game_Lng  \\\n",
       "0    2003       1411       1421         4091  39.758948  -84.191607   \n",
       "1    2003       1173       1409         4324  47.658780 -117.426046   \n",
       "2    2003       1281       1356         4161  39.768403  -86.158068   \n",
       "3    2003       1266       1221         4161  39.768403  -86.158068   \n",
       "4    2003       1231       1104         4039  42.360082  -71.058880   \n",
       "\n",
       "   Game_ElevationM          Game_TimeZone  Game_Offset     T1_Lat     T1_Lng  \\\n",
       "0       225.558853  Eastern Daylight Time         -4.0  29.763284 -95.363272   \n",
       "1       571.099487  Pacific Daylight Time         -7.0  39.758948 -84.191607   \n",
       "2       222.799728  Eastern Daylight Time         -4.0  38.951705 -92.334072   \n",
       "3       222.799728  Eastern Daylight Time         -4.0  43.038739 -87.928280   \n",
       "4        10.447762  Eastern Daylight Time         -4.0  39.165325 -86.526386   \n",
       "\n",
       "      T2_Lat     T2_Lng      T1_Dist     T2_Dist  T1_Elevation  T2_Elevation  \n",
       "0  35.600945 -82.554015   935.811671  300.465553     14.566981    676.435181  \n",
       "1  36.153982 -95.992775  1736.012307  690.062913    225.558853    218.913315  \n",
       "2  37.727273 -89.216750   335.437786  305.436922     93.805664    126.338158  \n",
       "3  42.262593 -71.802293   243.694572  669.557645    187.231857    147.031601  \n",
       "4  33.209841 -87.569174   839.584483  489.065575    233.728775     69.089012  "
      ]
     },
     "execution_count": 495,
     "metadata": {},
     "output_type": "execute_result"
    }
   ],
   "source": [
    "tourney_locations.head()"
   ]
  },
  {
   "cell_type": "code",
   "execution_count": 496,
   "metadata": {},
   "outputs": [],
   "source": [
    "tourney_locations['T1_elev_diff'] = tourney_locations['Game_ElevationM'] - tourney_locations['T1_Elevation']\n",
    "tourney_locations['T2_elev_diff'] = tourney_locations['Game_ElevationM'] - tourney_locations['T2_Elevation']"
   ]
  },
  {
   "cell_type": "code",
   "execution_count": 497,
   "metadata": {},
   "outputs": [
    {
     "data": {
      "text/html": [
       "<div>\n",
       "<style scoped>\n",
       "    .dataframe tbody tr th:only-of-type {\n",
       "        vertical-align: middle;\n",
       "    }\n",
       "\n",
       "    .dataframe tbody tr th {\n",
       "        vertical-align: top;\n",
       "    }\n",
       "\n",
       "    .dataframe thead th {\n",
       "        text-align: right;\n",
       "    }\n",
       "</style>\n",
       "<table border=\"1\" class=\"dataframe\">\n",
       "  <thead>\n",
       "    <tr style=\"text-align: right;\">\n",
       "      <th></th>\n",
       "      <th>Season</th>\n",
       "      <th>T1_TeamID</th>\n",
       "      <th>T2_TeamID</th>\n",
       "      <th>Game_CityID</th>\n",
       "      <th>Game_Lat</th>\n",
       "      <th>Game_Lng</th>\n",
       "      <th>Game_ElevationM</th>\n",
       "      <th>Game_TimeZone</th>\n",
       "      <th>Game_Offset</th>\n",
       "      <th>T1_Lat</th>\n",
       "      <th>T1_Lng</th>\n",
       "      <th>T2_Lat</th>\n",
       "      <th>T2_Lng</th>\n",
       "      <th>T1_Dist</th>\n",
       "      <th>T2_Dist</th>\n",
       "      <th>T1_Elevation</th>\n",
       "      <th>T2_Elevation</th>\n",
       "      <th>T1_elev_diff</th>\n",
       "      <th>T2_elev_diff</th>\n",
       "    </tr>\n",
       "  </thead>\n",
       "  <tbody>\n",
       "    <tr>\n",
       "      <td>0</td>\n",
       "      <td>2003</td>\n",
       "      <td>1411</td>\n",
       "      <td>1421</td>\n",
       "      <td>4091</td>\n",
       "      <td>39.758948</td>\n",
       "      <td>-84.191607</td>\n",
       "      <td>225.558853</td>\n",
       "      <td>Eastern Daylight Time</td>\n",
       "      <td>-4.0</td>\n",
       "      <td>29.763284</td>\n",
       "      <td>-95.363272</td>\n",
       "      <td>35.600945</td>\n",
       "      <td>-82.554015</td>\n",
       "      <td>935.811671</td>\n",
       "      <td>300.465553</td>\n",
       "      <td>14.566981</td>\n",
       "      <td>676.435181</td>\n",
       "      <td>210.991872</td>\n",
       "      <td>-450.876328</td>\n",
       "    </tr>\n",
       "    <tr>\n",
       "      <td>1</td>\n",
       "      <td>2003</td>\n",
       "      <td>1173</td>\n",
       "      <td>1409</td>\n",
       "      <td>4324</td>\n",
       "      <td>47.658780</td>\n",
       "      <td>-117.426046</td>\n",
       "      <td>571.099487</td>\n",
       "      <td>Pacific Daylight Time</td>\n",
       "      <td>-7.0</td>\n",
       "      <td>39.758948</td>\n",
       "      <td>-84.191607</td>\n",
       "      <td>36.153982</td>\n",
       "      <td>-95.992775</td>\n",
       "      <td>1736.012307</td>\n",
       "      <td>690.062913</td>\n",
       "      <td>225.558853</td>\n",
       "      <td>218.913315</td>\n",
       "      <td>345.540634</td>\n",
       "      <td>352.186172</td>\n",
       "    </tr>\n",
       "    <tr>\n",
       "      <td>2</td>\n",
       "      <td>2003</td>\n",
       "      <td>1281</td>\n",
       "      <td>1356</td>\n",
       "      <td>4161</td>\n",
       "      <td>39.768403</td>\n",
       "      <td>-86.158068</td>\n",
       "      <td>222.799728</td>\n",
       "      <td>Eastern Daylight Time</td>\n",
       "      <td>-4.0</td>\n",
       "      <td>38.951705</td>\n",
       "      <td>-92.334072</td>\n",
       "      <td>37.727273</td>\n",
       "      <td>-89.216750</td>\n",
       "      <td>335.437786</td>\n",
       "      <td>305.436922</td>\n",
       "      <td>93.805664</td>\n",
       "      <td>126.338158</td>\n",
       "      <td>128.994064</td>\n",
       "      <td>96.461571</td>\n",
       "    </tr>\n",
       "    <tr>\n",
       "      <td>3</td>\n",
       "      <td>2003</td>\n",
       "      <td>1266</td>\n",
       "      <td>1221</td>\n",
       "      <td>4161</td>\n",
       "      <td>39.768403</td>\n",
       "      <td>-86.158068</td>\n",
       "      <td>222.799728</td>\n",
       "      <td>Eastern Daylight Time</td>\n",
       "      <td>-4.0</td>\n",
       "      <td>43.038739</td>\n",
       "      <td>-87.928280</td>\n",
       "      <td>42.262593</td>\n",
       "      <td>-71.802293</td>\n",
       "      <td>243.694572</td>\n",
       "      <td>669.557645</td>\n",
       "      <td>187.231857</td>\n",
       "      <td>147.031601</td>\n",
       "      <td>35.567871</td>\n",
       "      <td>75.768127</td>\n",
       "    </tr>\n",
       "    <tr>\n",
       "      <td>4</td>\n",
       "      <td>2003</td>\n",
       "      <td>1231</td>\n",
       "      <td>1104</td>\n",
       "      <td>4039</td>\n",
       "      <td>42.360082</td>\n",
       "      <td>-71.058880</td>\n",
       "      <td>10.447762</td>\n",
       "      <td>Eastern Daylight Time</td>\n",
       "      <td>-4.0</td>\n",
       "      <td>39.165325</td>\n",
       "      <td>-86.526386</td>\n",
       "      <td>33.209841</td>\n",
       "      <td>-87.569174</td>\n",
       "      <td>839.584483</td>\n",
       "      <td>489.065575</td>\n",
       "      <td>233.728775</td>\n",
       "      <td>69.089012</td>\n",
       "      <td>-223.281013</td>\n",
       "      <td>-58.641250</td>\n",
       "    </tr>\n",
       "  </tbody>\n",
       "</table>\n",
       "</div>"
      ],
      "text/plain": [
       "   Season  T1_TeamID  T2_TeamID  Game_CityID   Game_Lat    Game_Lng  \\\n",
       "0    2003       1411       1421         4091  39.758948  -84.191607   \n",
       "1    2003       1173       1409         4324  47.658780 -117.426046   \n",
       "2    2003       1281       1356         4161  39.768403  -86.158068   \n",
       "3    2003       1266       1221         4161  39.768403  -86.158068   \n",
       "4    2003       1231       1104         4039  42.360082  -71.058880   \n",
       "\n",
       "   Game_ElevationM          Game_TimeZone  Game_Offset     T1_Lat     T1_Lng  \\\n",
       "0       225.558853  Eastern Daylight Time         -4.0  29.763284 -95.363272   \n",
       "1       571.099487  Pacific Daylight Time         -7.0  39.758948 -84.191607   \n",
       "2       222.799728  Eastern Daylight Time         -4.0  38.951705 -92.334072   \n",
       "3       222.799728  Eastern Daylight Time         -4.0  43.038739 -87.928280   \n",
       "4        10.447762  Eastern Daylight Time         -4.0  39.165325 -86.526386   \n",
       "\n",
       "      T2_Lat     T2_Lng      T1_Dist     T2_Dist  T1_Elevation  T2_Elevation  \\\n",
       "0  35.600945 -82.554015   935.811671  300.465553     14.566981    676.435181   \n",
       "1  36.153982 -95.992775  1736.012307  690.062913    225.558853    218.913315   \n",
       "2  37.727273 -89.216750   335.437786  305.436922     93.805664    126.338158   \n",
       "3  42.262593 -71.802293   243.694572  669.557645    187.231857    147.031601   \n",
       "4  33.209841 -87.569174   839.584483  489.065575    233.728775     69.089012   \n",
       "\n",
       "   T1_elev_diff  T2_elev_diff  \n",
       "0    210.991872   -450.876328  \n",
       "1    345.540634    352.186172  \n",
       "2    128.994064     96.461571  \n",
       "3     35.567871     75.768127  \n",
       "4   -223.281013    -58.641250  "
      ]
     },
     "execution_count": 497,
     "metadata": {},
     "output_type": "execute_result"
    }
   ],
   "source": [
    "tourney_locations.head()"
   ]
  },
  {
   "cell_type": "code",
   "execution_count": 499,
   "metadata": {},
   "outputs": [
    {
     "name": "stdout",
     "output_type": "stream",
     "text": [
      "<class 'pandas.core.frame.DataFrame'>\n",
      "Int64Index: 2230 entries, 0 to 2229\n",
      "Data columns (total 19 columns):\n",
      "Season             2230 non-null int64\n",
      "T1_TeamID          2230 non-null int64\n",
      "T2_TeamID          2230 non-null int64\n",
      "Game_CityID        2230 non-null int64\n",
      "Game_Lat           2230 non-null float64\n",
      "Game_Lng           2230 non-null float64\n",
      "Game_ElevationM    2230 non-null float64\n",
      "Game_TimeZone      2230 non-null object\n",
      "Game_Offset        2230 non-null float64\n",
      "T1_Lat             2230 non-null float64\n",
      "T1_Lng             2230 non-null float64\n",
      "T2_Lat             2230 non-null float64\n",
      "T2_Lng             2230 non-null float64\n",
      "T1_Dist            2230 non-null float64\n",
      "T2_Dist            2230 non-null float64\n",
      "T1_Elevation       2230 non-null float64\n",
      "T2_Elevation       2230 non-null float64\n",
      "T1_elev_diff       2230 non-null float64\n",
      "T2_elev_diff       2230 non-null float64\n",
      "dtypes: float64(14), int64(4), object(1)\n",
      "memory usage: 348.4+ KB\n"
     ]
    }
   ],
   "source": [
    "tourney_locations.info()"
   ]
  },
  {
   "cell_type": "code",
   "execution_count": 501,
   "metadata": {},
   "outputs": [],
   "source": [
    "tourney_locations.to_csv('Data/tourney_locations_updated.csv')"
   ]
  },
  {
   "cell_type": "code",
   "execution_count": null,
   "metadata": {},
   "outputs": [],
   "source": []
  }
 ],
 "metadata": {
  "kernelspec": {
   "display_name": "Python [conda env:learn-env] *",
   "language": "python",
   "name": "conda-env-learn-env-py"
  },
  "language_info": {
   "codemirror_mode": {
    "name": "ipython",
    "version": 3
   },
   "file_extension": ".py",
   "mimetype": "text/x-python",
   "name": "python",
   "nbconvert_exporter": "python",
   "pygments_lexer": "ipython3",
   "version": "3.6.9"
  }
 },
 "nbformat": 4,
 "nbformat_minor": 2
}

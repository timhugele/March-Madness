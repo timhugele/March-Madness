{
 "cells": [
  {
   "cell_type": "markdown",
   "metadata": {},
   "source": [
    "# TrueSkill"
   ]
  },
  {
   "cell_type": "markdown",
   "metadata": {},
   "source": [
    "Purpose: Create a feature that rates teams with a system called TrueSkill."
   ]
  },
  {
   "cell_type": "markdown",
   "metadata": {},
   "source": [
    "### Notebook Outline"
   ]
  },
  {
   "cell_type": "markdown",
   "metadata": {},
   "source": [
    "- Import Libraries\n",
    "- Upload Data\n",
    "- Create Rating Function\n",
    "- Create TrueSkill Ratings\n",
    "- Create TrueSkill Dataframe"
   ]
  },
  {
   "cell_type": "markdown",
   "metadata": {},
   "source": [
    "### Import Libraries"
   ]
  },
  {
   "cell_type": "code",
   "execution_count": 8,
   "metadata": {},
   "outputs": [],
   "source": [
    "import pandas as pd\n",
    "from trueskill import Rating, rate_1vs1\n",
    "from collections import defaultdict"
   ]
  },
  {
   "cell_type": "markdown",
   "metadata": {},
   "source": [
    "### Upload Data"
   ]
  },
  {
   "cell_type": "code",
   "execution_count": 9,
   "metadata": {},
   "outputs": [],
   "source": [
    "results = pd.read_csv('Data/Stage2DataFiles/RegularSeasonCompactResults.csv')\n",
    "tourney = pd.read_csv('Data/Stage2DataFiles/NCAATourneyCompactResults.csv')\n",
    "seeds = pd.read_csv('Data/Stage2DataFiles/NCAATourneySeeds.csv')\n",
    "teams = pd.read_csv('Data/Stage2DataFiles/Teams.csv')"
   ]
  },
  {
   "cell_type": "markdown",
   "metadata": {},
   "source": [
    "### Create Function to Create TrueSkill Rating"
   ]
  },
  {
   "cell_type": "code",
   "execution_count": 12,
   "metadata": {},
   "outputs": [],
   "source": [
    "def get_ratings(season):\n",
    "    '''\n",
    "    Take a season in your dataset and create a TrueSkill rating for every team. All teams start with a default\n",
    "    rating and is then updated with each game played. The function then takes the season input into the function \n",
    "    and filters the results dataframe for only that one season. The function then loops through every game and \n",
    "    updates the ratings based on which team wins and which team loses. The more games that are played, the more \n",
    "    accurate the rating is. A dictionary with the TrueSkill ratings is returned.\n",
    "    -\n",
    "    Inputs:\n",
    "    Season\n",
    "    -\n",
    "    Outputs: \n",
    "    TrueSkill Rating Dictionary\n",
    "    '''\n",
    "    # start all teams with a default rating\n",
    "    ratings = defaultdict(Rating)         \n",
    "    # get data for season\n",
    "    current_results = results[results['Season'] == season]                                           \n",
    "    # at the start, all teams are equal which is not realistic so we loop\n",
    "    # through the season's games several times to get better starting ratings\n",
    "    for epoch in range(10):                                 \n",
    "        # loop through the games in order\n",
    "        for _, row in current_results.sort_values('DayNum').iterrows():                                                    \n",
    "            wteamid = row['WTeamID']                                                                 \n",
    "            lteamid = row['LTeamID']    \n",
    "            # have TrueSkill compute new ratings based on the game result\n",
    "            ratings[wteamid], ratings[lteamid] = rate_1vs1(ratings[wteamid], ratings[lteamid])       \n",
    "    # just keep the mean rating\n",
    "    return {team_id: rating.mu for team_id, rating in ratings.items()}"
   ]
  },
  {
   "cell_type": "markdown",
   "metadata": {},
   "source": [
    "### Create TrueSkill Ratings"
   ]
  },
  {
   "cell_type": "markdown",
   "metadata": {},
   "source": [
    "The above function is slow, therefore we use multiprocessing to compute all team ratings in parallel."
   ]
  },
  {
   "cell_type": "code",
   "execution_count": 13,
   "metadata": {},
   "outputs": [],
   "source": [
    "from multiprocessing import Pool\n",
    "\n",
    "p = Pool()    \n",
    "seasons = results['Season'].unique()\n",
    "ratings = p.map(get_ratings, seasons)                                                                \n",
    "p.close()                                                                                            \n",
    "p.join() \n",
    "\n",
    "# put ratings into a dict for easy access\n",
    "ratings = dict(zip(seasons, ratings))\n",
    "\n",
    "# lets take a look at 2019 rankings\n",
    "team_names = dict(zip(teams['TeamID'], teams['TeamName']))"
   ]
  },
  {
   "cell_type": "markdown",
   "metadata": {},
   "source": [
    "Create ratings Dataframe for 2019."
   ]
  },
  {
   "cell_type": "code",
   "execution_count": 14,
   "metadata": {},
   "outputs": [
    {
     "data": {
      "text/html": [
       "<div>\n",
       "<style scoped>\n",
       "    .dataframe tbody tr th:only-of-type {\n",
       "        vertical-align: middle;\n",
       "    }\n",
       "\n",
       "    .dataframe tbody tr th {\n",
       "        vertical-align: top;\n",
       "    }\n",
       "\n",
       "    .dataframe thead th {\n",
       "        text-align: right;\n",
       "    }\n",
       "</style>\n",
       "<table border=\"1\" class=\"dataframe\">\n",
       "  <thead>\n",
       "    <tr style=\"text-align: right;\">\n",
       "      <th></th>\n",
       "      <th>TeamID</th>\n",
       "      <th>Rating</th>\n",
       "    </tr>\n",
       "  </thead>\n",
       "  <tbody>\n",
       "    <tr>\n",
       "      <td>58</td>\n",
       "      <td>Virginia</td>\n",
       "      <td>43.571669</td>\n",
       "    </tr>\n",
       "    <tr>\n",
       "      <td>104</td>\n",
       "      <td>Duke</td>\n",
       "      <td>42.585001</td>\n",
       "    </tr>\n",
       "    <tr>\n",
       "      <td>44</td>\n",
       "      <td>North Carolina</td>\n",
       "      <td>41.289900</td>\n",
       "    </tr>\n",
       "    <tr>\n",
       "      <td>249</td>\n",
       "      <td>Tennessee</td>\n",
       "      <td>40.798078</td>\n",
       "    </tr>\n",
       "    <tr>\n",
       "      <td>318</td>\n",
       "      <td>Houston</td>\n",
       "      <td>40.511739</td>\n",
       "    </tr>\n",
       "    <tr>\n",
       "      <td>...</td>\n",
       "      <td>...</td>\n",
       "      <td>...</td>\n",
       "    </tr>\n",
       "    <tr>\n",
       "      <td>149</td>\n",
       "      <td>MS Valley St</td>\n",
       "      <td>10.735895</td>\n",
       "    </tr>\n",
       "    <tr>\n",
       "      <td>141</td>\n",
       "      <td>MD E Shore</td>\n",
       "      <td>10.562677</td>\n",
       "    </tr>\n",
       "    <tr>\n",
       "      <td>5</td>\n",
       "      <td>Alabama A&amp;M</td>\n",
       "      <td>10.394607</td>\n",
       "    </tr>\n",
       "    <tr>\n",
       "      <td>103</td>\n",
       "      <td>Delaware St</td>\n",
       "      <td>9.887045</td>\n",
       "    </tr>\n",
       "    <tr>\n",
       "      <td>337</td>\n",
       "      <td>UNC Asheville</td>\n",
       "      <td>9.805929</td>\n",
       "    </tr>\n",
       "  </tbody>\n",
       "</table>\n",
       "<p>353 rows × 2 columns</p>\n",
       "</div>"
      ],
      "text/plain": [
       "             TeamID     Rating\n",
       "58         Virginia  43.571669\n",
       "104            Duke  42.585001\n",
       "44   North Carolina  41.289900\n",
       "249       Tennessee  40.798078\n",
       "318         Houston  40.511739\n",
       "..              ...        ...\n",
       "149    MS Valley St  10.735895\n",
       "141      MD E Shore  10.562677\n",
       "5       Alabama A&M  10.394607\n",
       "103     Delaware St   9.887045\n",
       "337   UNC Asheville   9.805929\n",
       "\n",
       "[353 rows x 2 columns]"
      ]
     },
     "execution_count": 14,
     "metadata": {},
     "output_type": "execute_result"
    }
   ],
   "source": [
    "ratings_2019 = [(team_names[t], r) for t, r in ratings[2019].items()]\n",
    "pd.DataFrame(ratings_2019, columns=['TeamID', 'Rating']).sort_values('Rating', ascending=False)"
   ]
  },
  {
   "cell_type": "markdown",
   "metadata": {},
   "source": [
    "Create a list of dictionaries that includes each team's TrueSkill rating for each year."
   ]
  },
  {
   "cell_type": "code",
   "execution_count": 15,
   "metadata": {},
   "outputs": [],
   "source": [
    "all_ratings_list = []\n",
    "for y in list(ratings.keys()):\n",
    "    for t in list(ratings[y].keys()):\n",
    "        rank = ratings[y][t]\n",
    "        all_ratings = {'year' : y, 'team' : t, 'ts_rank' : rank}\n",
    "        all_ratings_list.append(all_ratings)"
   ]
  },
  {
   "cell_type": "markdown",
   "metadata": {},
   "source": [
    "### Create TrueSkill dataframe."
   ]
  },
  {
   "cell_type": "code",
   "execution_count": 16,
   "metadata": {},
   "outputs": [],
   "source": [
    "true_skill_df = pd.DataFrame(all_ratings_list)"
   ]
  },
  {
   "cell_type": "code",
   "execution_count": 17,
   "metadata": {},
   "outputs": [
    {
     "data": {
      "text/html": [
       "<div>\n",
       "<style scoped>\n",
       "    .dataframe tbody tr th:only-of-type {\n",
       "        vertical-align: middle;\n",
       "    }\n",
       "\n",
       "    .dataframe tbody tr th {\n",
       "        vertical-align: top;\n",
       "    }\n",
       "\n",
       "    .dataframe thead th {\n",
       "        text-align: right;\n",
       "    }\n",
       "</style>\n",
       "<table border=\"1\" class=\"dataframe\">\n",
       "  <thead>\n",
       "    <tr style=\"text-align: right;\">\n",
       "      <th></th>\n",
       "      <th>year</th>\n",
       "      <th>team</th>\n",
       "      <th>ts_rank</th>\n",
       "    </tr>\n",
       "  </thead>\n",
       "  <tbody>\n",
       "    <tr>\n",
       "      <td>0</td>\n",
       "      <td>1985</td>\n",
       "      <td>1228</td>\n",
       "      <td>37.405463</td>\n",
       "    </tr>\n",
       "    <tr>\n",
       "      <td>1</td>\n",
       "      <td>1985</td>\n",
       "      <td>1328</td>\n",
       "      <td>37.848866</td>\n",
       "    </tr>\n",
       "    <tr>\n",
       "      <td>2</td>\n",
       "      <td>1985</td>\n",
       "      <td>1417</td>\n",
       "      <td>30.283133</td>\n",
       "    </tr>\n",
       "    <tr>\n",
       "      <td>3</td>\n",
       "      <td>1985</td>\n",
       "      <td>1225</td>\n",
       "      <td>18.579489</td>\n",
       "    </tr>\n",
       "    <tr>\n",
       "      <td>4</td>\n",
       "      <td>1985</td>\n",
       "      <td>1412</td>\n",
       "      <td>33.268603</td>\n",
       "    </tr>\n",
       "  </tbody>\n",
       "</table>\n",
       "</div>"
      ],
      "text/plain": [
       "   year  team    ts_rank\n",
       "0  1985  1228  37.405463\n",
       "1  1985  1328  37.848866\n",
       "2  1985  1417  30.283133\n",
       "3  1985  1225  18.579489\n",
       "4  1985  1412  33.268603"
      ]
     },
     "execution_count": 17,
     "metadata": {},
     "output_type": "execute_result"
    }
   ],
   "source": [
    "true_skill_df.head()"
   ]
  },
  {
   "cell_type": "code",
   "execution_count": 18,
   "metadata": {},
   "outputs": [],
   "source": [
    "# true_skill_df.to_csv(\"Data/TrueSkill.csv\", index = None)"
   ]
  },
  {
   "cell_type": "markdown",
   "metadata": {},
   "source": [
    "Source: [Kaggle Notebook](https://www.kaggle.com/gkoundry/rating-teams-using-microsoft-s-trueskill-algorithm)"
   ]
  },
  {
   "cell_type": "code",
   "execution_count": null,
   "metadata": {},
   "outputs": [],
   "source": []
  }
 ],
 "metadata": {
  "kernelspec": {
   "display_name": "Python [conda env:learn-env] *",
   "language": "python",
   "name": "conda-env-learn-env-py"
  },
  "language_info": {
   "codemirror_mode": {
    "name": "ipython",
    "version": 3
   },
   "file_extension": ".py",
   "mimetype": "text/x-python",
   "name": "python",
   "nbconvert_exporter": "python",
   "pygments_lexer": "ipython3",
   "version": "3.6.9"
  }
 },
 "nbformat": 4,
 "nbformat_minor": 2
}
